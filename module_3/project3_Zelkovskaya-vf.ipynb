{
 "cells": [
  {
   "cell_type": "markdown",
   "metadata": {},
   "source": [
    "# Загрузка Pandas и очистка данных"
   ]
  },
  {
   "cell_type": "code",
   "execution_count": 1,
   "metadata": {},
   "outputs": [],
   "source": [
    "import numpy as np # linear algebra\n",
    "import pandas as pd # data processing, CSV file I/O (e.g. pd.read_csv)\n",
    "\n",
    "import matplotlib.pyplot as plt\n",
    "import seaborn as sns \n",
    "%matplotlib inline\n",
    "\n",
    "# Загружаем специальный удобный инструмент для разделения датасета:\n",
    "from sklearn.model_selection import train_test_split"
   ]
  },
  {
   "cell_type": "code",
   "execution_count": 2,
   "metadata": {},
   "outputs": [],
   "source": [
    "# всегда фиксируйте RANDOM_SEED, чтобы ваши эксперименты были воспроизводимы!\n",
    "RANDOM_SEED = 42"
   ]
  },
  {
   "cell_type": "code",
   "execution_count": 3,
   "metadata": {},
   "outputs": [],
   "source": [
    "# зафиксируем версию пакетов, чтобы эксперименты были воспроизводимы:\n",
    "!pip freeze > requirements.txt"
   ]
  },
  {
   "cell_type": "markdown",
   "metadata": {},
   "source": [
    "# DATA"
   ]
  },
  {
   "cell_type": "code",
   "execution_count": 4,
   "metadata": {},
   "outputs": [
    {
     "data": {
      "text/html": [
       "<div>\n",
       "<style scoped>\n",
       "    .dataframe tbody tr th:only-of-type {\n",
       "        vertical-align: middle;\n",
       "    }\n",
       "\n",
       "    .dataframe tbody tr th {\n",
       "        vertical-align: top;\n",
       "    }\n",
       "\n",
       "    .dataframe thead th {\n",
       "        text-align: right;\n",
       "    }\n",
       "</style>\n",
       "<table border=\"1\" class=\"dataframe\">\n",
       "  <thead>\n",
       "    <tr style=\"text-align: right;\">\n",
       "      <th></th>\n",
       "      <th>Restaurant_id</th>\n",
       "      <th>City</th>\n",
       "      <th>Cuisine Style</th>\n",
       "      <th>Ranking</th>\n",
       "      <th>Rating</th>\n",
       "      <th>Price Range</th>\n",
       "      <th>Number of Reviews</th>\n",
       "      <th>Reviews</th>\n",
       "      <th>URL_TA</th>\n",
       "      <th>ID_TA</th>\n",
       "    </tr>\n",
       "  </thead>\n",
       "  <tbody>\n",
       "    <tr>\n",
       "      <th>0</th>\n",
       "      <td>id_5569</td>\n",
       "      <td>Paris</td>\n",
       "      <td>['European', 'French', 'International']</td>\n",
       "      <td>5570.0</td>\n",
       "      <td>3.5</td>\n",
       "      <td>$$ - $$$</td>\n",
       "      <td>194.0</td>\n",
       "      <td>[['Good food at your doorstep', 'A good hotel ...</td>\n",
       "      <td>/Restaurant_Review-g187147-d1912643-Reviews-R_...</td>\n",
       "      <td>d1912643</td>\n",
       "    </tr>\n",
       "    <tr>\n",
       "      <th>1</th>\n",
       "      <td>id_1535</td>\n",
       "      <td>Stockholm</td>\n",
       "      <td>NaN</td>\n",
       "      <td>1537.0</td>\n",
       "      <td>4.0</td>\n",
       "      <td>NaN</td>\n",
       "      <td>10.0</td>\n",
       "      <td>[['Unique cuisine', 'Delicious Nepalese food']...</td>\n",
       "      <td>/Restaurant_Review-g189852-d7992032-Reviews-Bu...</td>\n",
       "      <td>d7992032</td>\n",
       "    </tr>\n",
       "    <tr>\n",
       "      <th>2</th>\n",
       "      <td>id_352</td>\n",
       "      <td>London</td>\n",
       "      <td>['Japanese', 'Sushi', 'Asian', 'Grill', 'Veget...</td>\n",
       "      <td>353.0</td>\n",
       "      <td>4.5</td>\n",
       "      <td>$$$$</td>\n",
       "      <td>688.0</td>\n",
       "      <td>[['Catch up with friends', 'Not exceptional'],...</td>\n",
       "      <td>/Restaurant_Review-g186338-d8632781-Reviews-RO...</td>\n",
       "      <td>d8632781</td>\n",
       "    </tr>\n",
       "    <tr>\n",
       "      <th>3</th>\n",
       "      <td>id_3456</td>\n",
       "      <td>Berlin</td>\n",
       "      <td>NaN</td>\n",
       "      <td>3458.0</td>\n",
       "      <td>5.0</td>\n",
       "      <td>NaN</td>\n",
       "      <td>3.0</td>\n",
       "      <td>[[], []]</td>\n",
       "      <td>/Restaurant_Review-g187323-d1358776-Reviews-Es...</td>\n",
       "      <td>d1358776</td>\n",
       "    </tr>\n",
       "    <tr>\n",
       "      <th>4</th>\n",
       "      <td>id_615</td>\n",
       "      <td>Munich</td>\n",
       "      <td>['German', 'Central European', 'Vegetarian Fri...</td>\n",
       "      <td>621.0</td>\n",
       "      <td>4.0</td>\n",
       "      <td>$$ - $$$</td>\n",
       "      <td>84.0</td>\n",
       "      <td>[['Best place to try a Bavarian food', 'Nice b...</td>\n",
       "      <td>/Restaurant_Review-g187309-d6864963-Reviews-Au...</td>\n",
       "      <td>d6864963</td>\n",
       "    </tr>\n",
       "  </tbody>\n",
       "</table>\n",
       "</div>"
      ],
      "text/plain": [
       "  Restaurant_id       City                                      Cuisine Style  \\\n",
       "0       id_5569      Paris            ['European', 'French', 'International']   \n",
       "1       id_1535  Stockholm                                                NaN   \n",
       "2        id_352     London  ['Japanese', 'Sushi', 'Asian', 'Grill', 'Veget...   \n",
       "3       id_3456     Berlin                                                NaN   \n",
       "4        id_615     Munich  ['German', 'Central European', 'Vegetarian Fri...   \n",
       "\n",
       "   Ranking  Rating Price Range  Number of Reviews  \\\n",
       "0   5570.0     3.5    $$ - $$$              194.0   \n",
       "1   1537.0     4.0         NaN               10.0   \n",
       "2    353.0     4.5        $$$$              688.0   \n",
       "3   3458.0     5.0         NaN                3.0   \n",
       "4    621.0     4.0    $$ - $$$               84.0   \n",
       "\n",
       "                                             Reviews  \\\n",
       "0  [['Good food at your doorstep', 'A good hotel ...   \n",
       "1  [['Unique cuisine', 'Delicious Nepalese food']...   \n",
       "2  [['Catch up with friends', 'Not exceptional'],...   \n",
       "3                                           [[], []]   \n",
       "4  [['Best place to try a Bavarian food', 'Nice b...   \n",
       "\n",
       "                                              URL_TA     ID_TA  \n",
       "0  /Restaurant_Review-g187147-d1912643-Reviews-R_...  d1912643  \n",
       "1  /Restaurant_Review-g189852-d7992032-Reviews-Bu...  d7992032  \n",
       "2  /Restaurant_Review-g186338-d8632781-Reviews-RO...  d8632781  \n",
       "3  /Restaurant_Review-g187323-d1358776-Reviews-Es...  d1358776  \n",
       "4  /Restaurant_Review-g187309-d6864963-Reviews-Au...  d6864963  "
      ]
     },
     "execution_count": 4,
     "metadata": {},
     "output_type": "execute_result"
    }
   ],
   "source": [
    "df_train = pd.read_csv('main_task.csv')\n",
    "df_train.head()"
   ]
  },
  {
   "cell_type": "code",
   "execution_count": 5,
   "metadata": {},
   "outputs": [
    {
     "name": "stdout",
     "output_type": "stream",
     "text": [
      "<class 'pandas.core.frame.DataFrame'>\n",
      "RangeIndex: 40000 entries, 0 to 39999\n",
      "Data columns (total 10 columns):\n",
      " #   Column             Non-Null Count  Dtype  \n",
      "---  ------             --------------  -----  \n",
      " 0   Restaurant_id      40000 non-null  object \n",
      " 1   City               40000 non-null  object \n",
      " 2   Cuisine Style      30717 non-null  object \n",
      " 3   Ranking            40000 non-null  float64\n",
      " 4   Rating             40000 non-null  float64\n",
      " 5   Price Range        26114 non-null  object \n",
      " 6   Number of Reviews  37457 non-null  float64\n",
      " 7   Reviews            40000 non-null  object \n",
      " 8   URL_TA             40000 non-null  object \n",
      " 9   ID_TA              40000 non-null  object \n",
      "dtypes: float64(3), object(7)\n",
      "memory usage: 3.1+ MB\n"
     ]
    }
   ],
   "source": [
    "df_train.info()"
   ]
  },
  {
   "cell_type": "code",
   "execution_count": 6,
   "metadata": {},
   "outputs": [
    {
     "data": {
      "text/html": [
       "<div>\n",
       "<style scoped>\n",
       "    .dataframe tbody tr th:only-of-type {\n",
       "        vertical-align: middle;\n",
       "    }\n",
       "\n",
       "    .dataframe tbody tr th {\n",
       "        vertical-align: top;\n",
       "    }\n",
       "\n",
       "    .dataframe thead th {\n",
       "        text-align: right;\n",
       "    }\n",
       "</style>\n",
       "<table border=\"1\" class=\"dataframe\">\n",
       "  <thead>\n",
       "    <tr style=\"text-align: right;\">\n",
       "      <th></th>\n",
       "      <th>Restaurant_id</th>\n",
       "      <th>Rating</th>\n",
       "    </tr>\n",
       "  </thead>\n",
       "  <tbody>\n",
       "    <tr>\n",
       "      <th>0</th>\n",
       "      <td>id_0</td>\n",
       "      <td>2.0</td>\n",
       "    </tr>\n",
       "    <tr>\n",
       "      <th>1</th>\n",
       "      <td>id_1</td>\n",
       "      <td>2.5</td>\n",
       "    </tr>\n",
       "    <tr>\n",
       "      <th>2</th>\n",
       "      <td>id_2</td>\n",
       "      <td>4.0</td>\n",
       "    </tr>\n",
       "    <tr>\n",
       "      <th>3</th>\n",
       "      <td>id_3</td>\n",
       "      <td>1.0</td>\n",
       "    </tr>\n",
       "    <tr>\n",
       "      <th>4</th>\n",
       "      <td>id_4</td>\n",
       "      <td>4.0</td>\n",
       "    </tr>\n",
       "  </tbody>\n",
       "</table>\n",
       "</div>"
      ],
      "text/plain": [
       "  Restaurant_id  Rating\n",
       "0          id_0     2.0\n",
       "1          id_1     2.5\n",
       "2          id_2     4.0\n",
       "3          id_3     1.0\n",
       "4          id_4     4.0"
      ]
     },
     "execution_count": 6,
     "metadata": {},
     "output_type": "execute_result"
    }
   ],
   "source": [
    "sample_submission= pd.read_csv('sample_submission.csv')\n",
    "sample_submission.head()"
   ]
  },
  {
   "cell_type": "code",
   "execution_count": 7,
   "metadata": {},
   "outputs": [
    {
     "name": "stdout",
     "output_type": "stream",
     "text": [
      "<class 'pandas.core.frame.DataFrame'>\n",
      "RangeIndex: 10000 entries, 0 to 9999\n",
      "Data columns (total 2 columns):\n",
      " #   Column         Non-Null Count  Dtype  \n",
      "---  ------         --------------  -----  \n",
      " 0   Restaurant_id  10000 non-null  object \n",
      " 1   Rating         10000 non-null  float64\n",
      "dtypes: float64(1), object(1)\n",
      "memory usage: 156.4+ KB\n"
     ]
    }
   ],
   "source": [
    "sample_submission.info()"
   ]
  },
  {
   "cell_type": "code",
   "execution_count": 8,
   "metadata": {},
   "outputs": [
    {
     "data": {
      "text/html": [
       "<div>\n",
       "<style scoped>\n",
       "    .dataframe tbody tr th:only-of-type {\n",
       "        vertical-align: middle;\n",
       "    }\n",
       "\n",
       "    .dataframe tbody tr th {\n",
       "        vertical-align: top;\n",
       "    }\n",
       "\n",
       "    .dataframe thead th {\n",
       "        text-align: right;\n",
       "    }\n",
       "</style>\n",
       "<table border=\"1\" class=\"dataframe\">\n",
       "  <thead>\n",
       "    <tr style=\"text-align: right;\">\n",
       "      <th></th>\n",
       "      <th>Restaurant_id</th>\n",
       "      <th>City</th>\n",
       "      <th>Cuisine Style</th>\n",
       "      <th>Ranking</th>\n",
       "      <th>Price Range</th>\n",
       "      <th>Number of Reviews</th>\n",
       "      <th>Reviews</th>\n",
       "      <th>URL_TA</th>\n",
       "      <th>ID_TA</th>\n",
       "    </tr>\n",
       "  </thead>\n",
       "  <tbody>\n",
       "    <tr>\n",
       "      <th>0</th>\n",
       "      <td>id_0</td>\n",
       "      <td>Paris</td>\n",
       "      <td>['Bar', 'Pub']</td>\n",
       "      <td>12963.0</td>\n",
       "      <td>$$ - $$$</td>\n",
       "      <td>4.0</td>\n",
       "      <td>[[], []]</td>\n",
       "      <td>/Restaurant_Review-g187147-d10746918-Reviews-L...</td>\n",
       "      <td>d10746918</td>\n",
       "    </tr>\n",
       "    <tr>\n",
       "      <th>1</th>\n",
       "      <td>id_1</td>\n",
       "      <td>Helsinki</td>\n",
       "      <td>['European', 'Scandinavian', 'Gluten Free Opti...</td>\n",
       "      <td>106.0</td>\n",
       "      <td>$$ - $$$</td>\n",
       "      <td>97.0</td>\n",
       "      <td>[['Very good reviews!', 'Fine dining in Hakani...</td>\n",
       "      <td>/Restaurant_Review-g189934-d6674944-Reviews-Ra...</td>\n",
       "      <td>d6674944</td>\n",
       "    </tr>\n",
       "    <tr>\n",
       "      <th>2</th>\n",
       "      <td>id_2</td>\n",
       "      <td>Edinburgh</td>\n",
       "      <td>['Vegetarian Friendly']</td>\n",
       "      <td>810.0</td>\n",
       "      <td>$$ - $$$</td>\n",
       "      <td>28.0</td>\n",
       "      <td>[['Better than the Links', 'Ivy Black'], ['12/...</td>\n",
       "      <td>/Restaurant_Review-g186525-d13129638-Reviews-B...</td>\n",
       "      <td>d13129638</td>\n",
       "    </tr>\n",
       "    <tr>\n",
       "      <th>3</th>\n",
       "      <td>id_3</td>\n",
       "      <td>London</td>\n",
       "      <td>['Italian', 'Mediterranean', 'European', 'Vege...</td>\n",
       "      <td>1669.0</td>\n",
       "      <td>$$$$</td>\n",
       "      <td>202.0</td>\n",
       "      <td>[['Most exquisite', 'Delicious and authentic']...</td>\n",
       "      <td>/Restaurant_Review-g186338-d680417-Reviews-Qui...</td>\n",
       "      <td>d680417</td>\n",
       "    </tr>\n",
       "    <tr>\n",
       "      <th>4</th>\n",
       "      <td>id_4</td>\n",
       "      <td>Bratislava</td>\n",
       "      <td>['Italian', 'Mediterranean', 'European', 'Seaf...</td>\n",
       "      <td>37.0</td>\n",
       "      <td>$$$$</td>\n",
       "      <td>162.0</td>\n",
       "      <td>[['Always the best in bratislava', 'Very good ...</td>\n",
       "      <td>/Restaurant_Review-g274924-d1112354-Reviews-Ma...</td>\n",
       "      <td>d1112354</td>\n",
       "    </tr>\n",
       "  </tbody>\n",
       "</table>\n",
       "</div>"
      ],
      "text/plain": [
       "  Restaurant_id        City  \\\n",
       "0          id_0       Paris   \n",
       "1          id_1    Helsinki   \n",
       "2          id_2   Edinburgh   \n",
       "3          id_3      London   \n",
       "4          id_4  Bratislava   \n",
       "\n",
       "                                       Cuisine Style  Ranking Price Range  \\\n",
       "0                                     ['Bar', 'Pub']  12963.0    $$ - $$$   \n",
       "1  ['European', 'Scandinavian', 'Gluten Free Opti...    106.0    $$ - $$$   \n",
       "2                            ['Vegetarian Friendly']    810.0    $$ - $$$   \n",
       "3  ['Italian', 'Mediterranean', 'European', 'Vege...   1669.0        $$$$   \n",
       "4  ['Italian', 'Mediterranean', 'European', 'Seaf...     37.0        $$$$   \n",
       "\n",
       "   Number of Reviews                                            Reviews  \\\n",
       "0                4.0                                           [[], []]   \n",
       "1               97.0  [['Very good reviews!', 'Fine dining in Hakani...   \n",
       "2               28.0  [['Better than the Links', 'Ivy Black'], ['12/...   \n",
       "3              202.0  [['Most exquisite', 'Delicious and authentic']...   \n",
       "4              162.0  [['Always the best in bratislava', 'Very good ...   \n",
       "\n",
       "                                              URL_TA      ID_TA  \n",
       "0  /Restaurant_Review-g187147-d10746918-Reviews-L...  d10746918  \n",
       "1  /Restaurant_Review-g189934-d6674944-Reviews-Ra...   d6674944  \n",
       "2  /Restaurant_Review-g186525-d13129638-Reviews-B...  d13129638  \n",
       "3  /Restaurant_Review-g186338-d680417-Reviews-Qui...    d680417  \n",
       "4  /Restaurant_Review-g274924-d1112354-Reviews-Ma...   d1112354  "
      ]
     },
     "execution_count": 8,
     "metadata": {},
     "output_type": "execute_result"
    }
   ],
   "source": [
    "df_test= pd.read_csv('kaggle_task.csv')\n",
    "df_test.head()"
   ]
  },
  {
   "cell_type": "code",
   "execution_count": 9,
   "metadata": {},
   "outputs": [
    {
     "name": "stdout",
     "output_type": "stream",
     "text": [
      "<class 'pandas.core.frame.DataFrame'>\n",
      "RangeIndex: 10000 entries, 0 to 9999\n",
      "Data columns (total 9 columns):\n",
      " #   Column             Non-Null Count  Dtype  \n",
      "---  ------             --------------  -----  \n",
      " 0   Restaurant_id      10000 non-null  object \n",
      " 1   City               10000 non-null  object \n",
      " 2   Cuisine Style      7693 non-null   object \n",
      " 3   Ranking            10000 non-null  float64\n",
      " 4   Price Range        6525 non-null   object \n",
      " 5   Number of Reviews  9343 non-null   float64\n",
      " 6   Reviews            9998 non-null   object \n",
      " 7   URL_TA             10000 non-null  object \n",
      " 8   ID_TA              10000 non-null  object \n",
      "dtypes: float64(2), object(7)\n",
      "memory usage: 703.2+ KB\n"
     ]
    }
   ],
   "source": [
    "df_test.info()"
   ]
  },
  {
   "cell_type": "code",
   "execution_count": 10,
   "metadata": {},
   "outputs": [],
   "source": [
    "# ВАЖНО! дря корректной обработки признаков объединяем трейн и тест в один датасет\n",
    "df_train['sample'] = 1 # помечаем где у нас трейн\n",
    "df_test['sample'] = 0 # помечаем где у нас тест\n",
    "df_test['Rating'] = 0 # в тесте у нас нет значения Rating, мы его должны предсказать, по этому пока просто заполняем нулями\n",
    "\n",
    "data = df_test.append(df_train, sort=False).reset_index(drop=True) # объединяем"
   ]
  },
  {
   "cell_type": "code",
   "execution_count": 11,
   "metadata": {},
   "outputs": [
    {
     "name": "stdout",
     "output_type": "stream",
     "text": [
      "<class 'pandas.core.frame.DataFrame'>\n",
      "RangeIndex: 50000 entries, 0 to 49999\n",
      "Data columns (total 11 columns):\n",
      " #   Column             Non-Null Count  Dtype  \n",
      "---  ------             --------------  -----  \n",
      " 0   Restaurant_id      50000 non-null  object \n",
      " 1   City               50000 non-null  object \n",
      " 2   Cuisine Style      38410 non-null  object \n",
      " 3   Ranking            50000 non-null  float64\n",
      " 4   Price Range        32639 non-null  object \n",
      " 5   Number of Reviews  46800 non-null  float64\n",
      " 6   Reviews            49998 non-null  object \n",
      " 7   URL_TA             50000 non-null  object \n",
      " 8   ID_TA              50000 non-null  object \n",
      " 9   sample             50000 non-null  int64  \n",
      " 10  Rating             50000 non-null  float64\n",
      "dtypes: float64(3), int64(1), object(7)\n",
      "memory usage: 4.2+ MB\n"
     ]
    }
   ],
   "source": [
    "data.info()"
   ]
  },
  {
   "cell_type": "code",
   "execution_count": 12,
   "metadata": {},
   "outputs": [
    {
     "data": {
      "text/html": [
       "<div>\n",
       "<style scoped>\n",
       "    .dataframe tbody tr th:only-of-type {\n",
       "        vertical-align: middle;\n",
       "    }\n",
       "\n",
       "    .dataframe tbody tr th {\n",
       "        vertical-align: top;\n",
       "    }\n",
       "\n",
       "    .dataframe thead th {\n",
       "        text-align: right;\n",
       "    }\n",
       "</style>\n",
       "<table border=\"1\" class=\"dataframe\">\n",
       "  <thead>\n",
       "    <tr style=\"text-align: right;\">\n",
       "      <th></th>\n",
       "      <th>Restaurant_id</th>\n",
       "      <th>City</th>\n",
       "      <th>Cuisine Style</th>\n",
       "      <th>Ranking</th>\n",
       "      <th>Price Range</th>\n",
       "      <th>Number of Reviews</th>\n",
       "      <th>Reviews</th>\n",
       "      <th>URL_TA</th>\n",
       "      <th>ID_TA</th>\n",
       "      <th>sample</th>\n",
       "      <th>Rating</th>\n",
       "    </tr>\n",
       "  </thead>\n",
       "  <tbody>\n",
       "    <tr>\n",
       "      <th>0</th>\n",
       "      <td>id_0</td>\n",
       "      <td>Paris</td>\n",
       "      <td>['Bar', 'Pub']</td>\n",
       "      <td>12963.0</td>\n",
       "      <td>$$ - $$$</td>\n",
       "      <td>4.0</td>\n",
       "      <td>[[], []]</td>\n",
       "      <td>/Restaurant_Review-g187147-d10746918-Reviews-L...</td>\n",
       "      <td>d10746918</td>\n",
       "      <td>0</td>\n",
       "      <td>0.0</td>\n",
       "    </tr>\n",
       "    <tr>\n",
       "      <th>1</th>\n",
       "      <td>id_1</td>\n",
       "      <td>Helsinki</td>\n",
       "      <td>['European', 'Scandinavian', 'Gluten Free Opti...</td>\n",
       "      <td>106.0</td>\n",
       "      <td>$$ - $$$</td>\n",
       "      <td>97.0</td>\n",
       "      <td>[['Very good reviews!', 'Fine dining in Hakani...</td>\n",
       "      <td>/Restaurant_Review-g189934-d6674944-Reviews-Ra...</td>\n",
       "      <td>d6674944</td>\n",
       "      <td>0</td>\n",
       "      <td>0.0</td>\n",
       "    </tr>\n",
       "    <tr>\n",
       "      <th>2</th>\n",
       "      <td>id_2</td>\n",
       "      <td>Edinburgh</td>\n",
       "      <td>['Vegetarian Friendly']</td>\n",
       "      <td>810.0</td>\n",
       "      <td>$$ - $$$</td>\n",
       "      <td>28.0</td>\n",
       "      <td>[['Better than the Links', 'Ivy Black'], ['12/...</td>\n",
       "      <td>/Restaurant_Review-g186525-d13129638-Reviews-B...</td>\n",
       "      <td>d13129638</td>\n",
       "      <td>0</td>\n",
       "      <td>0.0</td>\n",
       "    </tr>\n",
       "    <tr>\n",
       "      <th>3</th>\n",
       "      <td>id_3</td>\n",
       "      <td>London</td>\n",
       "      <td>['Italian', 'Mediterranean', 'European', 'Vege...</td>\n",
       "      <td>1669.0</td>\n",
       "      <td>$$$$</td>\n",
       "      <td>202.0</td>\n",
       "      <td>[['Most exquisite', 'Delicious and authentic']...</td>\n",
       "      <td>/Restaurant_Review-g186338-d680417-Reviews-Qui...</td>\n",
       "      <td>d680417</td>\n",
       "      <td>0</td>\n",
       "      <td>0.0</td>\n",
       "    </tr>\n",
       "    <tr>\n",
       "      <th>4</th>\n",
       "      <td>id_4</td>\n",
       "      <td>Bratislava</td>\n",
       "      <td>['Italian', 'Mediterranean', 'European', 'Seaf...</td>\n",
       "      <td>37.0</td>\n",
       "      <td>$$$$</td>\n",
       "      <td>162.0</td>\n",
       "      <td>[['Always the best in bratislava', 'Very good ...</td>\n",
       "      <td>/Restaurant_Review-g274924-d1112354-Reviews-Ma...</td>\n",
       "      <td>d1112354</td>\n",
       "      <td>0</td>\n",
       "      <td>0.0</td>\n",
       "    </tr>\n",
       "    <tr>\n",
       "      <th>...</th>\n",
       "      <td>...</td>\n",
       "      <td>...</td>\n",
       "      <td>...</td>\n",
       "      <td>...</td>\n",
       "      <td>...</td>\n",
       "      <td>...</td>\n",
       "      <td>...</td>\n",
       "      <td>...</td>\n",
       "      <td>...</td>\n",
       "      <td>...</td>\n",
       "      <td>...</td>\n",
       "    </tr>\n",
       "    <tr>\n",
       "      <th>49995</th>\n",
       "      <td>id_499</td>\n",
       "      <td>Milan</td>\n",
       "      <td>['Italian', 'Vegetarian Friendly', 'Vegan Opti...</td>\n",
       "      <td>500.0</td>\n",
       "      <td>$$ - $$$</td>\n",
       "      <td>79.0</td>\n",
       "      <td>[['The real Italian experience!', 'Wonderful f...</td>\n",
       "      <td>/Restaurant_Review-g187849-d2104414-Reviews-Ro...</td>\n",
       "      <td>d2104414</td>\n",
       "      <td>1</td>\n",
       "      <td>4.5</td>\n",
       "    </tr>\n",
       "    <tr>\n",
       "      <th>49996</th>\n",
       "      <td>id_6340</td>\n",
       "      <td>Paris</td>\n",
       "      <td>['French', 'American', 'Bar', 'European', 'Veg...</td>\n",
       "      <td>6341.0</td>\n",
       "      <td>$$ - $$$</td>\n",
       "      <td>542.0</td>\n",
       "      <td>[['Parisian atmosphere', 'Bit pricey but inter...</td>\n",
       "      <td>/Restaurant_Review-g187147-d1800036-Reviews-La...</td>\n",
       "      <td>d1800036</td>\n",
       "      <td>1</td>\n",
       "      <td>3.5</td>\n",
       "    </tr>\n",
       "    <tr>\n",
       "      <th>49997</th>\n",
       "      <td>id_1649</td>\n",
       "      <td>Stockholm</td>\n",
       "      <td>['Japanese', 'Sushi']</td>\n",
       "      <td>1652.0</td>\n",
       "      <td>NaN</td>\n",
       "      <td>4.0</td>\n",
       "      <td>[['Good by swedish standards', 'A hidden jewel...</td>\n",
       "      <td>/Restaurant_Review-g189852-d947615-Reviews-Sus...</td>\n",
       "      <td>d947615</td>\n",
       "      <td>1</td>\n",
       "      <td>4.5</td>\n",
       "    </tr>\n",
       "    <tr>\n",
       "      <th>49998</th>\n",
       "      <td>id_640</td>\n",
       "      <td>Warsaw</td>\n",
       "      <td>['Polish', 'European', 'Eastern European', 'Ce...</td>\n",
       "      <td>641.0</td>\n",
       "      <td>$$ - $$$</td>\n",
       "      <td>70.0</td>\n",
       "      <td>[['Underground restaurant', 'Oldest Restaurant...</td>\n",
       "      <td>/Restaurant_Review-g274856-d1100838-Reviews-Ho...</td>\n",
       "      <td>d1100838</td>\n",
       "      <td>1</td>\n",
       "      <td>4.0</td>\n",
       "    </tr>\n",
       "    <tr>\n",
       "      <th>49999</th>\n",
       "      <td>id_4824</td>\n",
       "      <td>Milan</td>\n",
       "      <td>['Spanish']</td>\n",
       "      <td>4827.0</td>\n",
       "      <td>$$ - $$$</td>\n",
       "      <td>260.0</td>\n",
       "      <td>[['Average', 'Nice an informal'], ['01/31/2016...</td>\n",
       "      <td>/Restaurant_Review-g187849-d1109020-Reviews-Ta...</td>\n",
       "      <td>d1109020</td>\n",
       "      <td>1</td>\n",
       "      <td>3.0</td>\n",
       "    </tr>\n",
       "  </tbody>\n",
       "</table>\n",
       "<p>50000 rows × 11 columns</p>\n",
       "</div>"
      ],
      "text/plain": [
       "      Restaurant_id        City  \\\n",
       "0              id_0       Paris   \n",
       "1              id_1    Helsinki   \n",
       "2              id_2   Edinburgh   \n",
       "3              id_3      London   \n",
       "4              id_4  Bratislava   \n",
       "...             ...         ...   \n",
       "49995        id_499       Milan   \n",
       "49996       id_6340       Paris   \n",
       "49997       id_1649   Stockholm   \n",
       "49998        id_640      Warsaw   \n",
       "49999       id_4824       Milan   \n",
       "\n",
       "                                           Cuisine Style  Ranking Price Range  \\\n",
       "0                                         ['Bar', 'Pub']  12963.0    $$ - $$$   \n",
       "1      ['European', 'Scandinavian', 'Gluten Free Opti...    106.0    $$ - $$$   \n",
       "2                                ['Vegetarian Friendly']    810.0    $$ - $$$   \n",
       "3      ['Italian', 'Mediterranean', 'European', 'Vege...   1669.0        $$$$   \n",
       "4      ['Italian', 'Mediterranean', 'European', 'Seaf...     37.0        $$$$   \n",
       "...                                                  ...      ...         ...   \n",
       "49995  ['Italian', 'Vegetarian Friendly', 'Vegan Opti...    500.0    $$ - $$$   \n",
       "49996  ['French', 'American', 'Bar', 'European', 'Veg...   6341.0    $$ - $$$   \n",
       "49997                              ['Japanese', 'Sushi']   1652.0         NaN   \n",
       "49998  ['Polish', 'European', 'Eastern European', 'Ce...    641.0    $$ - $$$   \n",
       "49999                                        ['Spanish']   4827.0    $$ - $$$   \n",
       "\n",
       "       Number of Reviews                                            Reviews  \\\n",
       "0                    4.0                                           [[], []]   \n",
       "1                   97.0  [['Very good reviews!', 'Fine dining in Hakani...   \n",
       "2                   28.0  [['Better than the Links', 'Ivy Black'], ['12/...   \n",
       "3                  202.0  [['Most exquisite', 'Delicious and authentic']...   \n",
       "4                  162.0  [['Always the best in bratislava', 'Very good ...   \n",
       "...                  ...                                                ...   \n",
       "49995               79.0  [['The real Italian experience!', 'Wonderful f...   \n",
       "49996              542.0  [['Parisian atmosphere', 'Bit pricey but inter...   \n",
       "49997                4.0  [['Good by swedish standards', 'A hidden jewel...   \n",
       "49998               70.0  [['Underground restaurant', 'Oldest Restaurant...   \n",
       "49999              260.0  [['Average', 'Nice an informal'], ['01/31/2016...   \n",
       "\n",
       "                                                  URL_TA      ID_TA  sample  \\\n",
       "0      /Restaurant_Review-g187147-d10746918-Reviews-L...  d10746918       0   \n",
       "1      /Restaurant_Review-g189934-d6674944-Reviews-Ra...   d6674944       0   \n",
       "2      /Restaurant_Review-g186525-d13129638-Reviews-B...  d13129638       0   \n",
       "3      /Restaurant_Review-g186338-d680417-Reviews-Qui...    d680417       0   \n",
       "4      /Restaurant_Review-g274924-d1112354-Reviews-Ma...   d1112354       0   \n",
       "...                                                  ...        ...     ...   \n",
       "49995  /Restaurant_Review-g187849-d2104414-Reviews-Ro...   d2104414       1   \n",
       "49996  /Restaurant_Review-g187147-d1800036-Reviews-La...   d1800036       1   \n",
       "49997  /Restaurant_Review-g189852-d947615-Reviews-Sus...    d947615       1   \n",
       "49998  /Restaurant_Review-g274856-d1100838-Reviews-Ho...   d1100838       1   \n",
       "49999  /Restaurant_Review-g187849-d1109020-Reviews-Ta...   d1109020       1   \n",
       "\n",
       "       Rating  \n",
       "0         0.0  \n",
       "1         0.0  \n",
       "2         0.0  \n",
       "3         0.0  \n",
       "4         0.0  \n",
       "...       ...  \n",
       "49995     4.5  \n",
       "49996     3.5  \n",
       "49997     4.5  \n",
       "49998     4.0  \n",
       "49999     3.0  \n",
       "\n",
       "[50000 rows x 11 columns]"
      ]
     },
     "execution_count": 12,
     "metadata": {},
     "output_type": "execute_result"
    }
   ],
   "source": [
    "data"
   ]
  },
  {
   "cell_type": "code",
   "execution_count": 13,
   "metadata": {},
   "outputs": [
    {
     "data": {
      "text/html": [
       "<div>\n",
       "<style scoped>\n",
       "    .dataframe tbody tr th:only-of-type {\n",
       "        vertical-align: middle;\n",
       "    }\n",
       "\n",
       "    .dataframe tbody tr th {\n",
       "        vertical-align: top;\n",
       "    }\n",
       "\n",
       "    .dataframe thead th {\n",
       "        text-align: right;\n",
       "    }\n",
       "</style>\n",
       "<table border=\"1\" class=\"dataframe\">\n",
       "  <thead>\n",
       "    <tr style=\"text-align: right;\">\n",
       "      <th></th>\n",
       "      <th>Restaurant_id</th>\n",
       "      <th>City</th>\n",
       "      <th>Cuisine Style</th>\n",
       "      <th>Ranking</th>\n",
       "      <th>Price Range</th>\n",
       "      <th>Number of Reviews</th>\n",
       "      <th>Reviews</th>\n",
       "      <th>URL_TA</th>\n",
       "      <th>ID_TA</th>\n",
       "      <th>sample</th>\n",
       "      <th>Rating</th>\n",
       "    </tr>\n",
       "  </thead>\n",
       "  <tbody>\n",
       "    <tr>\n",
       "      <th>15681</th>\n",
       "      <td>id_2216</td>\n",
       "      <td>Prague</td>\n",
       "      <td>['European', 'Czech']</td>\n",
       "      <td>2221.0</td>\n",
       "      <td>NaN</td>\n",
       "      <td>4.0</td>\n",
       "      <td>[['Great atmosphere', 'A hidden gem'], ['11/06...</td>\n",
       "      <td>/Restaurant_Review-g274707-d4769071-Reviews-Re...</td>\n",
       "      <td>d4769071</td>\n",
       "      <td>1</td>\n",
       "      <td>4.5</td>\n",
       "    </tr>\n",
       "    <tr>\n",
       "      <th>37609</th>\n",
       "      <td>id_7226</td>\n",
       "      <td>Madrid</td>\n",
       "      <td>['Japanese', 'Sushi']</td>\n",
       "      <td>7231.0</td>\n",
       "      <td>$$ - $$$</td>\n",
       "      <td>4.0</td>\n",
       "      <td>[['The rice is awful'], ['07/17/2017']]</td>\n",
       "      <td>/Restaurant_Review-g187514-d10170188-Reviews-G...</td>\n",
       "      <td>d10170188</td>\n",
       "      <td>1</td>\n",
       "      <td>3.5</td>\n",
       "    </tr>\n",
       "    <tr>\n",
       "      <th>38082</th>\n",
       "      <td>id_2122</td>\n",
       "      <td>Budapest</td>\n",
       "      <td>['Bar', 'Cafe', 'Fast Food']</td>\n",
       "      <td>2123.0</td>\n",
       "      <td>NaN</td>\n",
       "      <td>5.0</td>\n",
       "      <td>[[\"Don't expect to be pampered\", 'Nice place f...</td>\n",
       "      <td>/Restaurant_Review-g274887-d7369278-Reviews-Pa...</td>\n",
       "      <td>d7369278</td>\n",
       "      <td>1</td>\n",
       "      <td>3.0</td>\n",
       "    </tr>\n",
       "    <tr>\n",
       "      <th>38069</th>\n",
       "      <td>id_4401</td>\n",
       "      <td>Milan</td>\n",
       "      <td>['Italian']</td>\n",
       "      <td>4404.0</td>\n",
       "      <td>$$ - $$$</td>\n",
       "      <td>47.0</td>\n",
       "      <td>[['A great Toscane restaurant', 'Lovely food']...</td>\n",
       "      <td>/Restaurant_Review-g187849-d3776179-Reviews-Su...</td>\n",
       "      <td>d3776179</td>\n",
       "      <td>1</td>\n",
       "      <td>3.5</td>\n",
       "    </tr>\n",
       "    <tr>\n",
       "      <th>5262</th>\n",
       "      <td>id_5262</td>\n",
       "      <td>Milan</td>\n",
       "      <td>['Bar', 'Pub', 'Italian']</td>\n",
       "      <td>2281.0</td>\n",
       "      <td>$$ - $$$</td>\n",
       "      <td>77.0</td>\n",
       "      <td>[['Super nice drinks and really good vibe', 'E...</td>\n",
       "      <td>/Restaurant_Review-g187849-d2555477-Reviews-Ca...</td>\n",
       "      <td>d2555477</td>\n",
       "      <td>0</td>\n",
       "      <td>0.0</td>\n",
       "    </tr>\n",
       "  </tbody>\n",
       "</table>\n",
       "</div>"
      ],
      "text/plain": [
       "      Restaurant_id      City                 Cuisine Style  Ranking  \\\n",
       "15681       id_2216    Prague         ['European', 'Czech']   2221.0   \n",
       "37609       id_7226    Madrid         ['Japanese', 'Sushi']   7231.0   \n",
       "38082       id_2122  Budapest  ['Bar', 'Cafe', 'Fast Food']   2123.0   \n",
       "38069       id_4401     Milan                   ['Italian']   4404.0   \n",
       "5262        id_5262     Milan     ['Bar', 'Pub', 'Italian']   2281.0   \n",
       "\n",
       "      Price Range  Number of Reviews  \\\n",
       "15681         NaN                4.0   \n",
       "37609    $$ - $$$                4.0   \n",
       "38082         NaN                5.0   \n",
       "38069    $$ - $$$               47.0   \n",
       "5262     $$ - $$$               77.0   \n",
       "\n",
       "                                                 Reviews  \\\n",
       "15681  [['Great atmosphere', 'A hidden gem'], ['11/06...   \n",
       "37609            [['The rice is awful'], ['07/17/2017']]   \n",
       "38082  [[\"Don't expect to be pampered\", 'Nice place f...   \n",
       "38069  [['A great Toscane restaurant', 'Lovely food']...   \n",
       "5262   [['Super nice drinks and really good vibe', 'E...   \n",
       "\n",
       "                                                  URL_TA      ID_TA  sample  \\\n",
       "15681  /Restaurant_Review-g274707-d4769071-Reviews-Re...   d4769071       1   \n",
       "37609  /Restaurant_Review-g187514-d10170188-Reviews-G...  d10170188       1   \n",
       "38082  /Restaurant_Review-g274887-d7369278-Reviews-Pa...   d7369278       1   \n",
       "38069  /Restaurant_Review-g187849-d3776179-Reviews-Su...   d3776179       1   \n",
       "5262   /Restaurant_Review-g187849-d2555477-Reviews-Ca...   d2555477       0   \n",
       "\n",
       "       Rating  \n",
       "15681     4.5  \n",
       "37609     3.5  \n",
       "38082     3.0  \n",
       "38069     3.5  \n",
       "5262      0.0  "
      ]
     },
     "execution_count": 13,
     "metadata": {},
     "output_type": "execute_result"
    }
   ],
   "source": [
    "data.sample(5)"
   ]
  },
  {
   "cell_type": "markdown",
   "metadata": {},
   "source": [
    "# Cleaning and Prepping Data"
   ]
  },
  {
   "cell_type": "markdown",
   "metadata": {},
   "source": [
    "## 1. Обработка NAN "
   ]
  },
  {
   "cell_type": "code",
   "execution_count": 14,
   "metadata": {},
   "outputs": [],
   "source": [
    "#перед обработкой NAN лучше вынести информацию о наличии пропуска \n",
    "#как отдельный признак \n",
    "\n",
    "data['Number_of_Reviews_isNAN'] = pd.isna(data['Number of Reviews']).astype('uint8')\n",
    "data['reviews_isnan'] = pd.isna(data['Reviews']).astype('uint8')\n",
    "data['price_range_isnan'] = pd.isna(data['Price Range']).astype('uint8')\n",
    "data['cuisine_style_isnan'] = pd.isna(data['Cuisine Style']).astype('uint8')\n"
   ]
  },
  {
   "cell_type": "code",
   "execution_count": 15,
   "metadata": {},
   "outputs": [
    {
     "name": "stdout",
     "output_type": "stream",
     "text": [
      "<class 'pandas.core.frame.DataFrame'>\n",
      "RangeIndex: 50000 entries, 0 to 49999\n",
      "Data columns (total 15 columns):\n",
      " #   Column                   Non-Null Count  Dtype  \n",
      "---  ------                   --------------  -----  \n",
      " 0   Restaurant_id            50000 non-null  object \n",
      " 1   City                     50000 non-null  object \n",
      " 2   Cuisine Style            38410 non-null  object \n",
      " 3   Ranking                  50000 non-null  float64\n",
      " 4   Price Range              32639 non-null  object \n",
      " 5   Number of Reviews        46800 non-null  float64\n",
      " 6   Reviews                  49998 non-null  object \n",
      " 7   URL_TA                   50000 non-null  object \n",
      " 8   ID_TA                    50000 non-null  object \n",
      " 9   sample                   50000 non-null  int64  \n",
      " 10  Rating                   50000 non-null  float64\n",
      " 11  Number_of_Reviews_isNAN  50000 non-null  uint8  \n",
      " 12  reviews_isnan            50000 non-null  uint8  \n",
      " 13  price_range_isnan        50000 non-null  uint8  \n",
      " 14  cuisine_style_isnan      50000 non-null  uint8  \n",
      "dtypes: float64(3), int64(1), object(7), uint8(4)\n",
      "memory usage: 4.4+ MB\n"
     ]
    }
   ],
   "source": [
    "data.info()"
   ]
  },
  {
   "cell_type": "code",
   "execution_count": null,
   "metadata": {},
   "outputs": [],
   "source": []
  },
  {
   "cell_type": "code",
   "execution_count": 35,
   "metadata": {},
   "outputs": [
    {
     "name": "stdout",
     "output_type": "stream",
     "text": [
      "<class 'pandas.core.frame.DataFrame'>\n",
      "RangeIndex: 50000 entries, 0 to 49999\n",
      "Data columns (total 15 columns):\n",
      " #   Column                   Non-Null Count  Dtype  \n",
      "---  ------                   --------------  -----  \n",
      " 0   Restaurant_id            50000 non-null  object \n",
      " 1   City                     50000 non-null  object \n",
      " 2   Cuisine Style            38410 non-null  object \n",
      " 3   Ranking                  50000 non-null  float64\n",
      " 4   Price Range              32639 non-null  object \n",
      " 5   Number of Reviews        46800 non-null  float64\n",
      " 6   Reviews                  49998 non-null  object \n",
      " 7   URL_TA                   50000 non-null  object \n",
      " 8   ID_TA                    50000 non-null  object \n",
      " 9   sample                   50000 non-null  int64  \n",
      " 10  Rating                   50000 non-null  float64\n",
      " 11  Number_of_Reviews_isNAN  50000 non-null  uint8  \n",
      " 12  reviews_isnan            50000 non-null  uint8  \n",
      " 13  price_range_isnan        50000 non-null  uint8  \n",
      " 14  cuisine_style_isnan      50000 non-null  uint8  \n",
      "dtypes: float64(3), int64(1), object(7), uint8(4)\n",
      "memory usage: 4.4+ MB\n"
     ]
    }
   ],
   "source": [
    "df=data.copy()\n",
    "df.info()"
   ]
  },
  {
   "cell_type": "code",
   "execution_count": 36,
   "metadata": {},
   "outputs": [
    {
     "name": "stdout",
     "output_type": "stream",
     "text": [
      "<class 'pandas.core.frame.DataFrame'>\n",
      "RangeIndex: 50000 entries, 0 to 49999\n",
      "Data columns (total 15 columns):\n",
      " #   Column                   Non-Null Count  Dtype  \n",
      "---  ------                   --------------  -----  \n",
      " 0   id                       50000 non-null  object \n",
      " 1   city                     50000 non-null  object \n",
      " 2   cuisine_style            38410 non-null  object \n",
      " 3   ranking                  50000 non-null  float64\n",
      " 4   price_range              32639 non-null  object \n",
      " 5   number_of_reviews        46800 non-null  float64\n",
      " 6   reviews                  49998 non-null  object \n",
      " 7   url_ta                   50000 non-null  object \n",
      " 8   id_ta                    50000 non-null  object \n",
      " 9   sample                   50000 non-null  int64  \n",
      " 10  rating                   50000 non-null  float64\n",
      " 11  number_of_reviews_isnan  50000 non-null  uint8  \n",
      " 12  reviews_isnan            50000 non-null  uint8  \n",
      " 13  price_range_isnan        50000 non-null  uint8  \n",
      " 14  cuisine_style_isnan      50000 non-null  uint8  \n",
      "dtypes: float64(3), int64(1), object(7), uint8(4)\n",
      "memory usage: 4.4+ MB\n"
     ]
    }
   ],
   "source": [
    "#приводим в опрятный вид название колонок\n",
    "\n",
    "df.columns = ['id', 'city', 'cuisine_style', 'ranking', 'price_range', \n",
    "              'number_of_reviews', 'reviews', 'url_ta', 'id_ta', 'sample', \n",
    "              'rating', 'number_of_reviews_isnan', 'reviews_isnan', \n",
    "              'price_range_isnan', 'cuisine_style_isnan']\n",
    "df.info()"
   ]
  },
  {
   "cell_type": "code",
   "execution_count": 37,
   "metadata": {},
   "outputs": [
    {
     "data": {
      "text/plain": [
       "2.0       2403\n",
       "3.0       2042\n",
       "4.0       1707\n",
       "5.0       1471\n",
       "6.0       1258\n",
       "          ... \n",
       "5216.0       1\n",
       "1932.0       1\n",
       "1050.0       1\n",
       "1145.0       1\n",
       "1471.0       1\n",
       "Name: number_of_reviews, Length: 1573, dtype: int64"
      ]
     },
     "execution_count": 37,
     "metadata": {},
     "output_type": "execute_result"
    }
   ],
   "source": [
    "#в столбце reviews - почти нет нулевых значений, при этом в столбце \n",
    "# number_of_reviews их значительно больше. Очевидно, это пропуски. \n",
    "#посмотрим н распределение number_of_reviews:\n",
    "\n",
    "df.number_of_reviews.value_counts()"
   ]
  },
  {
   "cell_type": "code",
   "execution_count": 38,
   "metadata": {},
   "outputs": [
    {
     "data": {
      "text/plain": [
       "count    46800.000000\n",
       "mean       124.471197\n",
       "std        294.114345\n",
       "min          2.000000\n",
       "25%          9.000000\n",
       "50%         33.000000\n",
       "75%        115.000000\n",
       "max       9660.000000\n",
       "Name: number_of_reviews, dtype: float64"
      ]
     },
     "execution_count": 38,
     "metadata": {},
     "output_type": "execute_result"
    }
   ],
   "source": [
    "df.number_of_reviews.describe()"
   ]
  },
  {
   "cell_type": "code",
   "execution_count": 39,
   "metadata": {},
   "outputs": [
    {
     "data": {
      "text/plain": [
       "<AxesSubplot:>"
      ]
     },
     "execution_count": 39,
     "metadata": {},
     "output_type": "execute_result"
    },
    {
     "data": {
      "image/png": "[encoded data removed]",
      "text/plain": [
       "<Figure size 720x360 with 1 Axes>"
      ]
     },
     "metadata": {
      "needs_background": "light"
     },
     "output_type": "display_data"
    }
   ],
   "source": [
    "df['number_of_reviews'].hist(figsize=(10,5), bins=100)"
   ]
  },
  {
   "cell_type": "markdown",
   "metadata": {},
   "source": [
    "Пропуски в number_of_reviews можно было заполнить разными способами (другие опции - среднее значение по городу или средняя/медиана по признаку), но самый простой и не увеличивающий показатель МАЕ способ - в случае, если в колонке Reviews есть ревью, а в колонке Number_of_reviews пусто, поставить туда 1 = то есть, как минимум одно ревью там точно есть. Если ревью нет совсем, то поставим О. Больше мы не знаем, и от чего может зависеть это количество - анализ этого не является нашей целевой задачей\n",
    "\n",
    "\n"
   ]
  },
  {
   "cell_type": "code",
   "execution_count": 40,
   "metadata": {},
   "outputs": [
    {
     "name": "stdout",
     "output_type": "stream",
     "text": [
      "<class 'pandas.core.frame.DataFrame'>\n",
      "RangeIndex: 50000 entries, 0 to 49999\n",
      "Data columns (total 15 columns):\n",
      " #   Column                   Non-Null Count  Dtype  \n",
      "---  ------                   --------------  -----  \n",
      " 0   id                       50000 non-null  object \n",
      " 1   city                     50000 non-null  object \n",
      " 2   cuisine_style            38410 non-null  object \n",
      " 3   ranking                  50000 non-null  float64\n",
      " 4   price_range              32639 non-null  object \n",
      " 5   number_of_reviews        50000 non-null  float64\n",
      " 6   reviews                  49998 non-null  object \n",
      " 7   url_ta                   50000 non-null  object \n",
      " 8   id_ta                    50000 non-null  object \n",
      " 9   sample                   50000 non-null  int64  \n",
      " 10  rating                   50000 non-null  float64\n",
      " 11  number_of_reviews_isnan  50000 non-null  uint8  \n",
      " 12  reviews_isnan            50000 non-null  uint8  \n",
      " 13  price_range_isnan        50000 non-null  uint8  \n",
      " 14  cuisine_style_isnan      50000 non-null  uint8  \n",
      "dtypes: float64(3), int64(1), object(7), uint8(4)\n",
      "memory usage: 4.4+ MB\n"
     ]
    }
   ],
   "source": [
    "#Заполним их не нулевым значением (1):\n",
    "\n",
    "def number_reviews(row):\n",
    "    if pd.isnull(row['number_of_reviews']):\n",
    "        if row['reviews'] is None:\n",
    "            return 0\n",
    "        else:\n",
    "            return 1\n",
    "    return row['number_of_reviews']\n",
    "\n",
    "df['number_of_reviews'] = df.apply(number_reviews, axis = 1)\n",
    "\n",
    "df.info()\n"
   ]
  },
  {
   "cell_type": "code",
   "execution_count": 41,
   "metadata": {},
   "outputs": [],
   "source": [
    "#у нас остались пропуски в колонке reviews, которая по типу object, \n",
    "#и поэтому не пойдет в итоговую модель-после создания признаков на основе \n",
    "#reviews, эту колонку мы удалим. Позже, при обработке этой колонки, \n",
    "#заменим пропуски на None\n",
    "\n"
   ]
  },
  {
   "cell_type": "markdown",
   "metadata": {},
   "source": [
    "### 2. Обработка признаков\n",
    "Для начала посмотрим какие признаки у нас могут быть категориальными."
   ]
  },
  {
   "cell_type": "code",
   "execution_count": 42,
   "metadata": {},
   "outputs": [
    {
     "data": {
      "text/plain": [
       "id                         13094\n",
       "city                          31\n",
       "cuisine_style              10732\n",
       "ranking                    12975\n",
       "price_range                    4\n",
       "number_of_reviews           1574\n",
       "reviews                    41858\n",
       "url_ta                     49963\n",
       "id_ta                      49963\n",
       "sample                         2\n",
       "rating                        10\n",
       "number_of_reviews_isnan        2\n",
       "reviews_isnan                  2\n",
       "price_range_isnan              2\n",
       "cuisine_style_isnan            2\n",
       "dtype: int64"
      ]
     },
     "execution_count": 42,
     "metadata": {},
     "output_type": "execute_result"
    }
   ],
   "source": [
    "df.nunique(dropna=False)"
   ]
  },
  {
   "cell_type": "markdown",
   "metadata": {},
   "source": [
    "В целом, потенциально под категории у нас может попасть только price_range, city и, может быть, rating\n",
    "но pricerange & rating можно поставить по возрастанию, значит, категориальным остается только city"
   ]
  },
  {
   "cell_type": "code",
   "execution_count": 43,
   "metadata": {},
   "outputs": [
    {
     "data": {
      "text/plain": [
       "$$ - $$$    23041\n",
       "$            7816\n",
       "$$$$         1782\n",
       "Name: price_range, dtype: int64"
      ]
     },
     "execution_count": 43,
     "metadata": {},
     "output_type": "execute_result"
    }
   ],
   "source": [
    "# посмотрим на ценовой диапазон:\n",
    "df.price_range.value_counts()"
   ]
  },
  {
   "cell_type": "code",
   "execution_count": 44,
   "metadata": {},
   "outputs": [],
   "source": [
    "#переводим price_range в цифровые значения, задав соответствующий словарь\n",
    "\n",
    "price_range_dict = {}\n",
    "price_range_dict = { '$':1, '$$ - $$$':2, '$$$$':3  }\n",
    "df['price_range']= df['price_range'].replace(to_replace=price_range_dict)\n"
   ]
  },
  {
   "cell_type": "code",
   "execution_count": 45,
   "metadata": {},
   "outputs": [
    {
     "data": {
      "text/plain": [
       "2.0    23041\n",
       "1.0     7816\n",
       "3.0     1782\n",
       "Name: price_range, dtype: int64"
      ]
     },
     "execution_count": 45,
     "metadata": {},
     "output_type": "execute_result"
    }
   ],
   "source": [
    "df['price_range'].value_counts()"
   ]
  },
  {
   "cell_type": "code",
   "execution_count": 46,
   "metadata": {},
   "outputs": [
    {
     "name": "stderr",
     "output_type": "stream",
     "text": [
      "/Users/Maria/opt/anaconda3/lib/python3.8/site-packages/seaborn/_decorators.py:36: FutureWarning: Pass the following variable as a keyword arg: x. From version 0.12, the only valid positional argument will be `data`, and passing other arguments without an explicit keyword will result in an error or misinterpretation.\n",
      "  warnings.warn(\n"
     ]
    },
    {
     "data": {
      "text/plain": [
       "<AxesSubplot:xlabel='price_range', ylabel='count'>"
      ]
     },
     "execution_count": 46,
     "metadata": {},
     "output_type": "execute_result"
    },
    {
     "data": {
      "image/png": "[encoded data removed]",
      "text/plain": [
       "<Figure size 432x288 with 1 Axes>"
      ]
     },
     "metadata": {
      "needs_background": "light"
     },
     "output_type": "display_data"
    }
   ],
   "source": [
    "# посмотрим на распределения признака price_range:\n",
    "sns.countplot(df['price_range'])"
   ]
  },
  {
   "cell_type": "markdown",
   "metadata": {},
   "source": [
    "пустые значения price_range можно задать разным способом - выбрать наиболее частотный вариант 2 или заменить на 0.\n",
    "Логичным будет заменить на наиболее частотный"
   ]
  },
  {
   "cell_type": "code",
   "execution_count": 47,
   "metadata": {},
   "outputs": [
    {
     "data": {
      "text/plain": [
       "2.0    40402\n",
       "1.0     7816\n",
       "3.0     1782\n",
       "Name: price_range, dtype: int64"
      ]
     },
     "execution_count": 47,
     "metadata": {},
     "output_type": "execute_result"
    }
   ],
   "source": [
    "\n",
    "df['price_range'] = df['price_range'].fillna(2)\n",
    "df['price_range'].value_counts()"
   ]
  },
  {
   "cell_type": "code",
   "execution_count": 48,
   "metadata": {},
   "outputs": [
    {
     "data": {
      "text/plain": [
       "0                                               [Bar, Pub]\n",
       "1        [European, Scandinavian, Gluten Free Options, ...\n",
       "2                                    [Vegetarian Friendly]\n",
       "3        [Italian, Mediterranean, European, Vegetarian ...\n",
       "4        [Italian, Mediterranean, European, Seafood, Ve...\n",
       "                               ...                        \n",
       "49995    [Italian, Vegetarian Friendly, Vegan Options, ...\n",
       "49996    [French, American, Bar, European, Vegetarian F...\n",
       "49997                                    [Japanese, Sushi]\n",
       "49998    [Polish, European, Eastern European, Central E...\n",
       "49999                                            [Spanish]\n",
       "Name: cuisine_style, Length: 50000, dtype: object"
      ]
     },
     "execution_count": 48,
     "metadata": {},
     "output_type": "execute_result"
    }
   ],
   "source": [
    "#приведем в порядок столбец с кухнями:\n",
    "df['cuisine_style']= df['cuisine_style'].str.replace('[', '')\n",
    "df['cuisine_style']= df['cuisine_style'].str.replace(']', '')\n",
    "df['cuisine_style']= df['cuisine_style'].str.replace(\"'\", '')\n",
    "df['cuisine_style']= df['cuisine_style'].fillna(\"Unknown\")\n",
    "df['cuisine_style'] = df['cuisine_style'].str.split(', ')\n",
    "\n",
    "df['cuisine_style']"
   ]
  },
  {
   "cell_type": "code",
   "execution_count": 49,
   "metadata": {},
   "outputs": [
    {
     "data": {
      "text/plain": [
       "0        2\n",
       "1        5\n",
       "2        1\n",
       "3        5\n",
       "4        6\n",
       "        ..\n",
       "49995    4\n",
       "49996    5\n",
       "49997    2\n",
       "49998    5\n",
       "49999    1\n",
       "Name: cuis_num, Length: 50000, dtype: int64"
      ]
     },
     "execution_count": 49,
     "metadata": {},
     "output_type": "execute_result"
    }
   ],
   "source": [
    "#добавим столбец с количеством кухонь\n",
    "df['cuis_num'] = df.cuisine_style.apply(len)\n",
    "df.cuis_num"
   ]
  },
  {
   "cell_type": "code",
   "execution_count": 50,
   "metadata": {},
   "outputs": [
    {
     "data": {
      "text/plain": [
       "count    50000.000000\n",
       "mean         2.625320\n",
       "std          1.824029\n",
       "min          1.000000\n",
       "25%          1.000000\n",
       "50%          2.000000\n",
       "75%          4.000000\n",
       "max         21.000000\n",
       "Name: cuis_num, dtype: float64"
      ]
     },
     "execution_count": 50,
     "metadata": {},
     "output_type": "execute_result"
    }
   ],
   "source": [
    "df.cuis_num.describe()"
   ]
  },
  {
   "cell_type": "code",
   "execution_count": 51,
   "metadata": {},
   "outputs": [],
   "source": [
    "#количество стилей кухонь от 1 до 21"
   ]
  },
  {
   "cell_type": "code",
   "execution_count": 52,
   "metadata": {},
   "outputs": [
    {
     "name": "stderr",
     "output_type": "stream",
     "text": [
      "/Users/Maria/opt/anaconda3/lib/python3.8/site-packages/seaborn/_decorators.py:36: FutureWarning: Pass the following variable as a keyword arg: x. From version 0.12, the only valid positional argument will be `data`, and passing other arguments without an explicit keyword will result in an error or misinterpretation.\n",
      "  warnings.warn(\n"
     ]
    },
    {
     "data": {
      "image/png": "[encoded data removed]",
      "text/plain": [
       "<Figure size 432x288 with 1 Axes>"
      ]
     },
     "metadata": {
      "needs_background": "light"
     },
     "output_type": "display_data"
    }
   ],
   "source": [
    "# посмотрим на распределения признака cuis_num:\n",
    "sns.countplot(df['cuis_num']);"
   ]
  },
  {
   "cell_type": "markdown",
   "metadata": {},
   "source": [
    "Очевидно, 21 - это выброс"
   ]
  },
  {
   "cell_type": "code",
   "execution_count": 53,
   "metadata": {},
   "outputs": [
    {
     "name": "stdout",
     "output_type": "stream",
     "text": [
      "<class 'pandas.core.frame.DataFrame'>\n",
      "RangeIndex: 50000 entries, 0 to 49999\n",
      "Data columns (total 16 columns):\n",
      " #   Column                   Non-Null Count  Dtype  \n",
      "---  ------                   --------------  -----  \n",
      " 0   id                       50000 non-null  object \n",
      " 1   city                     50000 non-null  object \n",
      " 2   cuisine_style            50000 non-null  object \n",
      " 3   ranking                  50000 non-null  float64\n",
      " 4   price_range              50000 non-null  float64\n",
      " 5   number_of_reviews        50000 non-null  float64\n",
      " 6   reviews                  50000 non-null  object \n",
      " 7   url_ta                   50000 non-null  object \n",
      " 8   id_ta                    50000 non-null  object \n",
      " 9   sample                   50000 non-null  int64  \n",
      " 10  rating                   50000 non-null  float64\n",
      " 11  number_of_reviews_isnan  50000 non-null  uint8  \n",
      " 12  reviews_isnan            50000 non-null  uint8  \n",
      " 13  price_range_isnan        50000 non-null  uint8  \n",
      " 14  cuisine_style_isnan      50000 non-null  uint8  \n",
      " 15  cuis_num                 50000 non-null  int64  \n",
      "dtypes: float64(4), int64(2), object(6), uint8(4)\n",
      "memory usage: 4.8+ MB\n"
     ]
    }
   ],
   "source": [
    "#переходим к работе с reviews. \n",
    "#Сначала заменим пропуски на None\n",
    "df.reviews = df.reviews.fillna('None')\n",
    "df.info()\n"
   ]
  },
  {
   "cell_type": "code",
   "execution_count": 54,
   "metadata": {},
   "outputs": [
    {
     "data": {
      "text/plain": [
       "0                          []\n",
       "1    [12/05/2017, 10/29/2017]\n",
       "2    [12/28/2017, 12/06/2017]\n",
       "3    [12/06/2017, 11/22/2017]\n",
       "4    [02/08/2018, 01/24/2018]\n",
       "Name: date_rev, dtype: object"
      ]
     },
     "metadata": {},
     "output_type": "display_data"
    }
   ],
   "source": [
    "#Выделим в отдельный столбец date_rev даты всех ревью\n",
    "\n",
    "import re\n",
    "pattern = re.compile(\"\\d+\\/\\d+\\/\\d+\")\n",
    "df[\"date_rev\"] = df[\"reviews\"].apply(pattern.findall)\n",
    "display(df[\"date_rev\"].head())"
   ]
  },
  {
   "cell_type": "code",
   "execution_count": 55,
   "metadata": {},
   "outputs": [
    {
     "data": {
      "text/plain": [
       "0                                                []\n",
       "1        [2017-10-29 00:00:00, 2017-12-05 00:00:00]\n",
       "2        [2017-12-06 00:00:00, 2017-12-28 00:00:00]\n",
       "3        [2017-11-22 00:00:00, 2017-12-06 00:00:00]\n",
       "4        [2018-01-24 00:00:00, 2018-02-08 00:00:00]\n",
       "                            ...                    \n",
       "49995    [2017-11-12 00:00:00, 2017-12-16 00:00:00]\n",
       "49996    [2017-12-12 00:00:00, 2017-12-21 00:00:00]\n",
       "49997    [2008-04-12 00:00:00, 2016-11-03 00:00:00]\n",
       "49998    [2017-06-18 00:00:00, 2017-07-11 00:00:00]\n",
       "49999    [2012-07-04 00:00:00, 2016-01-31 00:00:00]\n",
       "Name: date_rev, Length: 50000, dtype: object"
      ]
     },
     "execution_count": 55,
     "metadata": {},
     "output_type": "execute_result"
    }
   ],
   "source": [
    "#отсортируем даты, чтобы первый элемент был во времени раньше, чем второй:\n",
    "df[\"date_rev\"] = df[\"date_rev\"].apply(pd.to_datetime).apply(sorted)\n",
    "df.date_rev\n",
    "\n"
   ]
  },
  {
   "cell_type": "code",
   "execution_count": 56,
   "metadata": {},
   "outputs": [
    {
     "data": {
      "text/html": [
       "<div>\n",
       "<style scoped>\n",
       "    .dataframe tbody tr th:only-of-type {\n",
       "        vertical-align: middle;\n",
       "    }\n",
       "\n",
       "    .dataframe tbody tr th {\n",
       "        vertical-align: top;\n",
       "    }\n",
       "\n",
       "    .dataframe thead th {\n",
       "        text-align: right;\n",
       "    }\n",
       "</style>\n",
       "<table border=\"1\" class=\"dataframe\">\n",
       "  <thead>\n",
       "    <tr style=\"text-align: right;\">\n",
       "      <th></th>\n",
       "      <th>id</th>\n",
       "      <th>city</th>\n",
       "      <th>cuisine_style</th>\n",
       "      <th>ranking</th>\n",
       "      <th>price_range</th>\n",
       "      <th>number_of_reviews</th>\n",
       "      <th>reviews</th>\n",
       "      <th>url_ta</th>\n",
       "      <th>id_ta</th>\n",
       "      <th>sample</th>\n",
       "      <th>rating</th>\n",
       "      <th>number_of_reviews_isnan</th>\n",
       "      <th>reviews_isnan</th>\n",
       "      <th>price_range_isnan</th>\n",
       "      <th>cuisine_style_isnan</th>\n",
       "      <th>cuis_num</th>\n",
       "      <th>date_rev</th>\n",
       "      <th>rev_1</th>\n",
       "      <th>rev_2</th>\n",
       "    </tr>\n",
       "  </thead>\n",
       "  <tbody>\n",
       "    <tr>\n",
       "      <th>0</th>\n",
       "      <td>id_0</td>\n",
       "      <td>Paris</td>\n",
       "      <td>[Bar, Pub]</td>\n",
       "      <td>12963.0</td>\n",
       "      <td>2.0</td>\n",
       "      <td>4.0</td>\n",
       "      <td>[[], []]</td>\n",
       "      <td>/Restaurant_Review-g187147-d10746918-Reviews-L...</td>\n",
       "      <td>d10746918</td>\n",
       "      <td>0</td>\n",
       "      <td>0.0</td>\n",
       "      <td>0</td>\n",
       "      <td>0</td>\n",
       "      <td>0</td>\n",
       "      <td>0</td>\n",
       "      <td>2</td>\n",
       "      <td>[]</td>\n",
       "      <td>NaT</td>\n",
       "      <td>NaT</td>\n",
       "    </tr>\n",
       "    <tr>\n",
       "      <th>1</th>\n",
       "      <td>id_1</td>\n",
       "      <td>Helsinki</td>\n",
       "      <td>[European, Scandinavian, Gluten Free Options, ...</td>\n",
       "      <td>106.0</td>\n",
       "      <td>2.0</td>\n",
       "      <td>97.0</td>\n",
       "      <td>[['Very good reviews!', 'Fine dining in Hakani...</td>\n",
       "      <td>/Restaurant_Review-g189934-d6674944-Reviews-Ra...</td>\n",
       "      <td>d6674944</td>\n",
       "      <td>0</td>\n",
       "      <td>0.0</td>\n",
       "      <td>0</td>\n",
       "      <td>0</td>\n",
       "      <td>0</td>\n",
       "      <td>0</td>\n",
       "      <td>5</td>\n",
       "      <td>[2017-10-29 00:00:00, 2017-12-05 00:00:00]</td>\n",
       "      <td>2017-10-29</td>\n",
       "      <td>2017-12-05</td>\n",
       "    </tr>\n",
       "    <tr>\n",
       "      <th>2</th>\n",
       "      <td>id_2</td>\n",
       "      <td>Edinburgh</td>\n",
       "      <td>[Vegetarian Friendly]</td>\n",
       "      <td>810.0</td>\n",
       "      <td>2.0</td>\n",
       "      <td>28.0</td>\n",
       "      <td>[['Better than the Links', 'Ivy Black'], ['12/...</td>\n",
       "      <td>/Restaurant_Review-g186525-d13129638-Reviews-B...</td>\n",
       "      <td>d13129638</td>\n",
       "      <td>0</td>\n",
       "      <td>0.0</td>\n",
       "      <td>0</td>\n",
       "      <td>0</td>\n",
       "      <td>0</td>\n",
       "      <td>0</td>\n",
       "      <td>1</td>\n",
       "      <td>[2017-12-06 00:00:00, 2017-12-28 00:00:00]</td>\n",
       "      <td>2017-12-06</td>\n",
       "      <td>2017-12-28</td>\n",
       "    </tr>\n",
       "    <tr>\n",
       "      <th>3</th>\n",
       "      <td>id_3</td>\n",
       "      <td>London</td>\n",
       "      <td>[Italian, Mediterranean, European, Vegetarian ...</td>\n",
       "      <td>1669.0</td>\n",
       "      <td>3.0</td>\n",
       "      <td>202.0</td>\n",
       "      <td>[['Most exquisite', 'Delicious and authentic']...</td>\n",
       "      <td>/Restaurant_Review-g186338-d680417-Reviews-Qui...</td>\n",
       "      <td>d680417</td>\n",
       "      <td>0</td>\n",
       "      <td>0.0</td>\n",
       "      <td>0</td>\n",
       "      <td>0</td>\n",
       "      <td>0</td>\n",
       "      <td>0</td>\n",
       "      <td>5</td>\n",
       "      <td>[2017-11-22 00:00:00, 2017-12-06 00:00:00]</td>\n",
       "      <td>2017-11-22</td>\n",
       "      <td>2017-12-06</td>\n",
       "    </tr>\n",
       "    <tr>\n",
       "      <th>4</th>\n",
       "      <td>id_4</td>\n",
       "      <td>Bratislava</td>\n",
       "      <td>[Italian, Mediterranean, European, Seafood, Ve...</td>\n",
       "      <td>37.0</td>\n",
       "      <td>3.0</td>\n",
       "      <td>162.0</td>\n",
       "      <td>[['Always the best in bratislava', 'Very good ...</td>\n",
       "      <td>/Restaurant_Review-g274924-d1112354-Reviews-Ma...</td>\n",
       "      <td>d1112354</td>\n",
       "      <td>0</td>\n",
       "      <td>0.0</td>\n",
       "      <td>0</td>\n",
       "      <td>0</td>\n",
       "      <td>0</td>\n",
       "      <td>0</td>\n",
       "      <td>6</td>\n",
       "      <td>[2018-01-24 00:00:00, 2018-02-08 00:00:00]</td>\n",
       "      <td>2018-01-24</td>\n",
       "      <td>2018-02-08</td>\n",
       "    </tr>\n",
       "  </tbody>\n",
       "</table>\n",
       "</div>"
      ],
      "text/plain": [
       "     id        city                                      cuisine_style  \\\n",
       "0  id_0       Paris                                         [Bar, Pub]   \n",
       "1  id_1    Helsinki  [European, Scandinavian, Gluten Free Options, ...   \n",
       "2  id_2   Edinburgh                              [Vegetarian Friendly]   \n",
       "3  id_3      London  [Italian, Mediterranean, European, Vegetarian ...   \n",
       "4  id_4  Bratislava  [Italian, Mediterranean, European, Seafood, Ve...   \n",
       "\n",
       "   ranking  price_range  number_of_reviews  \\\n",
       "0  12963.0          2.0                4.0   \n",
       "1    106.0          2.0               97.0   \n",
       "2    810.0          2.0               28.0   \n",
       "3   1669.0          3.0              202.0   \n",
       "4     37.0          3.0              162.0   \n",
       "\n",
       "                                             reviews  \\\n",
       "0                                           [[], []]   \n",
       "1  [['Very good reviews!', 'Fine dining in Hakani...   \n",
       "2  [['Better than the Links', 'Ivy Black'], ['12/...   \n",
       "3  [['Most exquisite', 'Delicious and authentic']...   \n",
       "4  [['Always the best in bratislava', 'Very good ...   \n",
       "\n",
       "                                              url_ta      id_ta  sample  \\\n",
       "0  /Restaurant_Review-g187147-d10746918-Reviews-L...  d10746918       0   \n",
       "1  /Restaurant_Review-g189934-d6674944-Reviews-Ra...   d6674944       0   \n",
       "2  /Restaurant_Review-g186525-d13129638-Reviews-B...  d13129638       0   \n",
       "3  /Restaurant_Review-g186338-d680417-Reviews-Qui...    d680417       0   \n",
       "4  /Restaurant_Review-g274924-d1112354-Reviews-Ma...   d1112354       0   \n",
       "\n",
       "   rating  number_of_reviews_isnan  reviews_isnan  price_range_isnan  \\\n",
       "0     0.0                        0              0                  0   \n",
       "1     0.0                        0              0                  0   \n",
       "2     0.0                        0              0                  0   \n",
       "3     0.0                        0              0                  0   \n",
       "4     0.0                        0              0                  0   \n",
       "\n",
       "   cuisine_style_isnan  cuis_num                                    date_rev  \\\n",
       "0                    0         2                                          []   \n",
       "1                    0         5  [2017-10-29 00:00:00, 2017-12-05 00:00:00]   \n",
       "2                    0         1  [2017-12-06 00:00:00, 2017-12-28 00:00:00]   \n",
       "3                    0         5  [2017-11-22 00:00:00, 2017-12-06 00:00:00]   \n",
       "4                    0         6  [2018-01-24 00:00:00, 2018-02-08 00:00:00]   \n",
       "\n",
       "       rev_1      rev_2  \n",
       "0        NaT        NaT  \n",
       "1 2017-10-29 2017-12-05  \n",
       "2 2017-12-06 2017-12-28  \n",
       "3 2017-11-22 2017-12-06  \n",
       "4 2018-01-24 2018-02-08  "
      ]
     },
     "execution_count": 56,
     "metadata": {},
     "output_type": "execute_result"
    }
   ],
   "source": [
    "#Разделим столбец date_rev на два с двумя датами ревью:\n",
    "df[\"rev_1\"] = df[\"date_rev\"].apply(lambda x: x[0] if len(x)>=1 else None)\n",
    "df[\"rev_2\"] = df[\"date_rev\"].apply(lambda x: x[1] if len(x)==2 else None)\n",
    "df.head()"
   ]
  },
  {
   "cell_type": "code",
   "execution_count": 57,
   "metadata": {},
   "outputs": [
    {
     "data": {
      "text/plain": [
       "0           0.0\n",
       "1        1317.0\n",
       "2        1294.0\n",
       "3        1316.0\n",
       "4        1252.0\n",
       "          ...  \n",
       "49995    1306.0\n",
       "49996    1301.0\n",
       "49997    1714.0\n",
       "49998    1464.0\n",
       "49999    1991.0\n",
       "Name: days, Length: 50000, dtype: float64"
      ]
     },
     "execution_count": 57,
     "metadata": {},
     "output_type": "execute_result"
    }
   ],
   "source": [
    "#добавим столбец с количеством дней с последнего ревью:\n",
    "df['days'] = pd.to_datetime(df.rev_2).sub(pd.Timestamp('2021-07-14')).dt.days\n",
    "df['days'] = abs(df.days)\n",
    "df['days']= df['days'].fillna(0)\n",
    "df['days']"
   ]
  },
  {
   "cell_type": "code",
   "execution_count": 58,
   "metadata": {},
   "outputs": [
    {
     "data": {
      "text/html": [
       "<div>\n",
       "<style scoped>\n",
       "    .dataframe tbody tr th:only-of-type {\n",
       "        vertical-align: middle;\n",
       "    }\n",
       "\n",
       "    .dataframe tbody tr th {\n",
       "        vertical-align: top;\n",
       "    }\n",
       "\n",
       "    .dataframe thead th {\n",
       "        text-align: right;\n",
       "    }\n",
       "</style>\n",
       "<table border=\"1\" class=\"dataframe\">\n",
       "  <thead>\n",
       "    <tr style=\"text-align: right;\">\n",
       "      <th></th>\n",
       "      <th>id</th>\n",
       "      <th>city</th>\n",
       "      <th>cuisine_style</th>\n",
       "      <th>ranking</th>\n",
       "      <th>price_range</th>\n",
       "      <th>number_of_reviews</th>\n",
       "      <th>reviews</th>\n",
       "      <th>url_ta</th>\n",
       "      <th>id_ta</th>\n",
       "      <th>sample</th>\n",
       "      <th>...</th>\n",
       "      <th>number_of_reviews_isnan</th>\n",
       "      <th>reviews_isnan</th>\n",
       "      <th>price_range_isnan</th>\n",
       "      <th>cuisine_style_isnan</th>\n",
       "      <th>cuis_num</th>\n",
       "      <th>date_rev</th>\n",
       "      <th>rev_1</th>\n",
       "      <th>rev_2</th>\n",
       "      <th>days</th>\n",
       "      <th>days_dif</th>\n",
       "    </tr>\n",
       "  </thead>\n",
       "  <tbody>\n",
       "    <tr>\n",
       "      <th>0</th>\n",
       "      <td>id_0</td>\n",
       "      <td>Paris</td>\n",
       "      <td>[Bar, Pub]</td>\n",
       "      <td>12963.0</td>\n",
       "      <td>2.0</td>\n",
       "      <td>4.0</td>\n",
       "      <td>[[], []]</td>\n",
       "      <td>/Restaurant_Review-g187147-d10746918-Reviews-L...</td>\n",
       "      <td>d10746918</td>\n",
       "      <td>0</td>\n",
       "      <td>...</td>\n",
       "      <td>0</td>\n",
       "      <td>0</td>\n",
       "      <td>0</td>\n",
       "      <td>0</td>\n",
       "      <td>2</td>\n",
       "      <td>[]</td>\n",
       "      <td>NaT</td>\n",
       "      <td>NaT</td>\n",
       "      <td>0.0</td>\n",
       "      <td>0.0</td>\n",
       "    </tr>\n",
       "    <tr>\n",
       "      <th>1</th>\n",
       "      <td>id_1</td>\n",
       "      <td>Helsinki</td>\n",
       "      <td>[European, Scandinavian, Gluten Free Options, ...</td>\n",
       "      <td>106.0</td>\n",
       "      <td>2.0</td>\n",
       "      <td>97.0</td>\n",
       "      <td>[['Very good reviews!', 'Fine dining in Hakani...</td>\n",
       "      <td>/Restaurant_Review-g189934-d6674944-Reviews-Ra...</td>\n",
       "      <td>d6674944</td>\n",
       "      <td>0</td>\n",
       "      <td>...</td>\n",
       "      <td>0</td>\n",
       "      <td>0</td>\n",
       "      <td>0</td>\n",
       "      <td>0</td>\n",
       "      <td>5</td>\n",
       "      <td>[2017-10-29 00:00:00, 2017-12-05 00:00:00]</td>\n",
       "      <td>2017-10-29</td>\n",
       "      <td>2017-12-05</td>\n",
       "      <td>1317.0</td>\n",
       "      <td>37.0</td>\n",
       "    </tr>\n",
       "    <tr>\n",
       "      <th>2</th>\n",
       "      <td>id_2</td>\n",
       "      <td>Edinburgh</td>\n",
       "      <td>[Vegetarian Friendly]</td>\n",
       "      <td>810.0</td>\n",
       "      <td>2.0</td>\n",
       "      <td>28.0</td>\n",
       "      <td>[['Better than the Links', 'Ivy Black'], ['12/...</td>\n",
       "      <td>/Restaurant_Review-g186525-d13129638-Reviews-B...</td>\n",
       "      <td>d13129638</td>\n",
       "      <td>0</td>\n",
       "      <td>...</td>\n",
       "      <td>0</td>\n",
       "      <td>0</td>\n",
       "      <td>0</td>\n",
       "      <td>0</td>\n",
       "      <td>1</td>\n",
       "      <td>[2017-12-06 00:00:00, 2017-12-28 00:00:00]</td>\n",
       "      <td>2017-12-06</td>\n",
       "      <td>2017-12-28</td>\n",
       "      <td>1294.0</td>\n",
       "      <td>22.0</td>\n",
       "    </tr>\n",
       "    <tr>\n",
       "      <th>3</th>\n",
       "      <td>id_3</td>\n",
       "      <td>London</td>\n",
       "      <td>[Italian, Mediterranean, European, Vegetarian ...</td>\n",
       "      <td>1669.0</td>\n",
       "      <td>3.0</td>\n",
       "      <td>202.0</td>\n",
       "      <td>[['Most exquisite', 'Delicious and authentic']...</td>\n",
       "      <td>/Restaurant_Review-g186338-d680417-Reviews-Qui...</td>\n",
       "      <td>d680417</td>\n",
       "      <td>0</td>\n",
       "      <td>...</td>\n",
       "      <td>0</td>\n",
       "      <td>0</td>\n",
       "      <td>0</td>\n",
       "      <td>0</td>\n",
       "      <td>5</td>\n",
       "      <td>[2017-11-22 00:00:00, 2017-12-06 00:00:00]</td>\n",
       "      <td>2017-11-22</td>\n",
       "      <td>2017-12-06</td>\n",
       "      <td>1316.0</td>\n",
       "      <td>14.0</td>\n",
       "    </tr>\n",
       "    <tr>\n",
       "      <th>4</th>\n",
       "      <td>id_4</td>\n",
       "      <td>Bratislava</td>\n",
       "      <td>[Italian, Mediterranean, European, Seafood, Ve...</td>\n",
       "      <td>37.0</td>\n",
       "      <td>3.0</td>\n",
       "      <td>162.0</td>\n",
       "      <td>[['Always the best in bratislava', 'Very good ...</td>\n",
       "      <td>/Restaurant_Review-g274924-d1112354-Reviews-Ma...</td>\n",
       "      <td>d1112354</td>\n",
       "      <td>0</td>\n",
       "      <td>...</td>\n",
       "      <td>0</td>\n",
       "      <td>0</td>\n",
       "      <td>0</td>\n",
       "      <td>0</td>\n",
       "      <td>6</td>\n",
       "      <td>[2018-01-24 00:00:00, 2018-02-08 00:00:00]</td>\n",
       "      <td>2018-01-24</td>\n",
       "      <td>2018-02-08</td>\n",
       "      <td>1252.0</td>\n",
       "      <td>15.0</td>\n",
       "    </tr>\n",
       "  </tbody>\n",
       "</table>\n",
       "<p>5 rows × 21 columns</p>\n",
       "</div>"
      ],
      "text/plain": [
       "     id        city                                      cuisine_style  \\\n",
       "0  id_0       Paris                                         [Bar, Pub]   \n",
       "1  id_1    Helsinki  [European, Scandinavian, Gluten Free Options, ...   \n",
       "2  id_2   Edinburgh                              [Vegetarian Friendly]   \n",
       "3  id_3      London  [Italian, Mediterranean, European, Vegetarian ...   \n",
       "4  id_4  Bratislava  [Italian, Mediterranean, European, Seafood, Ve...   \n",
       "\n",
       "   ranking  price_range  number_of_reviews  \\\n",
       "0  12963.0          2.0                4.0   \n",
       "1    106.0          2.0               97.0   \n",
       "2    810.0          2.0               28.0   \n",
       "3   1669.0          3.0              202.0   \n",
       "4     37.0          3.0              162.0   \n",
       "\n",
       "                                             reviews  \\\n",
       "0                                           [[], []]   \n",
       "1  [['Very good reviews!', 'Fine dining in Hakani...   \n",
       "2  [['Better than the Links', 'Ivy Black'], ['12/...   \n",
       "3  [['Most exquisite', 'Delicious and authentic']...   \n",
       "4  [['Always the best in bratislava', 'Very good ...   \n",
       "\n",
       "                                              url_ta      id_ta  sample  ...  \\\n",
       "0  /Restaurant_Review-g187147-d10746918-Reviews-L...  d10746918       0  ...   \n",
       "1  /Restaurant_Review-g189934-d6674944-Reviews-Ra...   d6674944       0  ...   \n",
       "2  /Restaurant_Review-g186525-d13129638-Reviews-B...  d13129638       0  ...   \n",
       "3  /Restaurant_Review-g186338-d680417-Reviews-Qui...    d680417       0  ...   \n",
       "4  /Restaurant_Review-g274924-d1112354-Reviews-Ma...   d1112354       0  ...   \n",
       "\n",
       "   number_of_reviews_isnan  reviews_isnan  price_range_isnan  \\\n",
       "0                        0              0                  0   \n",
       "1                        0              0                  0   \n",
       "2                        0              0                  0   \n",
       "3                        0              0                  0   \n",
       "4                        0              0                  0   \n",
       "\n",
       "   cuisine_style_isnan  cuis_num                                    date_rev  \\\n",
       "0                    0         2                                          []   \n",
       "1                    0         5  [2017-10-29 00:00:00, 2017-12-05 00:00:00]   \n",
       "2                    0         1  [2017-12-06 00:00:00, 2017-12-28 00:00:00]   \n",
       "3                    0         5  [2017-11-22 00:00:00, 2017-12-06 00:00:00]   \n",
       "4                    0         6  [2018-01-24 00:00:00, 2018-02-08 00:00:00]   \n",
       "\n",
       "       rev_1      rev_2    days  days_dif  \n",
       "0        NaT        NaT     0.0       0.0  \n",
       "1 2017-10-29 2017-12-05  1317.0      37.0  \n",
       "2 2017-12-06 2017-12-28  1294.0      22.0  \n",
       "3 2017-11-22 2017-12-06  1316.0      14.0  \n",
       "4 2018-01-24 2018-02-08  1252.0      15.0  \n",
       "\n",
       "[5 rows x 21 columns]"
      ]
     },
     "execution_count": 58,
     "metadata": {},
     "output_type": "execute_result"
    }
   ],
   "source": [
    "#добавим столбец с количеством дней (разницей) между первым и вторым ревью:\n",
    "df['days_dif'] = pd.to_datetime(df.rev_2).sub(df.rev_1).dt.days\n",
    "df['days_dif'] = df['days_dif'].fillna(0)\n",
    "df.head()"
   ]
  },
  {
   "cell_type": "code",
   "execution_count": 59,
   "metadata": {},
   "outputs": [
    {
     "data": {
      "text/plain": [
       "<AxesSubplot:>"
      ]
     },
     "execution_count": 59,
     "metadata": {},
     "output_type": "execute_result"
    },
    {
     "data": {
      "image/png": "[encoded data removed]",
      "text/plain": [
       "<Figure size 432x288 with 1 Axes>"
      ]
     },
     "metadata": {
      "needs_background": "light"
     },
     "output_type": "display_data"
    }
   ],
   "source": [
    "#посмотрим на распределение признака city:\n",
    "df['city'].value_counts(ascending=True).plot(kind='barh')"
   ]
  },
  {
   "cell_type": "markdown",
   "metadata": {},
   "source": [
    "Поскольку города один из интересных категориальных признаков, попробуем сделать 2 варианта - преобразовать столбец city в dummy-переменные по топ 10 городам и по всем. Для этого сделаем две копии датафрейма: df1 для модели по топ 10 городам и df2 для модели с dummy переменными по всем городам. В последствии сравним МАЕ.\n"
   ]
  },
  {
   "cell_type": "code",
   "execution_count": 60,
   "metadata": {},
   "outputs": [],
   "source": [
    "df1=df.copy()\n"
   ]
  },
  {
   "cell_type": "code",
   "execution_count": 120,
   "metadata": {},
   "outputs": [],
   "source": [
    "df2=df.copy()"
   ]
  },
  {
   "cell_type": "markdown",
   "metadata": {},
   "source": [
    "## Работа по варианту 1"
   ]
  },
  {
   "cell_type": "code",
   "execution_count": 61,
   "metadata": {},
   "outputs": [
    {
     "data": {
      "text/plain": [
       "other        16597\n",
       "london        7193\n",
       "paris         6108\n",
       "madrid        3813\n",
       "barcelona     3395\n",
       "berlin        2705\n",
       "milan         2694\n",
       "rome          2589\n",
       "prague        1816\n",
       "lisbon        1647\n",
       "vienna        1443\n",
       "Name: city, dtype: int64"
      ]
     },
     "execution_count": 61,
     "metadata": {},
     "output_type": "execute_result"
    }
   ],
   "source": [
    "#Выберем топ 10 городов, а остальные заменим на other\n",
    "topcitylist = df1['city'].value_counts()[0:10].index\n",
    "allcitylist = df1['city'].value_counts().index\n",
    "citylisttodrop = list(set(allcitylist) - set(topcitylist))\n",
    "\n",
    "df1.loc[df1['city'].isin(citylisttodrop), 'city'] = 'other'\n",
    "df1['city'] = df1['city'].apply(lambda x: x.lower())\n",
    "\n",
    "df1['city'].value_counts()\n"
   ]
  },
  {
   "cell_type": "code",
   "execution_count": 62,
   "metadata": {},
   "outputs": [
    {
     "data": {
      "text/plain": [
       "<AxesSubplot:>"
      ]
     },
     "execution_count": 62,
     "metadata": {},
     "output_type": "execute_result"
    },
    {
     "data": {
      "image/png": "[encoded data removed]",
      "text/plain": [
       "<Figure size 432x288 with 1 Axes>"
      ]
     },
     "metadata": {
      "needs_background": "light"
     },
     "output_type": "display_data"
    }
   ],
   "source": [
    "#посмотрим теперь на распределение признака city:\n",
    "df1['city'].value_counts(ascending=True).plot(kind='barh')"
   ]
  },
  {
   "cell_type": "code",
   "execution_count": 63,
   "metadata": {},
   "outputs": [
    {
     "data": {
      "text/html": [
       "<div>\n",
       "<style scoped>\n",
       "    .dataframe tbody tr th:only-of-type {\n",
       "        vertical-align: middle;\n",
       "    }\n",
       "\n",
       "    .dataframe tbody tr th {\n",
       "        vertical-align: top;\n",
       "    }\n",
       "\n",
       "    .dataframe thead th {\n",
       "        text-align: right;\n",
       "    }\n",
       "</style>\n",
       "<table border=\"1\" class=\"dataframe\">\n",
       "  <thead>\n",
       "    <tr style=\"text-align: right;\">\n",
       "      <th></th>\n",
       "      <th>id</th>\n",
       "      <th>cuisine_style</th>\n",
       "      <th>ranking</th>\n",
       "      <th>price_range</th>\n",
       "      <th>number_of_reviews</th>\n",
       "      <th>reviews</th>\n",
       "      <th>url_ta</th>\n",
       "      <th>id_ta</th>\n",
       "      <th>sample</th>\n",
       "      <th>rating</th>\n",
       "      <th>...</th>\n",
       "      <th>city_berlin</th>\n",
       "      <th>city_lisbon</th>\n",
       "      <th>city_london</th>\n",
       "      <th>city_madrid</th>\n",
       "      <th>city_milan</th>\n",
       "      <th>city_other</th>\n",
       "      <th>city_paris</th>\n",
       "      <th>city_prague</th>\n",
       "      <th>city_rome</th>\n",
       "      <th>city_vienna</th>\n",
       "    </tr>\n",
       "  </thead>\n",
       "  <tbody>\n",
       "    <tr>\n",
       "      <th>0</th>\n",
       "      <td>id_0</td>\n",
       "      <td>[Bar, Pub]</td>\n",
       "      <td>12963.0</td>\n",
       "      <td>2.0</td>\n",
       "      <td>4.0</td>\n",
       "      <td>[[], []]</td>\n",
       "      <td>/Restaurant_Review-g187147-d10746918-Reviews-L...</td>\n",
       "      <td>d10746918</td>\n",
       "      <td>0</td>\n",
       "      <td>0.0</td>\n",
       "      <td>...</td>\n",
       "      <td>0</td>\n",
       "      <td>0</td>\n",
       "      <td>0</td>\n",
       "      <td>0</td>\n",
       "      <td>0</td>\n",
       "      <td>0</td>\n",
       "      <td>1</td>\n",
       "      <td>0</td>\n",
       "      <td>0</td>\n",
       "      <td>0</td>\n",
       "    </tr>\n",
       "    <tr>\n",
       "      <th>1</th>\n",
       "      <td>id_1</td>\n",
       "      <td>[European, Scandinavian, Gluten Free Options, ...</td>\n",
       "      <td>106.0</td>\n",
       "      <td>2.0</td>\n",
       "      <td>97.0</td>\n",
       "      <td>[['Very good reviews!', 'Fine dining in Hakani...</td>\n",
       "      <td>/Restaurant_Review-g189934-d6674944-Reviews-Ra...</td>\n",
       "      <td>d6674944</td>\n",
       "      <td>0</td>\n",
       "      <td>0.0</td>\n",
       "      <td>...</td>\n",
       "      <td>0</td>\n",
       "      <td>0</td>\n",
       "      <td>0</td>\n",
       "      <td>0</td>\n",
       "      <td>0</td>\n",
       "      <td>1</td>\n",
       "      <td>0</td>\n",
       "      <td>0</td>\n",
       "      <td>0</td>\n",
       "      <td>0</td>\n",
       "    </tr>\n",
       "    <tr>\n",
       "      <th>2</th>\n",
       "      <td>id_2</td>\n",
       "      <td>[Vegetarian Friendly]</td>\n",
       "      <td>810.0</td>\n",
       "      <td>2.0</td>\n",
       "      <td>28.0</td>\n",
       "      <td>[['Better than the Links', 'Ivy Black'], ['12/...</td>\n",
       "      <td>/Restaurant_Review-g186525-d13129638-Reviews-B...</td>\n",
       "      <td>d13129638</td>\n",
       "      <td>0</td>\n",
       "      <td>0.0</td>\n",
       "      <td>...</td>\n",
       "      <td>0</td>\n",
       "      <td>0</td>\n",
       "      <td>0</td>\n",
       "      <td>0</td>\n",
       "      <td>0</td>\n",
       "      <td>1</td>\n",
       "      <td>0</td>\n",
       "      <td>0</td>\n",
       "      <td>0</td>\n",
       "      <td>0</td>\n",
       "    </tr>\n",
       "    <tr>\n",
       "      <th>3</th>\n",
       "      <td>id_3</td>\n",
       "      <td>[Italian, Mediterranean, European, Vegetarian ...</td>\n",
       "      <td>1669.0</td>\n",
       "      <td>3.0</td>\n",
       "      <td>202.0</td>\n",
       "      <td>[['Most exquisite', 'Delicious and authentic']...</td>\n",
       "      <td>/Restaurant_Review-g186338-d680417-Reviews-Qui...</td>\n",
       "      <td>d680417</td>\n",
       "      <td>0</td>\n",
       "      <td>0.0</td>\n",
       "      <td>...</td>\n",
       "      <td>0</td>\n",
       "      <td>0</td>\n",
       "      <td>1</td>\n",
       "      <td>0</td>\n",
       "      <td>0</td>\n",
       "      <td>0</td>\n",
       "      <td>0</td>\n",
       "      <td>0</td>\n",
       "      <td>0</td>\n",
       "      <td>0</td>\n",
       "    </tr>\n",
       "    <tr>\n",
       "      <th>4</th>\n",
       "      <td>id_4</td>\n",
       "      <td>[Italian, Mediterranean, European, Seafood, Ve...</td>\n",
       "      <td>37.0</td>\n",
       "      <td>3.0</td>\n",
       "      <td>162.0</td>\n",
       "      <td>[['Always the best in bratislava', 'Very good ...</td>\n",
       "      <td>/Restaurant_Review-g274924-d1112354-Reviews-Ma...</td>\n",
       "      <td>d1112354</td>\n",
       "      <td>0</td>\n",
       "      <td>0.0</td>\n",
       "      <td>...</td>\n",
       "      <td>0</td>\n",
       "      <td>0</td>\n",
       "      <td>0</td>\n",
       "      <td>0</td>\n",
       "      <td>0</td>\n",
       "      <td>1</td>\n",
       "      <td>0</td>\n",
       "      <td>0</td>\n",
       "      <td>0</td>\n",
       "      <td>0</td>\n",
       "    </tr>\n",
       "  </tbody>\n",
       "</table>\n",
       "<p>5 rows × 31 columns</p>\n",
       "</div>"
      ],
      "text/plain": [
       "     id                                      cuisine_style  ranking  \\\n",
       "0  id_0                                         [Bar, Pub]  12963.0   \n",
       "1  id_1  [European, Scandinavian, Gluten Free Options, ...    106.0   \n",
       "2  id_2                              [Vegetarian Friendly]    810.0   \n",
       "3  id_3  [Italian, Mediterranean, European, Vegetarian ...   1669.0   \n",
       "4  id_4  [Italian, Mediterranean, European, Seafood, Ve...     37.0   \n",
       "\n",
       "   price_range  number_of_reviews  \\\n",
       "0          2.0                4.0   \n",
       "1          2.0               97.0   \n",
       "2          2.0               28.0   \n",
       "3          3.0              202.0   \n",
       "4          3.0              162.0   \n",
       "\n",
       "                                             reviews  \\\n",
       "0                                           [[], []]   \n",
       "1  [['Very good reviews!', 'Fine dining in Hakani...   \n",
       "2  [['Better than the Links', 'Ivy Black'], ['12/...   \n",
       "3  [['Most exquisite', 'Delicious and authentic']...   \n",
       "4  [['Always the best in bratislava', 'Very good ...   \n",
       "\n",
       "                                              url_ta      id_ta  sample  \\\n",
       "0  /Restaurant_Review-g187147-d10746918-Reviews-L...  d10746918       0   \n",
       "1  /Restaurant_Review-g189934-d6674944-Reviews-Ra...   d6674944       0   \n",
       "2  /Restaurant_Review-g186525-d13129638-Reviews-B...  d13129638       0   \n",
       "3  /Restaurant_Review-g186338-d680417-Reviews-Qui...    d680417       0   \n",
       "4  /Restaurant_Review-g274924-d1112354-Reviews-Ma...   d1112354       0   \n",
       "\n",
       "   rating  ...  city_berlin  city_lisbon  city_london  city_madrid  \\\n",
       "0     0.0  ...            0            0            0            0   \n",
       "1     0.0  ...            0            0            0            0   \n",
       "2     0.0  ...            0            0            0            0   \n",
       "3     0.0  ...            0            0            1            0   \n",
       "4     0.0  ...            0            0            0            0   \n",
       "\n",
       "   city_milan city_other city_paris city_prague  city_rome  city_vienna  \n",
       "0           0          0          1           0          0            0  \n",
       "1           0          1          0           0          0            0  \n",
       "2           0          1          0           0          0            0  \n",
       "3           0          0          0           0          0            0  \n",
       "4           0          1          0           0          0            0  \n",
       "\n",
       "[5 rows x 31 columns]"
      ]
     },
     "execution_count": 63,
     "metadata": {},
     "output_type": "execute_result"
    }
   ],
   "source": [
    "#преобразуем столбец city в dummy-переменные:\n",
    "\n",
    "df1 = pd.get_dummies(df1, columns=['city'])\n",
    "df1.head()"
   ]
  },
  {
   "cell_type": "code",
   "execution_count": 64,
   "metadata": {},
   "outputs": [
    {
     "name": "stdout",
     "output_type": "stream",
     "text": [
      "<class 'pandas.core.frame.DataFrame'>\n",
      "RangeIndex: 50000 entries, 0 to 49999\n",
      "Data columns (total 31 columns):\n",
      " #   Column                   Non-Null Count  Dtype         \n",
      "---  ------                   --------------  -----         \n",
      " 0   id                       50000 non-null  object        \n",
      " 1   cuisine_style            50000 non-null  object        \n",
      " 2   ranking                  50000 non-null  float64       \n",
      " 3   price_range              50000 non-null  float64       \n",
      " 4   number_of_reviews        50000 non-null  float64       \n",
      " 5   reviews                  50000 non-null  object        \n",
      " 6   url_ta                   50000 non-null  object        \n",
      " 7   id_ta                    50000 non-null  object        \n",
      " 8   sample                   50000 non-null  int64         \n",
      " 9   rating                   50000 non-null  float64       \n",
      " 10  number_of_reviews_isnan  50000 non-null  uint8         \n",
      " 11  reviews_isnan            50000 non-null  uint8         \n",
      " 12  price_range_isnan        50000 non-null  uint8         \n",
      " 13  cuisine_style_isnan      50000 non-null  uint8         \n",
      " 14  cuis_num                 50000 non-null  int64         \n",
      " 15  date_rev                 50000 non-null  object        \n",
      " 16  rev_1                    41886 non-null  datetime64[ns]\n",
      " 17  rev_2                    36202 non-null  datetime64[ns]\n",
      " 18  days                     50000 non-null  float64       \n",
      " 19  days_dif                 50000 non-null  float64       \n",
      " 20  city_barcelona           50000 non-null  uint8         \n",
      " 21  city_berlin              50000 non-null  uint8         \n",
      " 22  city_lisbon              50000 non-null  uint8         \n",
      " 23  city_london              50000 non-null  uint8         \n",
      " 24  city_madrid              50000 non-null  uint8         \n",
      " 25  city_milan               50000 non-null  uint8         \n",
      " 26  city_other               50000 non-null  uint8         \n",
      " 27  city_paris               50000 non-null  uint8         \n",
      " 28  city_prague              50000 non-null  uint8         \n",
      " 29  city_rome                50000 non-null  uint8         \n",
      " 30  city_vienna              50000 non-null  uint8         \n",
      "dtypes: datetime64[ns](2), float64(6), int64(2), object(6), uint8(15)\n",
      "memory usage: 6.8+ MB\n"
     ]
    }
   ],
   "source": [
    "df1.info()"
   ]
  },
  {
   "cell_type": "code",
   "execution_count": 65,
   "metadata": {},
   "outputs": [
    {
     "name": "stdout",
     "output_type": "stream",
     "text": [
      "<class 'pandas.core.frame.DataFrame'>\n",
      "RangeIndex: 50000 entries, 0 to 49999\n",
      "Data columns (total 24 columns):\n",
      " #   Column                   Non-Null Count  Dtype  \n",
      "---  ------                   --------------  -----  \n",
      " 0   id                       50000 non-null  int64  \n",
      " 1   ranking                  50000 non-null  float64\n",
      " 2   price_range              50000 non-null  float64\n",
      " 3   number_of_reviews        50000 non-null  float64\n",
      " 4   sample                   50000 non-null  int64  \n",
      " 5   rating                   50000 non-null  float64\n",
      " 6   number_of_reviews_isnan  50000 non-null  uint8  \n",
      " 7   reviews_isnan            50000 non-null  uint8  \n",
      " 8   price_range_isnan        50000 non-null  uint8  \n",
      " 9   cuisine_style_isnan      50000 non-null  uint8  \n",
      " 10  cuis_num                 50000 non-null  int64  \n",
      " 11  days                     50000 non-null  float64\n",
      " 12  days_dif                 50000 non-null  float64\n",
      " 13  city_barcelona           50000 non-null  uint8  \n",
      " 14  city_berlin              50000 non-null  uint8  \n",
      " 15  city_lisbon              50000 non-null  uint8  \n",
      " 16  city_london              50000 non-null  uint8  \n",
      " 17  city_madrid              50000 non-null  uint8  \n",
      " 18  city_milan               50000 non-null  uint8  \n",
      " 19  city_other               50000 non-null  uint8  \n",
      " 20  city_paris               50000 non-null  uint8  \n",
      " 21  city_prague              50000 non-null  uint8  \n",
      " 22  city_rome                50000 non-null  uint8  \n",
      " 23  city_vienna              50000 non-null  uint8  \n",
      "dtypes: float64(6), int64(3), uint8(15)\n",
      "memory usage: 4.1 MB\n"
     ]
    }
   ],
   "source": [
    "#сделаем копию, чтобы проверить МАЕ\n",
    "df1_1 = df1.copy()\n",
    "#признак id может быть значим, поэтому преобразуем его в цифровой\n",
    "df1_1.id = df1_1.id.str.replace('id_','')\n",
    "df1_1.id = pd.to_numeric(df1_1.id)\n",
    "\n",
    "#и удалим все не цифровые значения\n",
    "df1_1 = df1_1.drop([ 'cuisine_style', 'reviews', 'url_ta', 'id_ta','date_rev',\n",
    "                    'rev_1', 'rev_2'], axis=1)\n",
    "df1_1.info()"
   ]
  },
  {
   "cell_type": "markdown",
   "metadata": {},
   "source": [
    "## Работа по варианту 2"
   ]
  },
  {
   "cell_type": "code",
   "execution_count": 121,
   "metadata": {},
   "outputs": [
    {
     "data": {
      "text/html": [
       "<div>\n",
       "<style scoped>\n",
       "    .dataframe tbody tr th:only-of-type {\n",
       "        vertical-align: middle;\n",
       "    }\n",
       "\n",
       "    .dataframe tbody tr th {\n",
       "        vertical-align: top;\n",
       "    }\n",
       "\n",
       "    .dataframe thead th {\n",
       "        text-align: right;\n",
       "    }\n",
       "</style>\n",
       "<table border=\"1\" class=\"dataframe\">\n",
       "  <thead>\n",
       "    <tr style=\"text-align: right;\">\n",
       "      <th></th>\n",
       "      <th>id</th>\n",
       "      <th>cuisine_style</th>\n",
       "      <th>ranking</th>\n",
       "      <th>price_range</th>\n",
       "      <th>number_of_reviews</th>\n",
       "      <th>reviews</th>\n",
       "      <th>url_ta</th>\n",
       "      <th>id_ta</th>\n",
       "      <th>sample</th>\n",
       "      <th>rating</th>\n",
       "      <th>...</th>\n",
       "      <th>city_munich</th>\n",
       "      <th>city_oporto</th>\n",
       "      <th>city_oslo</th>\n",
       "      <th>city_paris</th>\n",
       "      <th>city_prague</th>\n",
       "      <th>city_rome</th>\n",
       "      <th>city_stockholm</th>\n",
       "      <th>city_vienna</th>\n",
       "      <th>city_warsaw</th>\n",
       "      <th>city_zurich</th>\n",
       "    </tr>\n",
       "  </thead>\n",
       "  <tbody>\n",
       "    <tr>\n",
       "      <th>0</th>\n",
       "      <td>id_0</td>\n",
       "      <td>[Bar, Pub]</td>\n",
       "      <td>12963.0</td>\n",
       "      <td>2.0</td>\n",
       "      <td>4.0</td>\n",
       "      <td>[[], []]</td>\n",
       "      <td>/Restaurant_Review-g187147-d10746918-Reviews-L...</td>\n",
       "      <td>d10746918</td>\n",
       "      <td>0</td>\n",
       "      <td>0.0</td>\n",
       "      <td>...</td>\n",
       "      <td>0</td>\n",
       "      <td>0</td>\n",
       "      <td>0</td>\n",
       "      <td>1</td>\n",
       "      <td>0</td>\n",
       "      <td>0</td>\n",
       "      <td>0</td>\n",
       "      <td>0</td>\n",
       "      <td>0</td>\n",
       "      <td>0</td>\n",
       "    </tr>\n",
       "    <tr>\n",
       "      <th>1</th>\n",
       "      <td>id_1</td>\n",
       "      <td>[European, Scandinavian, Gluten Free Options, ...</td>\n",
       "      <td>106.0</td>\n",
       "      <td>2.0</td>\n",
       "      <td>97.0</td>\n",
       "      <td>[['Very good reviews!', 'Fine dining in Hakani...</td>\n",
       "      <td>/Restaurant_Review-g189934-d6674944-Reviews-Ra...</td>\n",
       "      <td>d6674944</td>\n",
       "      <td>0</td>\n",
       "      <td>0.0</td>\n",
       "      <td>...</td>\n",
       "      <td>0</td>\n",
       "      <td>0</td>\n",
       "      <td>0</td>\n",
       "      <td>0</td>\n",
       "      <td>0</td>\n",
       "      <td>0</td>\n",
       "      <td>0</td>\n",
       "      <td>0</td>\n",
       "      <td>0</td>\n",
       "      <td>0</td>\n",
       "    </tr>\n",
       "    <tr>\n",
       "      <th>2</th>\n",
       "      <td>id_2</td>\n",
       "      <td>[Vegetarian Friendly]</td>\n",
       "      <td>810.0</td>\n",
       "      <td>2.0</td>\n",
       "      <td>28.0</td>\n",
       "      <td>[['Better than the Links', 'Ivy Black'], ['12/...</td>\n",
       "      <td>/Restaurant_Review-g186525-d13129638-Reviews-B...</td>\n",
       "      <td>d13129638</td>\n",
       "      <td>0</td>\n",
       "      <td>0.0</td>\n",
       "      <td>...</td>\n",
       "      <td>0</td>\n",
       "      <td>0</td>\n",
       "      <td>0</td>\n",
       "      <td>0</td>\n",
       "      <td>0</td>\n",
       "      <td>0</td>\n",
       "      <td>0</td>\n",
       "      <td>0</td>\n",
       "      <td>0</td>\n",
       "      <td>0</td>\n",
       "    </tr>\n",
       "    <tr>\n",
       "      <th>3</th>\n",
       "      <td>id_3</td>\n",
       "      <td>[Italian, Mediterranean, European, Vegetarian ...</td>\n",
       "      <td>1669.0</td>\n",
       "      <td>3.0</td>\n",
       "      <td>202.0</td>\n",
       "      <td>[['Most exquisite', 'Delicious and authentic']...</td>\n",
       "      <td>/Restaurant_Review-g186338-d680417-Reviews-Qui...</td>\n",
       "      <td>d680417</td>\n",
       "      <td>0</td>\n",
       "      <td>0.0</td>\n",
       "      <td>...</td>\n",
       "      <td>0</td>\n",
       "      <td>0</td>\n",
       "      <td>0</td>\n",
       "      <td>0</td>\n",
       "      <td>0</td>\n",
       "      <td>0</td>\n",
       "      <td>0</td>\n",
       "      <td>0</td>\n",
       "      <td>0</td>\n",
       "      <td>0</td>\n",
       "    </tr>\n",
       "    <tr>\n",
       "      <th>4</th>\n",
       "      <td>id_4</td>\n",
       "      <td>[Italian, Mediterranean, European, Seafood, Ve...</td>\n",
       "      <td>37.0</td>\n",
       "      <td>3.0</td>\n",
       "      <td>162.0</td>\n",
       "      <td>[['Always the best in bratislava', 'Very good ...</td>\n",
       "      <td>/Restaurant_Review-g274924-d1112354-Reviews-Ma...</td>\n",
       "      <td>d1112354</td>\n",
       "      <td>0</td>\n",
       "      <td>0.0</td>\n",
       "      <td>...</td>\n",
       "      <td>0</td>\n",
       "      <td>0</td>\n",
       "      <td>0</td>\n",
       "      <td>0</td>\n",
       "      <td>0</td>\n",
       "      <td>0</td>\n",
       "      <td>0</td>\n",
       "      <td>0</td>\n",
       "      <td>0</td>\n",
       "      <td>0</td>\n",
       "    </tr>\n",
       "  </tbody>\n",
       "</table>\n",
       "<p>5 rows × 51 columns</p>\n",
       "</div>"
      ],
      "text/plain": [
       "     id                                      cuisine_style  ranking  \\\n",
       "0  id_0                                         [Bar, Pub]  12963.0   \n",
       "1  id_1  [European, Scandinavian, Gluten Free Options, ...    106.0   \n",
       "2  id_2                              [Vegetarian Friendly]    810.0   \n",
       "3  id_3  [Italian, Mediterranean, European, Vegetarian ...   1669.0   \n",
       "4  id_4  [Italian, Mediterranean, European, Seafood, Ve...     37.0   \n",
       "\n",
       "   price_range  number_of_reviews  \\\n",
       "0          2.0                4.0   \n",
       "1          2.0               97.0   \n",
       "2          2.0               28.0   \n",
       "3          3.0              202.0   \n",
       "4          3.0              162.0   \n",
       "\n",
       "                                             reviews  \\\n",
       "0                                           [[], []]   \n",
       "1  [['Very good reviews!', 'Fine dining in Hakani...   \n",
       "2  [['Better than the Links', 'Ivy Black'], ['12/...   \n",
       "3  [['Most exquisite', 'Delicious and authentic']...   \n",
       "4  [['Always the best in bratislava', 'Very good ...   \n",
       "\n",
       "                                              url_ta      id_ta  sample  \\\n",
       "0  /Restaurant_Review-g187147-d10746918-Reviews-L...  d10746918       0   \n",
       "1  /Restaurant_Review-g189934-d6674944-Reviews-Ra...   d6674944       0   \n",
       "2  /Restaurant_Review-g186525-d13129638-Reviews-B...  d13129638       0   \n",
       "3  /Restaurant_Review-g186338-d680417-Reviews-Qui...    d680417       0   \n",
       "4  /Restaurant_Review-g274924-d1112354-Reviews-Ma...   d1112354       0   \n",
       "\n",
       "   rating  ...  city_munich  city_oporto  city_oslo  city_paris  city_prague  \\\n",
       "0     0.0  ...            0            0          0           1            0   \n",
       "1     0.0  ...            0            0          0           0            0   \n",
       "2     0.0  ...            0            0          0           0            0   \n",
       "3     0.0  ...            0            0          0           0            0   \n",
       "4     0.0  ...            0            0          0           0            0   \n",
       "\n",
       "  city_rome city_stockholm city_vienna  city_warsaw  city_zurich  \n",
       "0         0              0           0            0            0  \n",
       "1         0              0           0            0            0  \n",
       "2         0              0           0            0            0  \n",
       "3         0              0           0            0            0  \n",
       "4         0              0           0            0            0  \n",
       "\n",
       "[5 rows x 51 columns]"
      ]
     },
     "execution_count": 121,
     "metadata": {},
     "output_type": "execute_result"
    }
   ],
   "source": [
    "#преобразуем столбец city в dummy-переменные:\n",
    "df2['city'] = df2['city'].apply(lambda x: x.lower())\n",
    "df2 = pd.get_dummies(df2, columns=['city'])\n",
    "df2.head()"
   ]
  },
  {
   "cell_type": "code",
   "execution_count": 122,
   "metadata": {},
   "outputs": [
    {
     "name": "stdout",
     "output_type": "stream",
     "text": [
      "<class 'pandas.core.frame.DataFrame'>\n",
      "RangeIndex: 50000 entries, 0 to 49999\n",
      "Data columns (total 51 columns):\n",
      " #   Column                   Non-Null Count  Dtype         \n",
      "---  ------                   --------------  -----         \n",
      " 0   id                       50000 non-null  object        \n",
      " 1   cuisine_style            50000 non-null  object        \n",
      " 2   ranking                  50000 non-null  float64       \n",
      " 3   price_range              50000 non-null  float64       \n",
      " 4   number_of_reviews        50000 non-null  float64       \n",
      " 5   reviews                  50000 non-null  object        \n",
      " 6   url_ta                   50000 non-null  object        \n",
      " 7   id_ta                    50000 non-null  object        \n",
      " 8   sample                   50000 non-null  int64         \n",
      " 9   rating                   50000 non-null  float64       \n",
      " 10  number_of_reviews_isnan  50000 non-null  uint8         \n",
      " 11  reviews_isnan            50000 non-null  uint8         \n",
      " 12  price_range_isnan        50000 non-null  uint8         \n",
      " 13  cuisine_style_isnan      50000 non-null  uint8         \n",
      " 14  cuis_num                 50000 non-null  int64         \n",
      " 15  date_rev                 50000 non-null  object        \n",
      " 16  rev_1                    41886 non-null  datetime64[ns]\n",
      " 17  rev_2                    36202 non-null  datetime64[ns]\n",
      " 18  days                     50000 non-null  float64       \n",
      " 19  days_dif                 50000 non-null  float64       \n",
      " 20  city_amsterdam           50000 non-null  uint8         \n",
      " 21  city_athens              50000 non-null  uint8         \n",
      " 22  city_barcelona           50000 non-null  uint8         \n",
      " 23  city_berlin              50000 non-null  uint8         \n",
      " 24  city_bratislava          50000 non-null  uint8         \n",
      " 25  city_brussels            50000 non-null  uint8         \n",
      " 26  city_budapest            50000 non-null  uint8         \n",
      " 27  city_copenhagen          50000 non-null  uint8         \n",
      " 28  city_dublin              50000 non-null  uint8         \n",
      " 29  city_edinburgh           50000 non-null  uint8         \n",
      " 30  city_geneva              50000 non-null  uint8         \n",
      " 31  city_hamburg             50000 non-null  uint8         \n",
      " 32  city_helsinki            50000 non-null  uint8         \n",
      " 33  city_krakow              50000 non-null  uint8         \n",
      " 34  city_lisbon              50000 non-null  uint8         \n",
      " 35  city_ljubljana           50000 non-null  uint8         \n",
      " 36  city_london              50000 non-null  uint8         \n",
      " 37  city_luxembourg          50000 non-null  uint8         \n",
      " 38  city_lyon                50000 non-null  uint8         \n",
      " 39  city_madrid              50000 non-null  uint8         \n",
      " 40  city_milan               50000 non-null  uint8         \n",
      " 41  city_munich              50000 non-null  uint8         \n",
      " 42  city_oporto              50000 non-null  uint8         \n",
      " 43  city_oslo                50000 non-null  uint8         \n",
      " 44  city_paris               50000 non-null  uint8         \n",
      " 45  city_prague              50000 non-null  uint8         \n",
      " 46  city_rome                50000 non-null  uint8         \n",
      " 47  city_stockholm           50000 non-null  uint8         \n",
      " 48  city_vienna              50000 non-null  uint8         \n",
      " 49  city_warsaw              50000 non-null  uint8         \n",
      " 50  city_zurich              50000 non-null  uint8         \n",
      "dtypes: datetime64[ns](2), float64(6), int64(2), object(6), uint8(35)\n",
      "memory usage: 7.8+ MB\n"
     ]
    }
   ],
   "source": [
    "df2.info()"
   ]
  },
  {
   "cell_type": "code",
   "execution_count": 123,
   "metadata": {},
   "outputs": [
    {
     "name": "stdout",
     "output_type": "stream",
     "text": [
      "<class 'pandas.core.frame.DataFrame'>\n",
      "RangeIndex: 50000 entries, 0 to 49999\n",
      "Data columns (total 51 columns):\n",
      " #   Column                   Non-Null Count  Dtype         \n",
      "---  ------                   --------------  -----         \n",
      " 0   id                       50000 non-null  int64         \n",
      " 1   cuisine_style            50000 non-null  object        \n",
      " 2   ranking                  50000 non-null  float64       \n",
      " 3   price_range              50000 non-null  float64       \n",
      " 4   number_of_reviews        50000 non-null  float64       \n",
      " 5   reviews                  50000 non-null  object        \n",
      " 6   url_ta                   50000 non-null  object        \n",
      " 7   id_ta                    50000 non-null  object        \n",
      " 8   sample                   50000 non-null  int64         \n",
      " 9   rating                   50000 non-null  float64       \n",
      " 10  number_of_reviews_isnan  50000 non-null  uint8         \n",
      " 11  reviews_isnan            50000 non-null  uint8         \n",
      " 12  price_range_isnan        50000 non-null  uint8         \n",
      " 13  cuisine_style_isnan      50000 non-null  uint8         \n",
      " 14  cuis_num                 50000 non-null  int64         \n",
      " 15  date_rev                 50000 non-null  object        \n",
      " 16  rev_1                    41886 non-null  datetime64[ns]\n",
      " 17  rev_2                    36202 non-null  datetime64[ns]\n",
      " 18  days                     50000 non-null  float64       \n",
      " 19  days_dif                 50000 non-null  float64       \n",
      " 20  city_amsterdam           50000 non-null  uint8         \n",
      " 21  city_athens              50000 non-null  uint8         \n",
      " 22  city_barcelona           50000 non-null  uint8         \n",
      " 23  city_berlin              50000 non-null  uint8         \n",
      " 24  city_bratislava          50000 non-null  uint8         \n",
      " 25  city_brussels            50000 non-null  uint8         \n",
      " 26  city_budapest            50000 non-null  uint8         \n",
      " 27  city_copenhagen          50000 non-null  uint8         \n",
      " 28  city_dublin              50000 non-null  uint8         \n",
      " 29  city_edinburgh           50000 non-null  uint8         \n",
      " 30  city_geneva              50000 non-null  uint8         \n",
      " 31  city_hamburg             50000 non-null  uint8         \n",
      " 32  city_helsinki            50000 non-null  uint8         \n",
      " 33  city_krakow              50000 non-null  uint8         \n",
      " 34  city_lisbon              50000 non-null  uint8         \n",
      " 35  city_ljubljana           50000 non-null  uint8         \n",
      " 36  city_london              50000 non-null  uint8         \n",
      " 37  city_luxembourg          50000 non-null  uint8         \n",
      " 38  city_lyon                50000 non-null  uint8         \n",
      " 39  city_madrid              50000 non-null  uint8         \n",
      " 40  city_milan               50000 non-null  uint8         \n",
      " 41  city_munich              50000 non-null  uint8         \n",
      " 42  city_oporto              50000 non-null  uint8         \n",
      " 43  city_oslo                50000 non-null  uint8         \n",
      " 44  city_paris               50000 non-null  uint8         \n",
      " 45  city_prague              50000 non-null  uint8         \n",
      " 46  city_rome                50000 non-null  uint8         \n",
      " 47  city_stockholm           50000 non-null  uint8         \n",
      " 48  city_vienna              50000 non-null  uint8         \n",
      " 49  city_warsaw              50000 non-null  uint8         \n",
      " 50  city_zurich              50000 non-null  uint8         \n",
      "dtypes: datetime64[ns](2), float64(6), int64(3), object(5), uint8(35)\n",
      "memory usage: 7.8+ MB\n"
     ]
    }
   ],
   "source": [
    "#сделаем копию, чтобы проверить МАЕ\n",
    "df2_2 = df2.copy()\n",
    "#признак id может быть значим, поэтому преобразуем его в цифровой\n",
    "df2_2.id = df2_2.id.str.replace('id_','')\n",
    "df2_2.id = pd.to_numeric(df2_2.id)\n",
    "\n",
    "df2_2.info()"
   ]
  },
  {
   "cell_type": "code",
   "execution_count": 124,
   "metadata": {},
   "outputs": [
    {
     "name": "stdout",
     "output_type": "stream",
     "text": [
      "<class 'pandas.core.frame.DataFrame'>\n",
      "RangeIndex: 50000 entries, 0 to 49999\n",
      "Data columns (total 44 columns):\n",
      " #   Column                   Non-Null Count  Dtype  \n",
      "---  ------                   --------------  -----  \n",
      " 0   id                       50000 non-null  int64  \n",
      " 1   ranking                  50000 non-null  float64\n",
      " 2   price_range              50000 non-null  float64\n",
      " 3   number_of_reviews        50000 non-null  float64\n",
      " 4   sample                   50000 non-null  int64  \n",
      " 5   rating                   50000 non-null  float64\n",
      " 6   number_of_reviews_isnan  50000 non-null  uint8  \n",
      " 7   reviews_isnan            50000 non-null  uint8  \n",
      " 8   price_range_isnan        50000 non-null  uint8  \n",
      " 9   cuisine_style_isnan      50000 non-null  uint8  \n",
      " 10  cuis_num                 50000 non-null  int64  \n",
      " 11  days                     50000 non-null  float64\n",
      " 12  days_dif                 50000 non-null  float64\n",
      " 13  city_amsterdam           50000 non-null  uint8  \n",
      " 14  city_athens              50000 non-null  uint8  \n",
      " 15  city_barcelona           50000 non-null  uint8  \n",
      " 16  city_berlin              50000 non-null  uint8  \n",
      " 17  city_bratislava          50000 non-null  uint8  \n",
      " 18  city_brussels            50000 non-null  uint8  \n",
      " 19  city_budapest            50000 non-null  uint8  \n",
      " 20  city_copenhagen          50000 non-null  uint8  \n",
      " 21  city_dublin              50000 non-null  uint8  \n",
      " 22  city_edinburgh           50000 non-null  uint8  \n",
      " 23  city_geneva              50000 non-null  uint8  \n",
      " 24  city_hamburg             50000 non-null  uint8  \n",
      " 25  city_helsinki            50000 non-null  uint8  \n",
      " 26  city_krakow              50000 non-null  uint8  \n",
      " 27  city_lisbon              50000 non-null  uint8  \n",
      " 28  city_ljubljana           50000 non-null  uint8  \n",
      " 29  city_london              50000 non-null  uint8  \n",
      " 30  city_luxembourg          50000 non-null  uint8  \n",
      " 31  city_lyon                50000 non-null  uint8  \n",
      " 32  city_madrid              50000 non-null  uint8  \n",
      " 33  city_milan               50000 non-null  uint8  \n",
      " 34  city_munich              50000 non-null  uint8  \n",
      " 35  city_oporto              50000 non-null  uint8  \n",
      " 36  city_oslo                50000 non-null  uint8  \n",
      " 37  city_paris               50000 non-null  uint8  \n",
      " 38  city_prague              50000 non-null  uint8  \n",
      " 39  city_rome                50000 non-null  uint8  \n",
      " 40  city_stockholm           50000 non-null  uint8  \n",
      " 41  city_vienna              50000 non-null  uint8  \n",
      " 42  city_warsaw              50000 non-null  uint8  \n",
      " 43  city_zurich              50000 non-null  uint8  \n",
      "dtypes: float64(6), int64(3), uint8(35)\n",
      "memory usage: 5.1 MB\n"
     ]
    }
   ],
   "source": [
    "#удалим не-числовые столбцы\n",
    "\n",
    "df2_2 = df2_2.drop(['cuisine_style', 'reviews', 'url_ta', 'id_ta','date_rev',\n",
    "                    'rev_1', 'rev_2'], axis=1)\n",
    "df2_2.info()"
   ]
  },
  {
   "cell_type": "markdown",
   "metadata": {},
   "source": [
    "### Сравним варианты 1 и 2 по МАЕ"
   ]
  },
  {
   "cell_type": "markdown",
   "metadata": {},
   "source": [
    "для df1_1 MAE: 0.25282253273809524"
   ]
  },
  {
   "cell_type": "markdown",
   "metadata": {},
   "source": [
    "для df2_2 MAE: 0.20961562499999997"
   ]
  },
  {
   "cell_type": "markdown",
   "metadata": {},
   "source": [
    "ВЫВОД: уменьшать количество городов до топ 10 не целесообразно\n",
    "    \n",
    "Для продолжения работы копируем датасет df2_2 в df3, который теперь буедт основным"
   ]
  },
  {
   "cell_type": "code",
   "execution_count": 125,
   "metadata": {},
   "outputs": [
    {
     "name": "stdout",
     "output_type": "stream",
     "text": [
      "<class 'pandas.core.frame.DataFrame'>\n",
      "RangeIndex: 50000 entries, 0 to 49999\n",
      "Data columns (total 44 columns):\n",
      " #   Column                   Non-Null Count  Dtype  \n",
      "---  ------                   --------------  -----  \n",
      " 0   id                       50000 non-null  int64  \n",
      " 1   ranking                  50000 non-null  float64\n",
      " 2   price_range              50000 non-null  float64\n",
      " 3   number_of_reviews        50000 non-null  float64\n",
      " 4   sample                   50000 non-null  int64  \n",
      " 5   rating                   50000 non-null  float64\n",
      " 6   number_of_reviews_isnan  50000 non-null  uint8  \n",
      " 7   reviews_isnan            50000 non-null  uint8  \n",
      " 8   price_range_isnan        50000 non-null  uint8  \n",
      " 9   cuisine_style_isnan      50000 non-null  uint8  \n",
      " 10  cuis_num                 50000 non-null  int64  \n",
      " 11  days                     50000 non-null  float64\n",
      " 12  days_dif                 50000 non-null  float64\n",
      " 13  city_amsterdam           50000 non-null  uint8  \n",
      " 14  city_athens              50000 non-null  uint8  \n",
      " 15  city_barcelona           50000 non-null  uint8  \n",
      " 16  city_berlin              50000 non-null  uint8  \n",
      " 17  city_bratislava          50000 non-null  uint8  \n",
      " 18  city_brussels            50000 non-null  uint8  \n",
      " 19  city_budapest            50000 non-null  uint8  \n",
      " 20  city_copenhagen          50000 non-null  uint8  \n",
      " 21  city_dublin              50000 non-null  uint8  \n",
      " 22  city_edinburgh           50000 non-null  uint8  \n",
      " 23  city_geneva              50000 non-null  uint8  \n",
      " 24  city_hamburg             50000 non-null  uint8  \n",
      " 25  city_helsinki            50000 non-null  uint8  \n",
      " 26  city_krakow              50000 non-null  uint8  \n",
      " 27  city_lisbon              50000 non-null  uint8  \n",
      " 28  city_ljubljana           50000 non-null  uint8  \n",
      " 29  city_london              50000 non-null  uint8  \n",
      " 30  city_luxembourg          50000 non-null  uint8  \n",
      " 31  city_lyon                50000 non-null  uint8  \n",
      " 32  city_madrid              50000 non-null  uint8  \n",
      " 33  city_milan               50000 non-null  uint8  \n",
      " 34  city_munich              50000 non-null  uint8  \n",
      " 35  city_oporto              50000 non-null  uint8  \n",
      " 36  city_oslo                50000 non-null  uint8  \n",
      " 37  city_paris               50000 non-null  uint8  \n",
      " 38  city_prague              50000 non-null  uint8  \n",
      " 39  city_rome                50000 non-null  uint8  \n",
      " 40  city_stockholm           50000 non-null  uint8  \n",
      " 41  city_vienna              50000 non-null  uint8  \n",
      " 42  city_warsaw              50000 non-null  uint8  \n",
      " 43  city_zurich              50000 non-null  uint8  \n",
      "dtypes: float64(6), int64(3), uint8(35)\n",
      "memory usage: 5.1 MB\n"
     ]
    }
   ],
   "source": [
    "df3=df2_2.copy()\n",
    "df3.info()"
   ]
  },
  {
   "cell_type": "markdown",
   "metadata": {},
   "source": [
    "## Посмотрим распределение признака"
   ]
  },
  {
   "cell_type": "code",
   "execution_count": 92,
   "metadata": {},
   "outputs": [
    {
     "data": {
      "text/plain": [
       "<AxesSubplot:>"
      ]
     },
     "execution_count": 92,
     "metadata": {},
     "output_type": "execute_result"
    },
    {
     "data": {
      "image/png": "[encoded data removed]",
      "text/plain": [
       "<Figure size 720x504 with 1 Axes>"
      ]
     },
     "metadata": {
      "needs_background": "light"
     },
     "output_type": "display_data"
    }
   ],
   "source": [
    "\n",
    "plt.rcParams['figure.figsize'] = (10,7)\n",
    "df_train['Ranking'].hist(bins=100)"
   ]
  },
  {
   "cell_type": "markdown",
   "metadata": {},
   "source": [
    "У нас много ресторанов, которые не дотягивают и до 2500 места в своем городе, а что там по городам?"
   ]
  },
  {
   "cell_type": "code",
   "execution_count": 93,
   "metadata": {},
   "outputs": [
    {
     "data": {
      "text/plain": [
       "<AxesSubplot:>"
      ]
     },
     "execution_count": 93,
     "metadata": {},
     "output_type": "execute_result"
    },
    {
     "data": {
      "image/png": "[encoded data removed]",
      "text/plain": [
       "<Figure size 720x504 with 1 Axes>"
      ]
     },
     "metadata": {
      "needs_background": "light"
     },
     "output_type": "display_data"
    }
   ],
   "source": [
    "df_train['City'].value_counts(ascending=True).plot(kind='barh')"
   ]
  },
  {
   "cell_type": "markdown",
   "metadata": {},
   "source": [
    "Посмотрим, как изменится распределение в большом городе:"
   ]
  },
  {
   "cell_type": "code",
   "execution_count": 94,
   "metadata": {},
   "outputs": [
    {
     "data": {
      "text/plain": [
       "<AxesSubplot:>"
      ]
     },
     "execution_count": 94,
     "metadata": {},
     "output_type": "execute_result"
    },
    {
     "data": {
      "image/png": "[encoded data removed]",
      "text/plain": [
       "<Figure size 720x504 with 1 Axes>"
      ]
     },
     "metadata": {
      "needs_background": "light"
     },
     "output_type": "display_data"
    }
   ],
   "source": [
    "df_train['Ranking'][df_train['City'] =='London'].hist(bins=100)"
   ]
  },
  {
   "cell_type": "code",
   "execution_count": 95,
   "metadata": {},
   "outputs": [
    {
     "data": {
      "image/png": "[encoded data removed]",
      "text/plain": [
       "<Figure size 720x504 with 1 Axes>"
      ]
     },
     "metadata": {
      "needs_background": "light"
     },
     "output_type": "display_data"
    }
   ],
   "source": [
    "# посмотрим на топ 10 городов\n",
    "for x in (df_train['City'].value_counts())[0:10].index:\n",
    "    df_train['Ranking'][df_train['City'] == x].hist(bins=100)\n",
    "plt.show()"
   ]
  },
  {
   "cell_type": "markdown",
   "metadata": {},
   "source": [
    "Получается, что Ranking имеет нормальное распределение, просто в больших городах больше ресторанов, из-за мы этого имеем смещение.\n",
    "\n"
   ]
  },
  {
   "cell_type": "code",
   "execution_count": 102,
   "metadata": {},
   "outputs": [],
   "source": [
    "#Посмотрим разные группы признаков визуально"
   ]
  },
  {
   "cell_type": "code",
   "execution_count": 96,
   "metadata": {},
   "outputs": [
    {
     "data": {
      "text/html": [
       "<div>\n",
       "<style scoped>\n",
       "    .dataframe tbody tr th:only-of-type {\n",
       "        vertical-align: middle;\n",
       "    }\n",
       "\n",
       "    .dataframe tbody tr th {\n",
       "        vertical-align: top;\n",
       "    }\n",
       "\n",
       "    .dataframe thead tr th {\n",
       "        text-align: left;\n",
       "    }\n",
       "\n",
       "    .dataframe thead tr:last-of-type th {\n",
       "        text-align: right;\n",
       "    }\n",
       "</style>\n",
       "<table border=\"1\" class=\"dataframe\">\n",
       "  <thead>\n",
       "    <tr>\n",
       "      <th></th>\n",
       "      <th colspan=\"8\" halign=\"left\">Number of Reviews</th>\n",
       "    </tr>\n",
       "    <tr>\n",
       "      <th></th>\n",
       "      <th>count</th>\n",
       "      <th>mean</th>\n",
       "      <th>std</th>\n",
       "      <th>min</th>\n",
       "      <th>25%</th>\n",
       "      <th>50%</th>\n",
       "      <th>75%</th>\n",
       "      <th>max</th>\n",
       "    </tr>\n",
       "    <tr>\n",
       "      <th>City</th>\n",
       "      <th></th>\n",
       "      <th></th>\n",
       "      <th></th>\n",
       "      <th></th>\n",
       "      <th></th>\n",
       "      <th></th>\n",
       "      <th></th>\n",
       "      <th></th>\n",
       "    </tr>\n",
       "  </thead>\n",
       "  <tbody>\n",
       "    <tr>\n",
       "      <th>Amsterdam</th>\n",
       "      <td>1036.0</td>\n",
       "      <td>146.630309</td>\n",
       "      <td>338.109346</td>\n",
       "      <td>2.0</td>\n",
       "      <td>12.0</td>\n",
       "      <td>47.0</td>\n",
       "      <td>146.25</td>\n",
       "      <td>6777.0</td>\n",
       "    </tr>\n",
       "    <tr>\n",
       "      <th>Athens</th>\n",
       "      <td>589.0</td>\n",
       "      <td>98.538200</td>\n",
       "      <td>305.974968</td>\n",
       "      <td>2.0</td>\n",
       "      <td>7.0</td>\n",
       "      <td>20.0</td>\n",
       "      <td>67.00</td>\n",
       "      <td>4234.0</td>\n",
       "    </tr>\n",
       "    <tr>\n",
       "      <th>Barcelona</th>\n",
       "      <td>2547.0</td>\n",
       "      <td>132.534747</td>\n",
       "      <td>302.862678</td>\n",
       "      <td>2.0</td>\n",
       "      <td>9.0</td>\n",
       "      <td>34.0</td>\n",
       "      <td>125.00</td>\n",
       "      <td>4738.0</td>\n",
       "    </tr>\n",
       "    <tr>\n",
       "      <th>Berlin</th>\n",
       "      <td>1951.0</td>\n",
       "      <td>66.522809</td>\n",
       "      <td>177.952850</td>\n",
       "      <td>2.0</td>\n",
       "      <td>6.0</td>\n",
       "      <td>16.0</td>\n",
       "      <td>51.00</td>\n",
       "      <td>2572.0</td>\n",
       "    </tr>\n",
       "    <tr>\n",
       "      <th>Bratislava</th>\n",
       "      <td>258.0</td>\n",
       "      <td>53.089147</td>\n",
       "      <td>182.859123</td>\n",
       "      <td>2.0</td>\n",
       "      <td>5.0</td>\n",
       "      <td>10.0</td>\n",
       "      <td>31.25</td>\n",
       "      <td>2578.0</td>\n",
       "    </tr>\n",
       "    <tr>\n",
       "      <th>Brussels</th>\n",
       "      <td>988.0</td>\n",
       "      <td>89.090081</td>\n",
       "      <td>190.831490</td>\n",
       "      <td>2.0</td>\n",
       "      <td>9.0</td>\n",
       "      <td>28.0</td>\n",
       "      <td>89.25</td>\n",
       "      <td>2140.0</td>\n",
       "    </tr>\n",
       "    <tr>\n",
       "      <th>Budapest</th>\n",
       "      <td>749.0</td>\n",
       "      <td>159.106809</td>\n",
       "      <td>455.589395</td>\n",
       "      <td>2.0</td>\n",
       "      <td>8.0</td>\n",
       "      <td>24.0</td>\n",
       "      <td>115.00</td>\n",
       "      <td>7575.0</td>\n",
       "    </tr>\n",
       "    <tr>\n",
       "      <th>Copenhagen</th>\n",
       "      <td>623.0</td>\n",
       "      <td>90.686998</td>\n",
       "      <td>143.162781</td>\n",
       "      <td>2.0</td>\n",
       "      <td>9.0</td>\n",
       "      <td>35.0</td>\n",
       "      <td>107.00</td>\n",
       "      <td>1316.0</td>\n",
       "    </tr>\n",
       "    <tr>\n",
       "      <th>Dublin</th>\n",
       "      <td>639.0</td>\n",
       "      <td>155.654147</td>\n",
       "      <td>326.992773</td>\n",
       "      <td>2.0</td>\n",
       "      <td>11.0</td>\n",
       "      <td>44.0</td>\n",
       "      <td>156.00</td>\n",
       "      <td>3491.0</td>\n",
       "    </tr>\n",
       "    <tr>\n",
       "      <th>Edinburgh</th>\n",
       "      <td>579.0</td>\n",
       "      <td>232.112263</td>\n",
       "      <td>400.048249</td>\n",
       "      <td>2.0</td>\n",
       "      <td>15.0</td>\n",
       "      <td>73.0</td>\n",
       "      <td>270.50</td>\n",
       "      <td>4035.0</td>\n",
       "    </tr>\n",
       "    <tr>\n",
       "      <th>Geneva</th>\n",
       "      <td>446.0</td>\n",
       "      <td>62.316143</td>\n",
       "      <td>119.847191</td>\n",
       "      <td>2.0</td>\n",
       "      <td>9.0</td>\n",
       "      <td>31.0</td>\n",
       "      <td>74.00</td>\n",
       "      <td>1624.0</td>\n",
       "    </tr>\n",
       "    <tr>\n",
       "      <th>Hamburg</th>\n",
       "      <td>873.0</td>\n",
       "      <td>46.478809</td>\n",
       "      <td>91.956947</td>\n",
       "      <td>2.0</td>\n",
       "      <td>6.0</td>\n",
       "      <td>16.0</td>\n",
       "      <td>42.00</td>\n",
       "      <td>845.0</td>\n",
       "    </tr>\n",
       "    <tr>\n",
       "      <th>Helsinki</th>\n",
       "      <td>352.0</td>\n",
       "      <td>60.375000</td>\n",
       "      <td>132.427828</td>\n",
       "      <td>2.0</td>\n",
       "      <td>8.0</td>\n",
       "      <td>20.0</td>\n",
       "      <td>51.75</td>\n",
       "      <td>1488.0</td>\n",
       "    </tr>\n",
       "    <tr>\n",
       "      <th>Krakow</th>\n",
       "      <td>415.0</td>\n",
       "      <td>120.566265</td>\n",
       "      <td>238.277869</td>\n",
       "      <td>2.0</td>\n",
       "      <td>8.5</td>\n",
       "      <td>28.0</td>\n",
       "      <td>134.50</td>\n",
       "      <td>2197.0</td>\n",
       "    </tr>\n",
       "    <tr>\n",
       "      <th>Lisbon</th>\n",
       "      <td>1215.0</td>\n",
       "      <td>126.506173</td>\n",
       "      <td>284.680120</td>\n",
       "      <td>2.0</td>\n",
       "      <td>9.0</td>\n",
       "      <td>31.0</td>\n",
       "      <td>108.50</td>\n",
       "      <td>3404.0</td>\n",
       "    </tr>\n",
       "    <tr>\n",
       "      <th>Ljubljana</th>\n",
       "      <td>168.0</td>\n",
       "      <td>75.273810</td>\n",
       "      <td>142.260859</td>\n",
       "      <td>2.0</td>\n",
       "      <td>8.0</td>\n",
       "      <td>18.5</td>\n",
       "      <td>60.25</td>\n",
       "      <td>816.0</td>\n",
       "    </tr>\n",
       "    <tr>\n",
       "      <th>London</th>\n",
       "      <td>5408.0</td>\n",
       "      <td>137.969490</td>\n",
       "      <td>332.614434</td>\n",
       "      <td>2.0</td>\n",
       "      <td>9.0</td>\n",
       "      <td>38.0</td>\n",
       "      <td>132.25</td>\n",
       "      <td>9660.0</td>\n",
       "    </tr>\n",
       "    <tr>\n",
       "      <th>Luxembourg</th>\n",
       "      <td>197.0</td>\n",
       "      <td>82.152284</td>\n",
       "      <td>118.130493</td>\n",
       "      <td>2.0</td>\n",
       "      <td>10.0</td>\n",
       "      <td>34.0</td>\n",
       "      <td>95.00</td>\n",
       "      <td>652.0</td>\n",
       "    </tr>\n",
       "    <tr>\n",
       "      <th>Lyon</th>\n",
       "      <td>851.0</td>\n",
       "      <td>85.955347</td>\n",
       "      <td>154.051482</td>\n",
       "      <td>2.0</td>\n",
       "      <td>10.0</td>\n",
       "      <td>31.0</td>\n",
       "      <td>92.50</td>\n",
       "      <td>1953.0</td>\n",
       "    </tr>\n",
       "    <tr>\n",
       "      <th>Madrid</th>\n",
       "      <td>2915.0</td>\n",
       "      <td>100.053173</td>\n",
       "      <td>255.455725</td>\n",
       "      <td>2.0</td>\n",
       "      <td>8.0</td>\n",
       "      <td>27.0</td>\n",
       "      <td>89.00</td>\n",
       "      <td>6013.0</td>\n",
       "    </tr>\n",
       "    <tr>\n",
       "      <th>Milan</th>\n",
       "      <td>2030.0</td>\n",
       "      <td>173.712808</td>\n",
       "      <td>340.076991</td>\n",
       "      <td>2.0</td>\n",
       "      <td>12.0</td>\n",
       "      <td>50.0</td>\n",
       "      <td>214.00</td>\n",
       "      <td>6360.0</td>\n",
       "    </tr>\n",
       "    <tr>\n",
       "      <th>Munich</th>\n",
       "      <td>828.0</td>\n",
       "      <td>81.281401</td>\n",
       "      <td>226.135868</td>\n",
       "      <td>2.0</td>\n",
       "      <td>10.0</td>\n",
       "      <td>29.0</td>\n",
       "      <td>75.00</td>\n",
       "      <td>4694.0</td>\n",
       "    </tr>\n",
       "    <tr>\n",
       "      <th>Oporto</th>\n",
       "      <td>478.0</td>\n",
       "      <td>135.939331</td>\n",
       "      <td>305.714331</td>\n",
       "      <td>2.0</td>\n",
       "      <td>9.0</td>\n",
       "      <td>39.5</td>\n",
       "      <td>136.00</td>\n",
       "      <td>3206.0</td>\n",
       "    </tr>\n",
       "    <tr>\n",
       "      <th>Oslo</th>\n",
       "      <td>366.0</td>\n",
       "      <td>94.931694</td>\n",
       "      <td>183.356060</td>\n",
       "      <td>2.0</td>\n",
       "      <td>10.0</td>\n",
       "      <td>28.0</td>\n",
       "      <td>92.00</td>\n",
       "      <td>1391.0</td>\n",
       "    </tr>\n",
       "    <tr>\n",
       "      <th>Paris</th>\n",
       "      <td>4673.0</td>\n",
       "      <td>120.146373</td>\n",
       "      <td>240.782907</td>\n",
       "      <td>2.0</td>\n",
       "      <td>12.0</td>\n",
       "      <td>46.0</td>\n",
       "      <td>130.00</td>\n",
       "      <td>7622.0</td>\n",
       "    </tr>\n",
       "    <tr>\n",
       "      <th>Prague</th>\n",
       "      <td>1282.0</td>\n",
       "      <td>124.028861</td>\n",
       "      <td>343.627303</td>\n",
       "      <td>2.0</td>\n",
       "      <td>6.0</td>\n",
       "      <td>20.0</td>\n",
       "      <td>77.75</td>\n",
       "      <td>4521.0</td>\n",
       "    </tr>\n",
       "    <tr>\n",
       "      <th>Rome</th>\n",
       "      <td>2019.0</td>\n",
       "      <td>289.243685</td>\n",
       "      <td>496.830415</td>\n",
       "      <td>2.0</td>\n",
       "      <td>34.0</td>\n",
       "      <td>117.0</td>\n",
       "      <td>356.50</td>\n",
       "      <td>8927.0</td>\n",
       "    </tr>\n",
       "    <tr>\n",
       "      <th>Stockholm</th>\n",
       "      <td>758.0</td>\n",
       "      <td>77.935356</td>\n",
       "      <td>175.731157</td>\n",
       "      <td>2.0</td>\n",
       "      <td>6.0</td>\n",
       "      <td>19.0</td>\n",
       "      <td>62.75</td>\n",
       "      <td>1461.0</td>\n",
       "    </tr>\n",
       "    <tr>\n",
       "      <th>Vienna</th>\n",
       "      <td>1067.0</td>\n",
       "      <td>83.792877</td>\n",
       "      <td>252.341034</td>\n",
       "      <td>2.0</td>\n",
       "      <td>7.0</td>\n",
       "      <td>22.0</td>\n",
       "      <td>68.50</td>\n",
       "      <td>4937.0</td>\n",
       "    </tr>\n",
       "    <tr>\n",
       "      <th>Warsaw</th>\n",
       "      <td>652.0</td>\n",
       "      <td>64.676380</td>\n",
       "      <td>175.848484</td>\n",
       "      <td>2.0</td>\n",
       "      <td>6.0</td>\n",
       "      <td>17.0</td>\n",
       "      <td>45.25</td>\n",
       "      <td>2356.0</td>\n",
       "    </tr>\n",
       "    <tr>\n",
       "      <th>Zurich</th>\n",
       "      <td>505.0</td>\n",
       "      <td>77.558416</td>\n",
       "      <td>138.036906</td>\n",
       "      <td>2.0</td>\n",
       "      <td>11.0</td>\n",
       "      <td>32.0</td>\n",
       "      <td>88.00</td>\n",
       "      <td>1974.0</td>\n",
       "    </tr>\n",
       "  </tbody>\n",
       "</table>\n",
       "</div>"
      ],
      "text/plain": [
       "           Number of Reviews                                            \\\n",
       "                       count        mean         std  min   25%    50%   \n",
       "City                                                                     \n",
       "Amsterdam             1036.0  146.630309  338.109346  2.0  12.0   47.0   \n",
       "Athens                 589.0   98.538200  305.974968  2.0   7.0   20.0   \n",
       "Barcelona             2547.0  132.534747  302.862678  2.0   9.0   34.0   \n",
       "Berlin                1951.0   66.522809  177.952850  2.0   6.0   16.0   \n",
       "Bratislava             258.0   53.089147  182.859123  2.0   5.0   10.0   \n",
       "Brussels               988.0   89.090081  190.831490  2.0   9.0   28.0   \n",
       "Budapest               749.0  159.106809  455.589395  2.0   8.0   24.0   \n",
       "Copenhagen             623.0   90.686998  143.162781  2.0   9.0   35.0   \n",
       "Dublin                 639.0  155.654147  326.992773  2.0  11.0   44.0   \n",
       "Edinburgh              579.0  232.112263  400.048249  2.0  15.0   73.0   \n",
       "Geneva                 446.0   62.316143  119.847191  2.0   9.0   31.0   \n",
       "Hamburg                873.0   46.478809   91.956947  2.0   6.0   16.0   \n",
       "Helsinki               352.0   60.375000  132.427828  2.0   8.0   20.0   \n",
       "Krakow                 415.0  120.566265  238.277869  2.0   8.5   28.0   \n",
       "Lisbon                1215.0  126.506173  284.680120  2.0   9.0   31.0   \n",
       "Ljubljana              168.0   75.273810  142.260859  2.0   8.0   18.5   \n",
       "London                5408.0  137.969490  332.614434  2.0   9.0   38.0   \n",
       "Luxembourg             197.0   82.152284  118.130493  2.0  10.0   34.0   \n",
       "Lyon                   851.0   85.955347  154.051482  2.0  10.0   31.0   \n",
       "Madrid                2915.0  100.053173  255.455725  2.0   8.0   27.0   \n",
       "Milan                 2030.0  173.712808  340.076991  2.0  12.0   50.0   \n",
       "Munich                 828.0   81.281401  226.135868  2.0  10.0   29.0   \n",
       "Oporto                 478.0  135.939331  305.714331  2.0   9.0   39.5   \n",
       "Oslo                   366.0   94.931694  183.356060  2.0  10.0   28.0   \n",
       "Paris                 4673.0  120.146373  240.782907  2.0  12.0   46.0   \n",
       "Prague                1282.0  124.028861  343.627303  2.0   6.0   20.0   \n",
       "Rome                  2019.0  289.243685  496.830415  2.0  34.0  117.0   \n",
       "Stockholm              758.0   77.935356  175.731157  2.0   6.0   19.0   \n",
       "Vienna                1067.0   83.792877  252.341034  2.0   7.0   22.0   \n",
       "Warsaw                 652.0   64.676380  175.848484  2.0   6.0   17.0   \n",
       "Zurich                 505.0   77.558416  138.036906  2.0  11.0   32.0   \n",
       "\n",
       "                            \n",
       "               75%     max  \n",
       "City                        \n",
       "Amsterdam   146.25  6777.0  \n",
       "Athens       67.00  4234.0  \n",
       "Barcelona   125.00  4738.0  \n",
       "Berlin       51.00  2572.0  \n",
       "Bratislava   31.25  2578.0  \n",
       "Brussels     89.25  2140.0  \n",
       "Budapest    115.00  7575.0  \n",
       "Copenhagen  107.00  1316.0  \n",
       "Dublin      156.00  3491.0  \n",
       "Edinburgh   270.50  4035.0  \n",
       "Geneva       74.00  1624.0  \n",
       "Hamburg      42.00   845.0  \n",
       "Helsinki     51.75  1488.0  \n",
       "Krakow      134.50  2197.0  \n",
       "Lisbon      108.50  3404.0  \n",
       "Ljubljana    60.25   816.0  \n",
       "London      132.25  9660.0  \n",
       "Luxembourg   95.00   652.0  \n",
       "Lyon         92.50  1953.0  \n",
       "Madrid       89.00  6013.0  \n",
       "Milan       214.00  6360.0  \n",
       "Munich       75.00  4694.0  \n",
       "Oporto      136.00  3206.0  \n",
       "Oslo         92.00  1391.0  \n",
       "Paris       130.00  7622.0  \n",
       "Prague       77.75  4521.0  \n",
       "Rome        356.50  8927.0  \n",
       "Stockholm    62.75  1461.0  \n",
       "Vienna       68.50  4937.0  \n",
       "Warsaw       45.25  2356.0  \n",
       "Zurich       88.00  1974.0  "
      ]
     },
     "execution_count": 96,
     "metadata": {},
     "output_type": "execute_result"
    }
   ],
   "source": [
    "df_train[['City', 'Number of Reviews']].groupby('City').describe()"
   ]
  },
  {
   "cell_type": "code",
   "execution_count": 97,
   "metadata": {},
   "outputs": [
    {
     "data": {
      "image/png": "[encoded data removed]",
      "text/plain": [
       "<Figure size 720x504 with 1 Axes>"
      ]
     },
     "metadata": {
      "needs_background": "light"
     },
     "output_type": "display_data"
    }
   ],
   "source": [
    "sns.boxplot(x='City', y='Rating', data=df_train);"
   ]
  },
  {
   "cell_type": "code",
   "execution_count": 101,
   "metadata": {},
   "outputs": [
    {
     "data": {
      "image/png": "[encoded data removed]",
      "text/plain": [
       "<Figure size 720x504 with 1 Axes>"
      ]
     },
     "metadata": {
      "needs_background": "light"
     },
     "output_type": "display_data"
    }
   ],
   "source": [
    "sns.boxplot(x='City', y='Number of Reviews', data=df_train);"
   ]
  },
  {
   "cell_type": "code",
   "execution_count": 100,
   "metadata": {},
   "outputs": [
    {
     "data": {
      "image/png": "[encoded data removed]",
      "text/plain": [
       "<Figure size 720x504 with 1 Axes>"
      ]
     },
     "metadata": {
      "needs_background": "light"
     },
     "output_type": "display_data"
    }
   ],
   "source": [
    "sns.boxplot(x='price_range', y='rating', data=df);"
   ]
  },
  {
   "cell_type": "code",
   "execution_count": 103,
   "metadata": {},
   "outputs": [],
   "source": [
    "# По сути все эти визуальные представления только подтверждают очевидные вещи,\n",
    "#никаких интересных наблюдений-выводов"
   ]
  },
  {
   "cell_type": "code",
   "execution_count": null,
   "metadata": {},
   "outputs": [],
   "source": []
  },
  {
   "cell_type": "code",
   "execution_count": null,
   "metadata": {},
   "outputs": [],
   "source": []
  },
  {
   "cell_type": "markdown",
   "metadata": {},
   "source": [
    "### Посмотрим распределение целевой переменной"
   ]
  },
  {
   "cell_type": "code",
   "execution_count": 110,
   "metadata": {},
   "outputs": [
    {
     "data": {
      "text/plain": [
       "<AxesSubplot:>"
      ]
     },
     "execution_count": 110,
     "metadata": {},
     "output_type": "execute_result"
    },
    {
     "data": {
      "image/png": "[encoded data removed]",
      "text/plain": [
       "<Figure size 720x504 with 1 Axes>"
      ]
     },
     "metadata": {
      "needs_background": "light"
     },
     "output_type": "display_data"
    }
   ],
   "source": [
    "df_train['Rating'].value_counts(ascending=True).plot(kind='barh')"
   ]
  },
  {
   "cell_type": "markdown",
   "metadata": {},
   "source": [
    "### Посмотрим распределение целевой переменной относительно признака"
   ]
  },
  {
   "cell_type": "code",
   "execution_count": 111,
   "metadata": {},
   "outputs": [
    {
     "data": {
      "text/plain": [
       "<AxesSubplot:>"
      ]
     },
     "execution_count": 111,
     "metadata": {},
     "output_type": "execute_result"
    },
    {
     "data": {
      "image/png": "[encoded data removed]",
      "text/plain": [
       "<Figure size 720x504 with 1 Axes>"
      ]
     },
     "metadata": {
      "needs_background": "light"
     },
     "output_type": "display_data"
    }
   ],
   "source": [
    "df_train['Ranking'][df_train['Rating'] == 5].hist(bins=100)"
   ]
  },
  {
   "cell_type": "code",
   "execution_count": 89,
   "metadata": {},
   "outputs": [
    {
     "data": {
      "text/plain": [
       "<AxesSubplot:>"
      ]
     },
     "execution_count": 89,
     "metadata": {},
     "output_type": "execute_result"
    },
    {
     "data": {
      "image/png": "[encoded data removed]",
      "text/plain": [
       "<Figure size 720x504 with 1 Axes>"
      ]
     },
     "metadata": {
      "needs_background": "light"
     },
     "output_type": "display_data"
    }
   ],
   "source": [
    "df_train['Ranking'][df_train['Rating'] < 4].hist(bins=100)"
   ]
  },
  {
   "cell_type": "markdown",
   "metadata": {},
   "source": [
    "### И один из моих любимых - [корреляция признаков](https://ru.wikipedia.org/wiki/Корреляция)\n",
    "На этом графике уже сейчас вы сможете заметить, как признаки связаны между собой и с целевой переменной."
   ]
  },
  {
   "cell_type": "code",
   "execution_count": 114,
   "metadata": {},
   "outputs": [
    {
     "data": {
      "text/plain": [
       "<AxesSubplot:>"
      ]
     },
     "execution_count": 114,
     "metadata": {},
     "output_type": "execute_result"
    },
    {
     "data": {
      "image/png": "[encoded data removed]",
      "text/plain": [
       "<Figure size 1080x720 with 2 Axes>"
      ]
     },
     "metadata": {
      "needs_background": "light"
     },
     "output_type": "display_data"
    }
   ],
   "source": [
    "import seaborn as sns\n",
    "\n",
    "\n",
    "plt.rcParams['figure.figsize'] = (15,10)\n",
    "sns.heatmap(df3.drop(['sample'], axis=1).corr(),)"
   ]
  },
  {
   "cell_type": "markdown",
   "metadata": {},
   "source": [
    "Очевидно, что городов слишком много в этой матрице и они не сильно коррелируют.\n",
    "Попробуем поисключать элементы из корр.анализа "
   ]
  },
  {
   "cell_type": "code",
   "execution_count": 116,
   "metadata": {},
   "outputs": [],
   "source": [
    "# Сформируем 1 список признаков, которые исключаем из корреляционного анализа\n",
    "cols_to_drop_1 = ['sample', 'city_amsterdam', 'city_athens', 'city_barcelona', \n",
    "                  'city_berlin', 'city_bratislava', 'city_brussels', \n",
    "                  'city_budapest', 'city_copenhagen', 'city_dublin', \n",
    "                  'city_edinburgh', 'city_geneva', 'city_hamburg', \n",
    "                  'city_helsinki', 'city_krakow', 'city_lisbon', 'city_ljubljana',\n",
    "                  'city_london', 'city_luxembourg', 'city_lyon', 'city_madrid', \n",
    "                  'city_milan', 'city_munich', 'city_oporto', 'city_oslo', \n",
    "                  'city_paris', 'city_prague', 'city_rome', 'city_stockholm', \n",
    "                  'city_vienna', 'city_warsaw','city_zurich',]\n"
   ]
  },
  {
   "cell_type": "code",
   "execution_count": 127,
   "metadata": {},
   "outputs": [
    {
     "data": {
      "image/png": "[encoded data removed]",
      "text/plain": [
       "<Figure size 1080x1080 with 2 Axes>"
      ]
     },
     "metadata": {
      "needs_background": "light"
     },
     "output_type": "display_data"
    }
   ],
   "source": [
    "plt.rcParams['figure.figsize'] = (15,15)\n",
    "df_corr = df3.copy()\n",
    "sns.heatmap(df_corr[df_corr['sample']== 1].drop(cols_to_drop_1, axis=1).corr(), square=True,\n",
    "            annot=True, fmt=\".2f\", linewidths=0.1, cmap=\"RdBu\");"
   ]
  },
  {
   "cell_type": "markdown",
   "metadata": {},
   "source": [
    "Rating (наша целевая переменная) сильнее всего (отрицательно, что интересно)коррелирует только с ranking и id, то есть с ranking'ом ресторана.\n",
    "На втором месте - положительная корреляция с признаком количества кухонь.(очевидно, чем больше кухонь, тем выше рейтинг)"
   ]
  },
  {
   "cell_type": "markdown",
   "metadata": {},
   "source": [
    "Попробуем проверить есть ли корреляция с городами.На общем heatmap выше видно, что выделяются Лондон и Париж - возмоно, есть корреляция с топ городами.\n"
   ]
  },
  {
   "cell_type": "markdown",
   "metadata": {},
   "source": [
    "Сделаем новый список cols_to_drop_2 на основе списка топ-городов, которые мы использовали для df1_1"
   ]
  },
  {
   "cell_type": "code",
   "execution_count": 137,
   "metadata": {},
   "outputs": [
    {
     "data": {
      "text/plain": [
       "['id',\n",
       " 'ranking',\n",
       " 'price_range',\n",
       " 'number_of_reviews',\n",
       " 'sample',\n",
       " 'rating',\n",
       " 'number_of_reviews_isnan',\n",
       " 'reviews_isnan',\n",
       " 'price_range_isnan',\n",
       " 'cuisine_style_isnan',\n",
       " 'cuis_num',\n",
       " 'days',\n",
       " 'days_dif',\n",
       " 'city_barcelona',\n",
       " 'city_berlin',\n",
       " 'city_lisbon',\n",
       " 'city_london',\n",
       " 'city_madrid',\n",
       " 'city_milan',\n",
       " 'city_other',\n",
       " 'city_paris',\n",
       " 'city_prague',\n",
       " 'city_rome',\n",
       " 'city_vienna']"
      ]
     },
     "execution_count": 137,
     "metadata": {},
     "output_type": "execute_result"
    }
   ],
   "source": [
    "topcities_column_lst = df1_1.columns.tolist()\n",
    "topcities_column_lst"
   ]
  },
  {
   "cell_type": "code",
   "execution_count": 142,
   "metadata": {},
   "outputs": [
    {
     "data": {
      "text/plain": [
       "['city_lyon',\n",
       " 'city_warsaw',\n",
       " 'city_stockholm',\n",
       " 'city_geneva',\n",
       " 'city_oporto',\n",
       " 'city_dublin',\n",
       " 'city_luxembourg',\n",
       " 'city_athens',\n",
       " 'city_amsterdam',\n",
       " 'city_zurich',\n",
       " 'city_krakow',\n",
       " 'city_hamburg',\n",
       " 'city_oslo',\n",
       " 'city_edinburgh',\n",
       " 'city_brussels',\n",
       " 'city_munich',\n",
       " 'city_bratislava',\n",
       " 'city_ljubljana',\n",
       " 'city_helsinki',\n",
       " 'city_budapest',\n",
       " 'city_copenhagen',\n",
       " 'sample']"
      ]
     },
     "execution_count": 142,
     "metadata": {},
     "output_type": "execute_result"
    }
   ],
   "source": [
    "cols_to_drop_2 = list(set(cols_to_drop_1)-set(topcities_column_lst))\n",
    "cols_to_drop_2.append('sample')\n",
    "cols_to_drop_2"
   ]
  },
  {
   "cell_type": "code",
   "execution_count": 143,
   "metadata": {},
   "outputs": [
    {
     "data": {
      "image/png": "[encoded data removed]",
      "text/plain": [
       "<Figure size 1080x1080 with 2 Axes>"
      ]
     },
     "metadata": {
      "needs_background": "light"
     },
     "output_type": "display_data"
    }
   ],
   "source": [
    "plt.rcParams['figure.figsize'] = (15,15)\n",
    "df_corr = df3.copy()\n",
    "sns.heatmap(df_corr[df_corr['sample']== 1].drop(cols_to_drop_2, axis=1).corr(), square=True,\n",
    "            annot=True, fmt=\".2f\", linewidths=0.1, cmap=\"RdBu\");"
   ]
  },
  {
   "cell_type": "markdown",
   "metadata": {},
   "source": [
    "C рейтингом города, к сожалению, значимо не коррелируют.\n",
    "Там явно прослеживаются инетерсные взимосвязи между признаками, но они не являются целевой, поэтому дальнейший анализ проводить не целесообразно"
   ]
  },
  {
   "cell_type": "code",
   "execution_count": null,
   "metadata": {},
   "outputs": [],
   "source": []
  },
  {
   "cell_type": "markdown",
   "metadata": {},
   "source": [
    "# Data Prepocessing"
   ]
  },
  {
   "cell_type": "code",
   "execution_count": 144,
   "metadata": {},
   "outputs": [
    {
     "data": {
      "text/html": [
       "<div>\n",
       "<style scoped>\n",
       "    .dataframe tbody tr th:only-of-type {\n",
       "        vertical-align: middle;\n",
       "    }\n",
       "\n",
       "    .dataframe tbody tr th {\n",
       "        vertical-align: top;\n",
       "    }\n",
       "\n",
       "    .dataframe thead th {\n",
       "        text-align: right;\n",
       "    }\n",
       "</style>\n",
       "<table border=\"1\" class=\"dataframe\">\n",
       "  <thead>\n",
       "    <tr style=\"text-align: right;\">\n",
       "      <th></th>\n",
       "      <th>id</th>\n",
       "      <th>ranking</th>\n",
       "      <th>price_range</th>\n",
       "      <th>number_of_reviews</th>\n",
       "      <th>sample</th>\n",
       "      <th>rating</th>\n",
       "      <th>number_of_reviews_isnan</th>\n",
       "      <th>reviews_isnan</th>\n",
       "      <th>price_range_isnan</th>\n",
       "      <th>cuisine_style_isnan</th>\n",
       "      <th>...</th>\n",
       "      <th>city_munich</th>\n",
       "      <th>city_oporto</th>\n",
       "      <th>city_oslo</th>\n",
       "      <th>city_paris</th>\n",
       "      <th>city_prague</th>\n",
       "      <th>city_rome</th>\n",
       "      <th>city_stockholm</th>\n",
       "      <th>city_vienna</th>\n",
       "      <th>city_warsaw</th>\n",
       "      <th>city_zurich</th>\n",
       "    </tr>\n",
       "  </thead>\n",
       "  <tbody>\n",
       "    <tr>\n",
       "      <th>49531</th>\n",
       "      <td>238</td>\n",
       "      <td>239.0</td>\n",
       "      <td>2.0</td>\n",
       "      <td>125.0</td>\n",
       "      <td>1</td>\n",
       "      <td>4.5</td>\n",
       "      <td>0</td>\n",
       "      <td>0</td>\n",
       "      <td>0</td>\n",
       "      <td>0</td>\n",
       "      <td>...</td>\n",
       "      <td>0</td>\n",
       "      <td>0</td>\n",
       "      <td>0</td>\n",
       "      <td>0</td>\n",
       "      <td>0</td>\n",
       "      <td>0</td>\n",
       "      <td>0</td>\n",
       "      <td>0</td>\n",
       "      <td>0</td>\n",
       "      <td>0</td>\n",
       "    </tr>\n",
       "  </tbody>\n",
       "</table>\n",
       "<p>1 rows × 44 columns</p>\n",
       "</div>"
      ],
      "text/plain": [
       "        id  ranking  price_range  number_of_reviews  sample  rating  \\\n",
       "49531  238    239.0          2.0              125.0       1     4.5   \n",
       "\n",
       "       number_of_reviews_isnan  reviews_isnan  price_range_isnan  \\\n",
       "49531                        0              0                  0   \n",
       "\n",
       "       cuisine_style_isnan  ...  city_munich  city_oporto  city_oslo  \\\n",
       "49531                    0  ...            0            0          0   \n",
       "\n",
       "       city_paris  city_prague  city_rome  city_stockholm  city_vienna  \\\n",
       "49531           0            0          0               0            0   \n",
       "\n",
       "       city_warsaw  city_zurich  \n",
       "49531            0            0  \n",
       "\n",
       "[1 rows x 44 columns]"
      ]
     },
     "execution_count": 144,
     "metadata": {},
     "output_type": "execute_result"
    }
   ],
   "source": [
    "df_preproc = df3\n",
    "df_preproc.sample()"
   ]
  },
  {
   "cell_type": "code",
   "execution_count": 145,
   "metadata": {},
   "outputs": [
    {
     "name": "stdout",
     "output_type": "stream",
     "text": [
      "<class 'pandas.core.frame.DataFrame'>\n",
      "RangeIndex: 50000 entries, 0 to 49999\n",
      "Data columns (total 44 columns):\n",
      " #   Column                   Non-Null Count  Dtype  \n",
      "---  ------                   --------------  -----  \n",
      " 0   id                       50000 non-null  int64  \n",
      " 1   ranking                  50000 non-null  float64\n",
      " 2   price_range              50000 non-null  float64\n",
      " 3   number_of_reviews        50000 non-null  float64\n",
      " 4   sample                   50000 non-null  int64  \n",
      " 5   rating                   50000 non-null  float64\n",
      " 6   number_of_reviews_isnan  50000 non-null  uint8  \n",
      " 7   reviews_isnan            50000 non-null  uint8  \n",
      " 8   price_range_isnan        50000 non-null  uint8  \n",
      " 9   cuisine_style_isnan      50000 non-null  uint8  \n",
      " 10  cuis_num                 50000 non-null  int64  \n",
      " 11  days                     50000 non-null  float64\n",
      " 12  days_dif                 50000 non-null  float64\n",
      " 13  city_amsterdam           50000 non-null  uint8  \n",
      " 14  city_athens              50000 non-null  uint8  \n",
      " 15  city_barcelona           50000 non-null  uint8  \n",
      " 16  city_berlin              50000 non-null  uint8  \n",
      " 17  city_bratislava          50000 non-null  uint8  \n",
      " 18  city_brussels            50000 non-null  uint8  \n",
      " 19  city_budapest            50000 non-null  uint8  \n",
      " 20  city_copenhagen          50000 non-null  uint8  \n",
      " 21  city_dublin              50000 non-null  uint8  \n",
      " 22  city_edinburgh           50000 non-null  uint8  \n",
      " 23  city_geneva              50000 non-null  uint8  \n",
      " 24  city_hamburg             50000 non-null  uint8  \n",
      " 25  city_helsinki            50000 non-null  uint8  \n",
      " 26  city_krakow              50000 non-null  uint8  \n",
      " 27  city_lisbon              50000 non-null  uint8  \n",
      " 28  city_ljubljana           50000 non-null  uint8  \n",
      " 29  city_london              50000 non-null  uint8  \n",
      " 30  city_luxembourg          50000 non-null  uint8  \n",
      " 31  city_lyon                50000 non-null  uint8  \n",
      " 32  city_madrid              50000 non-null  uint8  \n",
      " 33  city_milan               50000 non-null  uint8  \n",
      " 34  city_munich              50000 non-null  uint8  \n",
      " 35  city_oporto              50000 non-null  uint8  \n",
      " 36  city_oslo                50000 non-null  uint8  \n",
      " 37  city_paris               50000 non-null  uint8  \n",
      " 38  city_prague              50000 non-null  uint8  \n",
      " 39  city_rome                50000 non-null  uint8  \n",
      " 40  city_stockholm           50000 non-null  uint8  \n",
      " 41  city_vienna              50000 non-null  uint8  \n",
      " 42  city_warsaw              50000 non-null  uint8  \n",
      " 43  city_zurich              50000 non-null  uint8  \n",
      "dtypes: float64(6), int64(3), uint8(35)\n",
      "memory usage: 5.1 MB\n"
     ]
    }
   ],
   "source": [
    "df_preproc.info()"
   ]
  },
  {
   "cell_type": "code",
   "execution_count": 146,
   "metadata": {},
   "outputs": [],
   "source": [
    "# Теперь выделим тестовую часть\n",
    "train_data = df_preproc.query('sample == 1').drop(['sample'], axis=1)\n",
    "test_data = df_preproc.query('sample == 0').drop(['sample'], axis=1)\n",
    "\n",
    "y = train_data.rating.values            # наш таргет\n",
    "X = train_data.drop(['rating'], axis=1)"
   ]
  },
  {
   "cell_type": "markdown",
   "metadata": {},
   "source": [
    "Перед тем как отправлять наши данные на обучение, разделим данные на еще один тест и трейн, для валидации. \n",
    "\n"
   ]
  },
  {
   "cell_type": "code",
   "execution_count": 147,
   "metadata": {},
   "outputs": [],
   "source": [
    "# Воспользуемся специальной функцие train_test_split для разбивки тестовых данных\n",
    "# выделим 20% данных на валидацию (параметр test_size)\n",
    "X_train, X_test, y_train, y_test = train_test_split(X, y, test_size=0.2, \n",
    "                                                    random_state=RANDOM_SEED)"
   ]
  },
  {
   "cell_type": "code",
   "execution_count": 148,
   "metadata": {},
   "outputs": [
    {
     "data": {
      "text/plain": [
       "((10000, 43), (40000, 43), (40000, 42), (32000, 42), (8000, 42))"
      ]
     },
     "execution_count": 148,
     "metadata": {},
     "output_type": "execute_result"
    }
   ],
   "source": [
    "# проверяем\n",
    "test_data.shape, train_data.shape, X.shape, X_train.shape, X_test.shape"
   ]
  },
  {
   "cell_type": "markdown",
   "metadata": {},
   "source": [
    "# Model \n",
    "Сам ML"
   ]
  },
  {
   "cell_type": "code",
   "execution_count": 149,
   "metadata": {},
   "outputs": [],
   "source": [
    "# Импортируем необходимые библиотеки:\n",
    "from sklearn.ensemble import RandomForestRegressor # инструмент для создания и обучения модели\n",
    "from sklearn import metrics # инструменты для оценки точности модели"
   ]
  },
  {
   "cell_type": "code",
   "execution_count": 150,
   "metadata": {},
   "outputs": [],
   "source": [
    "# Создаём модель (НАСТРОЙКИ НЕ ТРОГАЕМ)\n",
    "model = RandomForestRegressor(n_estimators=100, verbose=1, \n",
    "                              n_jobs=-1, random_state=RANDOM_SEED)"
   ]
  },
  {
   "cell_type": "code",
   "execution_count": 151,
   "metadata": {},
   "outputs": [
    {
     "name": "stderr",
     "output_type": "stream",
     "text": [
      "[Parallel(n_jobs=-1)]: Using backend ThreadingBackend with 8 concurrent workers.\n",
      "[Parallel(n_jobs=-1)]: Done  34 tasks      | elapsed:    1.3s\n",
      "[Parallel(n_jobs=-1)]: Done 100 out of 100 | elapsed:    3.6s finished\n",
      "[Parallel(n_jobs=8)]: Using backend ThreadingBackend with 8 concurrent workers.\n",
      "[Parallel(n_jobs=8)]: Done  34 tasks      | elapsed:    0.0s\n",
      "[Parallel(n_jobs=8)]: Done 100 out of 100 | elapsed:    0.0s finished\n"
     ]
    }
   ],
   "source": [
    "# Обучаем модель на тестовом наборе данных\n",
    "model.fit(X_train, y_train)\n",
    "\n",
    "# Используем обученную модель для предсказания рейтинга ресторанов в \n",
    "#тестовой выборке. Предсказанные значения записываем в переменную y_pred\n",
    "y_pred = model.predict(X_test)"
   ]
  },
  {
   "cell_type": "code",
   "execution_count": 152,
   "metadata": {},
   "outputs": [
    {
     "name": "stdout",
     "output_type": "stream",
     "text": [
      "MAE: 0.20961562499999997\n"
     ]
    }
   ],
   "source": [
    "# Сравниваем предсказанные значения (y_pred) с реальными (y_test), и смотрим \n",
    "# насколько они в среднем отличаются\n",
    "# Метрика называется Mean Absolute Error (MAE) и показывает среднее отклонение \n",
    "# предсказанных значений от фактических.\n",
    "print('MAE:', metrics.mean_absolute_error(y_test, y_pred))"
   ]
  },
  {
   "cell_type": "code",
   "execution_count": 153,
   "metadata": {},
   "outputs": [
    {
     "data": {
      "text/plain": [
       "<AxesSubplot:>"
      ]
     },
     "execution_count": 153,
     "metadata": {},
     "output_type": "execute_result"
    },
    {
     "data": {
      "image/png": "[encoded data removed]",
      "text/plain": [
       "<Figure size 720x720 with 1 Axes>"
      ]
     },
     "metadata": {
      "needs_background": "light"
     },
     "output_type": "display_data"
    }
   ],
   "source": [
    "# в RandomForestRegressor есть возможность вывести самые важные признаки для модели\n",
    "plt.rcParams['figure.figsize'] = (10,10)\n",
    "feat_importances = pd.Series(model.feature_importances_, index=X.columns)\n",
    "feat_importances.nlargest(15).plot(kind='barh')"
   ]
  },
  {
   "cell_type": "code",
   "execution_count": null,
   "metadata": {},
   "outputs": [],
   "source": []
  },
  {
   "cell_type": "markdown",
   "metadata": {},
   "source": [
    "# Submission\n",
    "Если все устраевает - готовим Submission на кагл"
   ]
  },
  {
   "cell_type": "code",
   "execution_count": 159,
   "metadata": {},
   "outputs": [
    {
     "data": {
      "text/html": [
       "<div>\n",
       "<style scoped>\n",
       "    .dataframe tbody tr th:only-of-type {\n",
       "        vertical-align: middle;\n",
       "    }\n",
       "\n",
       "    .dataframe tbody tr th {\n",
       "        vertical-align: top;\n",
       "    }\n",
       "\n",
       "    .dataframe thead th {\n",
       "        text-align: right;\n",
       "    }\n",
       "</style>\n",
       "<table border=\"1\" class=\"dataframe\">\n",
       "  <thead>\n",
       "    <tr style=\"text-align: right;\">\n",
       "      <th></th>\n",
       "      <th>id</th>\n",
       "      <th>ranking</th>\n",
       "      <th>price_range</th>\n",
       "      <th>number_of_reviews</th>\n",
       "      <th>rating</th>\n",
       "      <th>number_of_reviews_isnan</th>\n",
       "      <th>reviews_isnan</th>\n",
       "      <th>price_range_isnan</th>\n",
       "      <th>cuisine_style_isnan</th>\n",
       "      <th>cuis_num</th>\n",
       "      <th>...</th>\n",
       "      <th>city_munich</th>\n",
       "      <th>city_oporto</th>\n",
       "      <th>city_oslo</th>\n",
       "      <th>city_paris</th>\n",
       "      <th>city_prague</th>\n",
       "      <th>city_rome</th>\n",
       "      <th>city_stockholm</th>\n",
       "      <th>city_vienna</th>\n",
       "      <th>city_warsaw</th>\n",
       "      <th>city_zurich</th>\n",
       "    </tr>\n",
       "  </thead>\n",
       "  <tbody>\n",
       "    <tr>\n",
       "      <th>8553</th>\n",
       "      <td>8553</td>\n",
       "      <td>900.0</td>\n",
       "      <td>2.0</td>\n",
       "      <td>27.0</td>\n",
       "      <td>0.0</td>\n",
       "      <td>0</td>\n",
       "      <td>0</td>\n",
       "      <td>0</td>\n",
       "      <td>0</td>\n",
       "      <td>4</td>\n",
       "      <td>...</td>\n",
       "      <td>0</td>\n",
       "      <td>0</td>\n",
       "      <td>0</td>\n",
       "      <td>0</td>\n",
       "      <td>0</td>\n",
       "      <td>0</td>\n",
       "      <td>0</td>\n",
       "      <td>0</td>\n",
       "      <td>0</td>\n",
       "      <td>0</td>\n",
       "    </tr>\n",
       "    <tr>\n",
       "      <th>8517</th>\n",
       "      <td>8517</td>\n",
       "      <td>8816.0</td>\n",
       "      <td>2.0</td>\n",
       "      <td>9.0</td>\n",
       "      <td>0.0</td>\n",
       "      <td>0</td>\n",
       "      <td>0</td>\n",
       "      <td>1</td>\n",
       "      <td>1</td>\n",
       "      <td>1</td>\n",
       "      <td>...</td>\n",
       "      <td>0</td>\n",
       "      <td>0</td>\n",
       "      <td>0</td>\n",
       "      <td>0</td>\n",
       "      <td>0</td>\n",
       "      <td>0</td>\n",
       "      <td>0</td>\n",
       "      <td>0</td>\n",
       "      <td>0</td>\n",
       "      <td>0</td>\n",
       "    </tr>\n",
       "    <tr>\n",
       "      <th>1298</th>\n",
       "      <td>1298</td>\n",
       "      <td>3894.0</td>\n",
       "      <td>1.0</td>\n",
       "      <td>34.0</td>\n",
       "      <td>0.0</td>\n",
       "      <td>0</td>\n",
       "      <td>0</td>\n",
       "      <td>0</td>\n",
       "      <td>0</td>\n",
       "      <td>3</td>\n",
       "      <td>...</td>\n",
       "      <td>0</td>\n",
       "      <td>0</td>\n",
       "      <td>0</td>\n",
       "      <td>0</td>\n",
       "      <td>0</td>\n",
       "      <td>0</td>\n",
       "      <td>0</td>\n",
       "      <td>0</td>\n",
       "      <td>0</td>\n",
       "      <td>0</td>\n",
       "    </tr>\n",
       "    <tr>\n",
       "      <th>4878</th>\n",
       "      <td>4878</td>\n",
       "      <td>2024.0</td>\n",
       "      <td>2.0</td>\n",
       "      <td>13.0</td>\n",
       "      <td>0.0</td>\n",
       "      <td>0</td>\n",
       "      <td>0</td>\n",
       "      <td>1</td>\n",
       "      <td>1</td>\n",
       "      <td>1</td>\n",
       "      <td>...</td>\n",
       "      <td>0</td>\n",
       "      <td>0</td>\n",
       "      <td>0</td>\n",
       "      <td>0</td>\n",
       "      <td>0</td>\n",
       "      <td>0</td>\n",
       "      <td>0</td>\n",
       "      <td>0</td>\n",
       "      <td>0</td>\n",
       "      <td>0</td>\n",
       "    </tr>\n",
       "    <tr>\n",
       "      <th>4569</th>\n",
       "      <td>4569</td>\n",
       "      <td>1085.0</td>\n",
       "      <td>1.0</td>\n",
       "      <td>43.0</td>\n",
       "      <td>0.0</td>\n",
       "      <td>0</td>\n",
       "      <td>0</td>\n",
       "      <td>0</td>\n",
       "      <td>0</td>\n",
       "      <td>5</td>\n",
       "      <td>...</td>\n",
       "      <td>0</td>\n",
       "      <td>0</td>\n",
       "      <td>0</td>\n",
       "      <td>0</td>\n",
       "      <td>0</td>\n",
       "      <td>0</td>\n",
       "      <td>0</td>\n",
       "      <td>0</td>\n",
       "      <td>0</td>\n",
       "      <td>0</td>\n",
       "    </tr>\n",
       "    <tr>\n",
       "      <th>4239</th>\n",
       "      <td>4239</td>\n",
       "      <td>3838.0</td>\n",
       "      <td>3.0</td>\n",
       "      <td>10.0</td>\n",
       "      <td>0.0</td>\n",
       "      <td>0</td>\n",
       "      <td>0</td>\n",
       "      <td>0</td>\n",
       "      <td>0</td>\n",
       "      <td>4</td>\n",
       "      <td>...</td>\n",
       "      <td>0</td>\n",
       "      <td>0</td>\n",
       "      <td>0</td>\n",
       "      <td>0</td>\n",
       "      <td>0</td>\n",
       "      <td>1</td>\n",
       "      <td>0</td>\n",
       "      <td>0</td>\n",
       "      <td>0</td>\n",
       "      <td>0</td>\n",
       "    </tr>\n",
       "    <tr>\n",
       "      <th>5294</th>\n",
       "      <td>5294</td>\n",
       "      <td>1033.0</td>\n",
       "      <td>3.0</td>\n",
       "      <td>136.0</td>\n",
       "      <td>0.0</td>\n",
       "      <td>0</td>\n",
       "      <td>0</td>\n",
       "      <td>0</td>\n",
       "      <td>0</td>\n",
       "      <td>4</td>\n",
       "      <td>...</td>\n",
       "      <td>0</td>\n",
       "      <td>0</td>\n",
       "      <td>0</td>\n",
       "      <td>0</td>\n",
       "      <td>0</td>\n",
       "      <td>0</td>\n",
       "      <td>0</td>\n",
       "      <td>0</td>\n",
       "      <td>0</td>\n",
       "      <td>0</td>\n",
       "    </tr>\n",
       "    <tr>\n",
       "      <th>9185</th>\n",
       "      <td>9185</td>\n",
       "      <td>1605.0</td>\n",
       "      <td>2.0</td>\n",
       "      <td>1.0</td>\n",
       "      <td>0.0</td>\n",
       "      <td>1</td>\n",
       "      <td>0</td>\n",
       "      <td>1</td>\n",
       "      <td>1</td>\n",
       "      <td>1</td>\n",
       "      <td>...</td>\n",
       "      <td>0</td>\n",
       "      <td>0</td>\n",
       "      <td>0</td>\n",
       "      <td>0</td>\n",
       "      <td>0</td>\n",
       "      <td>0</td>\n",
       "      <td>0</td>\n",
       "      <td>0</td>\n",
       "      <td>0</td>\n",
       "      <td>0</td>\n",
       "    </tr>\n",
       "    <tr>\n",
       "      <th>8488</th>\n",
       "      <td>8488</td>\n",
       "      <td>1125.0</td>\n",
       "      <td>2.0</td>\n",
       "      <td>477.0</td>\n",
       "      <td>0.0</td>\n",
       "      <td>0</td>\n",
       "      <td>0</td>\n",
       "      <td>0</td>\n",
       "      <td>0</td>\n",
       "      <td>4</td>\n",
       "      <td>...</td>\n",
       "      <td>0</td>\n",
       "      <td>0</td>\n",
       "      <td>0</td>\n",
       "      <td>0</td>\n",
       "      <td>1</td>\n",
       "      <td>0</td>\n",
       "      <td>0</td>\n",
       "      <td>0</td>\n",
       "      <td>0</td>\n",
       "      <td>0</td>\n",
       "    </tr>\n",
       "    <tr>\n",
       "      <th>6069</th>\n",
       "      <td>6069</td>\n",
       "      <td>499.0</td>\n",
       "      <td>2.0</td>\n",
       "      <td>38.0</td>\n",
       "      <td>0.0</td>\n",
       "      <td>0</td>\n",
       "      <td>0</td>\n",
       "      <td>0</td>\n",
       "      <td>0</td>\n",
       "      <td>5</td>\n",
       "      <td>...</td>\n",
       "      <td>0</td>\n",
       "      <td>0</td>\n",
       "      <td>0</td>\n",
       "      <td>0</td>\n",
       "      <td>0</td>\n",
       "      <td>0</td>\n",
       "      <td>0</td>\n",
       "      <td>0</td>\n",
       "      <td>0</td>\n",
       "      <td>0</td>\n",
       "    </tr>\n",
       "  </tbody>\n",
       "</table>\n",
       "<p>10 rows × 43 columns</p>\n",
       "</div>"
      ],
      "text/plain": [
       "        id  ranking  price_range  number_of_reviews  rating  \\\n",
       "8553  8553    900.0          2.0               27.0     0.0   \n",
       "8517  8517   8816.0          2.0                9.0     0.0   \n",
       "1298  1298   3894.0          1.0               34.0     0.0   \n",
       "4878  4878   2024.0          2.0               13.0     0.0   \n",
       "4569  4569   1085.0          1.0               43.0     0.0   \n",
       "4239  4239   3838.0          3.0               10.0     0.0   \n",
       "5294  5294   1033.0          3.0              136.0     0.0   \n",
       "9185  9185   1605.0          2.0                1.0     0.0   \n",
       "8488  8488   1125.0          2.0              477.0     0.0   \n",
       "6069  6069    499.0          2.0               38.0     0.0   \n",
       "\n",
       "      number_of_reviews_isnan  reviews_isnan  price_range_isnan  \\\n",
       "8553                        0              0                  0   \n",
       "8517                        0              0                  1   \n",
       "1298                        0              0                  0   \n",
       "4878                        0              0                  1   \n",
       "4569                        0              0                  0   \n",
       "4239                        0              0                  0   \n",
       "5294                        0              0                  0   \n",
       "9185                        1              0                  1   \n",
       "8488                        0              0                  0   \n",
       "6069                        0              0                  0   \n",
       "\n",
       "      cuisine_style_isnan  cuis_num  ...  city_munich  city_oporto  city_oslo  \\\n",
       "8553                    0         4  ...            0            0          0   \n",
       "8517                    1         1  ...            0            0          0   \n",
       "1298                    0         3  ...            0            0          0   \n",
       "4878                    1         1  ...            0            0          0   \n",
       "4569                    0         5  ...            0            0          0   \n",
       "4239                    0         4  ...            0            0          0   \n",
       "5294                    0         4  ...            0            0          0   \n",
       "9185                    1         1  ...            0            0          0   \n",
       "8488                    0         4  ...            0            0          0   \n",
       "6069                    0         5  ...            0            0          0   \n",
       "\n",
       "      city_paris  city_prague  city_rome  city_stockholm  city_vienna  \\\n",
       "8553           0            0          0               0            0   \n",
       "8517           0            0          0               0            0   \n",
       "1298           0            0          0               0            0   \n",
       "4878           0            0          0               0            0   \n",
       "4569           0            0          0               0            0   \n",
       "4239           0            0          1               0            0   \n",
       "5294           0            0          0               0            0   \n",
       "9185           0            0          0               0            0   \n",
       "8488           0            1          0               0            0   \n",
       "6069           0            0          0               0            0   \n",
       "\n",
       "      city_warsaw  city_zurich  \n",
       "8553            0            0  \n",
       "8517            0            0  \n",
       "1298            0            0  \n",
       "4878            0            0  \n",
       "4569            0            0  \n",
       "4239            0            0  \n",
       "5294            0            0  \n",
       "9185            0            0  \n",
       "8488            0            0  \n",
       "6069            0            0  \n",
       "\n",
       "[10 rows x 43 columns]"
      ]
     },
     "execution_count": 159,
     "metadata": {},
     "output_type": "execute_result"
    }
   ],
   "source": [
    "test_data.sample(10)"
   ]
  },
  {
   "cell_type": "code",
   "execution_count": 160,
   "metadata": {},
   "outputs": [],
   "source": [
    "test_data = test_data.drop(['rating'], axis=1)"
   ]
  },
  {
   "cell_type": "code",
   "execution_count": 161,
   "metadata": {},
   "outputs": [
    {
     "data": {
      "text/html": [
       "<div>\n",
       "<style scoped>\n",
       "    .dataframe tbody tr th:only-of-type {\n",
       "        vertical-align: middle;\n",
       "    }\n",
       "\n",
       "    .dataframe tbody tr th {\n",
       "        vertical-align: top;\n",
       "    }\n",
       "\n",
       "    .dataframe thead th {\n",
       "        text-align: right;\n",
       "    }\n",
       "</style>\n",
       "<table border=\"1\" class=\"dataframe\">\n",
       "  <thead>\n",
       "    <tr style=\"text-align: right;\">\n",
       "      <th></th>\n",
       "      <th>Restaurant_id</th>\n",
       "      <th>Rating</th>\n",
       "    </tr>\n",
       "  </thead>\n",
       "  <tbody>\n",
       "    <tr>\n",
       "      <th>0</th>\n",
       "      <td>id_0</td>\n",
       "      <td>2.0</td>\n",
       "    </tr>\n",
       "    <tr>\n",
       "      <th>1</th>\n",
       "      <td>id_1</td>\n",
       "      <td>2.5</td>\n",
       "    </tr>\n",
       "    <tr>\n",
       "      <th>2</th>\n",
       "      <td>id_2</td>\n",
       "      <td>4.0</td>\n",
       "    </tr>\n",
       "    <tr>\n",
       "      <th>3</th>\n",
       "      <td>id_3</td>\n",
       "      <td>1.0</td>\n",
       "    </tr>\n",
       "    <tr>\n",
       "      <th>4</th>\n",
       "      <td>id_4</td>\n",
       "      <td>4.0</td>\n",
       "    </tr>\n",
       "    <tr>\n",
       "      <th>...</th>\n",
       "      <td>...</td>\n",
       "      <td>...</td>\n",
       "    </tr>\n",
       "    <tr>\n",
       "      <th>9995</th>\n",
       "      <td>id_9995</td>\n",
       "      <td>3.0</td>\n",
       "    </tr>\n",
       "    <tr>\n",
       "      <th>9996</th>\n",
       "      <td>id_9996</td>\n",
       "      <td>1.5</td>\n",
       "    </tr>\n",
       "    <tr>\n",
       "      <th>9997</th>\n",
       "      <td>id_9997</td>\n",
       "      <td>4.5</td>\n",
       "    </tr>\n",
       "    <tr>\n",
       "      <th>9998</th>\n",
       "      <td>id_9998</td>\n",
       "      <td>1.0</td>\n",
       "    </tr>\n",
       "    <tr>\n",
       "      <th>9999</th>\n",
       "      <td>id_9999</td>\n",
       "      <td>2.5</td>\n",
       "    </tr>\n",
       "  </tbody>\n",
       "</table>\n",
       "<p>10000 rows × 2 columns</p>\n",
       "</div>"
      ],
      "text/plain": [
       "     Restaurant_id  Rating\n",
       "0             id_0     2.0\n",
       "1             id_1     2.5\n",
       "2             id_2     4.0\n",
       "3             id_3     1.0\n",
       "4             id_4     4.0\n",
       "...            ...     ...\n",
       "9995       id_9995     3.0\n",
       "9996       id_9996     1.5\n",
       "9997       id_9997     4.5\n",
       "9998       id_9998     1.0\n",
       "9999       id_9999     2.5\n",
       "\n",
       "[10000 rows x 2 columns]"
      ]
     },
     "execution_count": 161,
     "metadata": {},
     "output_type": "execute_result"
    }
   ],
   "source": [
    "sample_submission"
   ]
  },
  {
   "cell_type": "code",
   "execution_count": 165,
   "metadata": {},
   "outputs": [
    {
     "name": "stderr",
     "output_type": "stream",
     "text": [
      "[Parallel(n_jobs=8)]: Using backend ThreadingBackend with 8 concurrent workers.\n",
      "[Parallel(n_jobs=8)]: Done  34 tasks      | elapsed:    0.0s\n",
      "[Parallel(n_jobs=8)]: Done 100 out of 100 | elapsed:    0.0s finished\n"
     ]
    }
   ],
   "source": [
    "predict_submission = model.predict(test_data)"
   ]
  },
  {
   "cell_type": "code",
   "execution_count": 166,
   "metadata": {},
   "outputs": [
    {
     "data": {
      "text/plain": [
       "array([4.38 , 4.325, 4.565, ..., 2.58 , 3.265, 4.045])"
      ]
     },
     "execution_count": 166,
     "metadata": {},
     "output_type": "execute_result"
    }
   ],
   "source": [
    "predict_submission"
   ]
  },
  {
   "cell_type": "code",
   "execution_count": 164,
   "metadata": {},
   "outputs": [
    {
     "data": {
      "text/html": [
       "<div>\n",
       "<style scoped>\n",
       "    .dataframe tbody tr th:only-of-type {\n",
       "        vertical-align: middle;\n",
       "    }\n",
       "\n",
       "    .dataframe tbody tr th {\n",
       "        vertical-align: top;\n",
       "    }\n",
       "\n",
       "    .dataframe thead th {\n",
       "        text-align: right;\n",
       "    }\n",
       "</style>\n",
       "<table border=\"1\" class=\"dataframe\">\n",
       "  <thead>\n",
       "    <tr style=\"text-align: right;\">\n",
       "      <th></th>\n",
       "      <th>Restaurant_id</th>\n",
       "      <th>Rating</th>\n",
       "    </tr>\n",
       "  </thead>\n",
       "  <tbody>\n",
       "    <tr>\n",
       "      <th>0</th>\n",
       "      <td>id_0</td>\n",
       "      <td>4.380</td>\n",
       "    </tr>\n",
       "    <tr>\n",
       "      <th>1</th>\n",
       "      <td>id_1</td>\n",
       "      <td>4.325</td>\n",
       "    </tr>\n",
       "    <tr>\n",
       "      <th>2</th>\n",
       "      <td>id_2</td>\n",
       "      <td>4.565</td>\n",
       "    </tr>\n",
       "    <tr>\n",
       "      <th>3</th>\n",
       "      <td>id_3</td>\n",
       "      <td>4.365</td>\n",
       "    </tr>\n",
       "    <tr>\n",
       "      <th>4</th>\n",
       "      <td>id_4</td>\n",
       "      <td>4.475</td>\n",
       "    </tr>\n",
       "    <tr>\n",
       "      <th>5</th>\n",
       "      <td>id_5</td>\n",
       "      <td>4.495</td>\n",
       "    </tr>\n",
       "    <tr>\n",
       "      <th>6</th>\n",
       "      <td>id_6</td>\n",
       "      <td>4.090</td>\n",
       "    </tr>\n",
       "    <tr>\n",
       "      <th>7</th>\n",
       "      <td>id_7</td>\n",
       "      <td>3.830</td>\n",
       "    </tr>\n",
       "    <tr>\n",
       "      <th>8</th>\n",
       "      <td>id_8</td>\n",
       "      <td>4.530</td>\n",
       "    </tr>\n",
       "    <tr>\n",
       "      <th>9</th>\n",
       "      <td>id_9</td>\n",
       "      <td>4.650</td>\n",
       "    </tr>\n",
       "  </tbody>\n",
       "</table>\n",
       "</div>"
      ],
      "text/plain": [
       "  Restaurant_id  Rating\n",
       "0          id_0   4.380\n",
       "1          id_1   4.325\n",
       "2          id_2   4.565\n",
       "3          id_3   4.365\n",
       "4          id_4   4.475\n",
       "5          id_5   4.495\n",
       "6          id_6   4.090\n",
       "7          id_7   3.830\n",
       "8          id_8   4.530\n",
       "9          id_9   4.650"
      ]
     },
     "execution_count": 164,
     "metadata": {},
     "output_type": "execute_result"
    }
   ],
   "source": [
    "sample_submission['Rating'] = predict_submission\n",
    "sample_submission.to_csv('submission.csv', index=False)\n",
    "sample_submission.head(10)"
   ]
  },
  {
   "cell_type": "code",
   "execution_count": null,
   "metadata": {},
   "outputs": [],
   "source": []
  }
 ],
 "metadata": {
  "kernelspec": {
   "display_name": "Python 3",
   "language": "python",
   "name": "python3"
  },
  "language_info": {
   "codemirror_mode": {
    "name": "ipython",
    "version": 3
   },
   "file_extension": ".py",
   "mimetype": "text/x-python",
   "name": "python",
   "nbconvert_exporter": "python",
   "pygments_lexer": "ipython3",
   "version": "3.8.5"
  }
 },
 "nbformat": 4,
 "nbformat_minor": 4
}
