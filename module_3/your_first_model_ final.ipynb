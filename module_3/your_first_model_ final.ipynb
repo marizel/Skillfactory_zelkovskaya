{
 "cells": [
  {
   "cell_type": "markdown",
   "metadata": {},
   "source": [
    "# Загрузка Pandas и очистка данных"
   ]
  },
  {
   "cell_type": "code",
   "execution_count": 2,
   "metadata": {},
   "outputs": [],
   "source": [
    "import pandas as pd\n",
    "import numpy as np"
   ]
  },
  {
   "cell_type": "code",
   "execution_count": 3,
   "metadata": {},
   "outputs": [
    {
     "data": {
      "text/html": [
       "<div>\n",
       "<style scoped>\n",
       "    .dataframe tbody tr th:only-of-type {\n",
       "        vertical-align: middle;\n",
       "    }\n",
       "\n",
       "    .dataframe tbody tr th {\n",
       "        vertical-align: top;\n",
       "    }\n",
       "\n",
       "    .dataframe thead th {\n",
       "        text-align: right;\n",
       "    }\n",
       "</style>\n",
       "<table border=\"1\" class=\"dataframe\">\n",
       "  <thead>\n",
       "    <tr style=\"text-align: right;\">\n",
       "      <th></th>\n",
       "      <th>Restaurant_id</th>\n",
       "      <th>City</th>\n",
       "      <th>Cuisine Style</th>\n",
       "      <th>Ranking</th>\n",
       "      <th>Rating</th>\n",
       "      <th>Price Range</th>\n",
       "      <th>Number of Reviews</th>\n",
       "      <th>Reviews</th>\n",
       "      <th>URL_TA</th>\n",
       "      <th>ID_TA</th>\n",
       "    </tr>\n",
       "  </thead>\n",
       "  <tbody>\n",
       "    <tr>\n",
       "      <th>0</th>\n",
       "      <td>id_5569</td>\n",
       "      <td>Paris</td>\n",
       "      <td>['European', 'French', 'International']</td>\n",
       "      <td>5570.0</td>\n",
       "      <td>3.5</td>\n",
       "      <td>$$ - $$$</td>\n",
       "      <td>194.0</td>\n",
       "      <td>[['Good food at your doorstep', 'A good hotel ...</td>\n",
       "      <td>/Restaurant_Review-g187147-d1912643-Reviews-R_...</td>\n",
       "      <td>d1912643</td>\n",
       "    </tr>\n",
       "    <tr>\n",
       "      <th>1</th>\n",
       "      <td>id_1535</td>\n",
       "      <td>Stockholm</td>\n",
       "      <td>NaN</td>\n",
       "      <td>1537.0</td>\n",
       "      <td>4.0</td>\n",
       "      <td>NaN</td>\n",
       "      <td>10.0</td>\n",
       "      <td>[['Unique cuisine', 'Delicious Nepalese food']...</td>\n",
       "      <td>/Restaurant_Review-g189852-d7992032-Reviews-Bu...</td>\n",
       "      <td>d7992032</td>\n",
       "    </tr>\n",
       "    <tr>\n",
       "      <th>2</th>\n",
       "      <td>id_352</td>\n",
       "      <td>London</td>\n",
       "      <td>['Japanese', 'Sushi', 'Asian', 'Grill', 'Veget...</td>\n",
       "      <td>353.0</td>\n",
       "      <td>4.5</td>\n",
       "      <td>$$$$</td>\n",
       "      <td>688.0</td>\n",
       "      <td>[['Catch up with friends', 'Not exceptional'],...</td>\n",
       "      <td>/Restaurant_Review-g186338-d8632781-Reviews-RO...</td>\n",
       "      <td>d8632781</td>\n",
       "    </tr>\n",
       "    <tr>\n",
       "      <th>3</th>\n",
       "      <td>id_3456</td>\n",
       "      <td>Berlin</td>\n",
       "      <td>NaN</td>\n",
       "      <td>3458.0</td>\n",
       "      <td>5.0</td>\n",
       "      <td>NaN</td>\n",
       "      <td>3.0</td>\n",
       "      <td>[[], []]</td>\n",
       "      <td>/Restaurant_Review-g187323-d1358776-Reviews-Es...</td>\n",
       "      <td>d1358776</td>\n",
       "    </tr>\n",
       "    <tr>\n",
       "      <th>4</th>\n",
       "      <td>id_615</td>\n",
       "      <td>Munich</td>\n",
       "      <td>['German', 'Central European', 'Vegetarian Fri...</td>\n",
       "      <td>621.0</td>\n",
       "      <td>4.0</td>\n",
       "      <td>$$ - $$$</td>\n",
       "      <td>84.0</td>\n",
       "      <td>[['Best place to try a Bavarian food', 'Nice b...</td>\n",
       "      <td>/Restaurant_Review-g187309-d6864963-Reviews-Au...</td>\n",
       "      <td>d6864963</td>\n",
       "    </tr>\n",
       "  </tbody>\n",
       "</table>\n",
       "</div>"
      ],
      "text/plain": [
       "  Restaurant_id       City                                      Cuisine Style  \\\n",
       "0       id_5569      Paris            ['European', 'French', 'International']   \n",
       "1       id_1535  Stockholm                                                NaN   \n",
       "2        id_352     London  ['Japanese', 'Sushi', 'Asian', 'Grill', 'Veget...   \n",
       "3       id_3456     Berlin                                                NaN   \n",
       "4        id_615     Munich  ['German', 'Central European', 'Vegetarian Fri...   \n",
       "\n",
       "   Ranking  Rating Price Range  Number of Reviews  \\\n",
       "0   5570.0     3.5    $$ - $$$              194.0   \n",
       "1   1537.0     4.0         NaN               10.0   \n",
       "2    353.0     4.5        $$$$              688.0   \n",
       "3   3458.0     5.0         NaN                3.0   \n",
       "4    621.0     4.0    $$ - $$$               84.0   \n",
       "\n",
       "                                             Reviews  \\\n",
       "0  [['Good food at your doorstep', 'A good hotel ...   \n",
       "1  [['Unique cuisine', 'Delicious Nepalese food']...   \n",
       "2  [['Catch up with friends', 'Not exceptional'],...   \n",
       "3                                           [[], []]   \n",
       "4  [['Best place to try a Bavarian food', 'Nice b...   \n",
       "\n",
       "                                              URL_TA     ID_TA  \n",
       "0  /Restaurant_Review-g187147-d1912643-Reviews-R_...  d1912643  \n",
       "1  /Restaurant_Review-g189852-d7992032-Reviews-Bu...  d7992032  \n",
       "2  /Restaurant_Review-g186338-d8632781-Reviews-RO...  d8632781  \n",
       "3  /Restaurant_Review-g187323-d1358776-Reviews-Es...  d1358776  \n",
       "4  /Restaurant_Review-g187309-d6864963-Reviews-Au...  d6864963  "
      ]
     },
     "execution_count": 3,
     "metadata": {},
     "output_type": "execute_result"
    }
   ],
   "source": [
    "df = pd.read_csv('main_task_new.csv')\n",
    "df.head()"
   ]
  },
  {
   "cell_type": "code",
   "execution_count": 4,
   "metadata": {},
   "outputs": [],
   "source": [
    "# Ваш код по очистке данных и генерации новых признаков\n",
    "# При необходимости добавьте ячейки"
   ]
  },
  {
   "cell_type": "code",
   "execution_count": 5,
   "metadata": {},
   "outputs": [
    {
     "name": "stdout",
     "output_type": "stream",
     "text": [
      "<class 'pandas.core.frame.DataFrame'>\n",
      "RangeIndex: 40000 entries, 0 to 39999\n",
      "Data columns (total 10 columns):\n",
      " #   Column             Non-Null Count  Dtype  \n",
      "---  ------             --------------  -----  \n",
      " 0   id                 40000 non-null  int64  \n",
      " 1   city               40000 non-null  object \n",
      " 2   cuisine_style      30717 non-null  object \n",
      " 3   ranking            40000 non-null  float64\n",
      " 4   rating             40000 non-null  float64\n",
      " 5   price_range        26114 non-null  object \n",
      " 6   number_of_reviews  37457 non-null  float64\n",
      " 7   reviews            40000 non-null  object \n",
      " 8   url_ta             40000 non-null  object \n",
      " 9   id_ta              40000 non-null  int64  \n",
      "dtypes: float64(3), int64(2), object(5)\n",
      "memory usage: 3.1+ MB\n"
     ]
    }
   ],
   "source": [
    "#приводим в опрятный вид название колонок, убираем лищние символы из id и id_ta,\n",
    "#приводим к нумерическому типу\n",
    "df.columns = ['id', 'city', 'cuisine_style', 'ranking', 'rating', 'price_range', 'number_of_reviews', 'reviews', 'url_ta', 'id_ta']\n",
    "df.id_ta = df.id_ta.str.replace('d', '')\n",
    "df.id = df.id.str.replace('id_','')\n",
    "df.id = pd.to_numeric(df.id)\n",
    "df.id_ta = pd.to_numeric(df.id_ta)\n",
    "\n",
    "df.info()"
   ]
  },
  {
   "cell_type": "code",
   "execution_count": 6,
   "metadata": {},
   "outputs": [
    {
     "data": {
      "text/plain": [
       "$$ - $$$    18412\n",
       "$            6279\n",
       "$$$$         1423\n",
       "Name: price_range, dtype: int64"
      ]
     },
     "execution_count": 6,
     "metadata": {},
     "output_type": "execute_result"
    }
   ],
   "source": [
    "# посмотрим на ценовой диапазон:\n",
    "df.price_range.value_counts()"
   ]
  },
  {
   "cell_type": "code",
   "execution_count": 7,
   "metadata": {},
   "outputs": [
    {
     "data": {
      "text/plain": [
       "2    18412\n",
       "0    13886\n",
       "1     6279\n",
       "3     1423\n",
       "Name: price_range, dtype: int64"
      ]
     },
     "execution_count": 7,
     "metadata": {},
     "output_type": "execute_result"
    }
   ],
   "source": [
    "#переводим price_range в цифровые значения, задав соответствующий словарь\n",
    "\n",
    "df['price_range'] = df['price_range'].fillna(0)\n",
    "price_range_dict = {}\n",
    "price_range_dict = { '0':0, '$':1, '$$ - $$$':2, '$$$$':3  }\n",
    "df['price_range']= df['price_range'].replace(to_replace=price_range_dict)\n",
    "df['price_range'].value_counts()"
   ]
  },
  {
   "cell_type": "code",
   "execution_count": 8,
   "metadata": {},
   "outputs": [
    {
     "data": {
      "text/plain": [
       "0                        [European, French, International]\n",
       "1                                                [Unknown]\n",
       "2        [Japanese, Sushi, Asian, Grill, Vegetarian Fri...\n",
       "3                                                [Unknown]\n",
       "4          [German, Central European, Vegetarian Friendly]\n",
       "                               ...                        \n",
       "39995    [Italian, Vegetarian Friendly, Vegan Options, ...\n",
       "39996    [French, American, Bar, European, Vegetarian F...\n",
       "39997                                    [Japanese, Sushi]\n",
       "39998    [Polish, European, Eastern European, Central E...\n",
       "39999                                            [Spanish]\n",
       "Name: cuisine_style, Length: 40000, dtype: object"
      ]
     },
     "execution_count": 8,
     "metadata": {},
     "output_type": "execute_result"
    }
   ],
   "source": [
    "#приведем в порядок столбец с кухнями:\n",
    "df['cuisine_style']= df['cuisine_style'].str.replace('[', '')\n",
    "df['cuisine_style']= df['cuisine_style'].str.replace(']', '')\n",
    "df['cuisine_style']= df['cuisine_style'].str.replace(\"'\", '')\n",
    "df['cuisine_style']= df['cuisine_style'].fillna(\"Unknown\")\n",
    "df['cuisine_style'] = df['cuisine_style'].str.split(', ')\n",
    "\n",
    "df['cuisine_style']"
   ]
  },
  {
   "cell_type": "code",
   "execution_count": 9,
   "metadata": {},
   "outputs": [
    {
     "data": {
      "text/plain": [
       "0        3\n",
       "1        1\n",
       "2        7\n",
       "3        1\n",
       "4        3\n",
       "        ..\n",
       "39995    4\n",
       "39996    5\n",
       "39997    2\n",
       "39998    5\n",
       "39999    1\n",
       "Name: cuis_num, Length: 40000, dtype: int64"
      ]
     },
     "execution_count": 9,
     "metadata": {},
     "output_type": "execute_result"
    }
   ],
   "source": [
    "#добавим столбец с количеством кухонь\n",
    "df['cuis_num'] = df.cuisine_style.apply(len)\n",
    "df.cuis_num"
   ]
  },
  {
   "cell_type": "code",
   "execution_count": 10,
   "metadata": {},
   "outputs": [
    {
     "data": {
      "text/plain": [
       "0    [12/31/2017, 11/20/2017]\n",
       "1    [07/06/2017, 06/19/2016]\n",
       "2    [01/08/2018, 01/06/2018]\n",
       "3                          []\n",
       "4    [11/18/2017, 02/19/2017]\n",
       "Name: date_rev, dtype: object"
      ]
     },
     "metadata": {},
     "output_type": "display_data"
    }
   ],
   "source": [
    "#переходим к работе с reviews. Выделим в отдельный столбец date_rev даты всех ревью\n",
    "import re\n",
    "pattern = re.compile(\"\\d+\\/\\d+\\/\\d+\")\n",
    "df[\"date_rev\"] = df[\"reviews\"].apply(pattern.findall)\n",
    "display(df[\"date_rev\"].head())"
   ]
  },
  {
   "cell_type": "code",
   "execution_count": 11,
   "metadata": {},
   "outputs": [
    {
     "data": {
      "text/plain": [
       "0        [2017-11-20 00:00:00, 2017-12-31 00:00:00]\n",
       "1        [2016-06-19 00:00:00, 2017-07-06 00:00:00]\n",
       "2        [2018-01-06 00:00:00, 2018-01-08 00:00:00]\n",
       "3                                                []\n",
       "4        [2017-02-19 00:00:00, 2017-11-18 00:00:00]\n",
       "                            ...                    \n",
       "39995    [2017-11-12 00:00:00, 2017-12-16 00:00:00]\n",
       "39996    [2017-12-12 00:00:00, 2017-12-21 00:00:00]\n",
       "39997    [2008-04-12 00:00:00, 2016-11-03 00:00:00]\n",
       "39998    [2017-06-18 00:00:00, 2017-07-11 00:00:00]\n",
       "39999    [2012-07-04 00:00:00, 2016-01-31 00:00:00]\n",
       "Name: date_rev, Length: 40000, dtype: object"
      ]
     },
     "execution_count": 11,
     "metadata": {},
     "output_type": "execute_result"
    }
   ],
   "source": [
    "#отсортируем даты, чтобы первый элемент был во времени раньше, чем второй:\n",
    "df[\"date_rev\"] = df[\"date_rev\"].apply(pd.to_datetime).apply(sorted)\n",
    "df.date_rev\n"
   ]
  },
  {
   "cell_type": "code",
   "execution_count": 12,
   "metadata": {},
   "outputs": [
    {
     "data": {
      "text/html": [
       "<div>\n",
       "<style scoped>\n",
       "    .dataframe tbody tr th:only-of-type {\n",
       "        vertical-align: middle;\n",
       "    }\n",
       "\n",
       "    .dataframe tbody tr th {\n",
       "        vertical-align: top;\n",
       "    }\n",
       "\n",
       "    .dataframe thead th {\n",
       "        text-align: right;\n",
       "    }\n",
       "</style>\n",
       "<table border=\"1\" class=\"dataframe\">\n",
       "  <thead>\n",
       "    <tr style=\"text-align: right;\">\n",
       "      <th></th>\n",
       "      <th>id</th>\n",
       "      <th>city</th>\n",
       "      <th>cuisine_style</th>\n",
       "      <th>ranking</th>\n",
       "      <th>rating</th>\n",
       "      <th>price_range</th>\n",
       "      <th>number_of_reviews</th>\n",
       "      <th>reviews</th>\n",
       "      <th>url_ta</th>\n",
       "      <th>id_ta</th>\n",
       "      <th>cuis_num</th>\n",
       "      <th>date_rev</th>\n",
       "      <th>rev_1</th>\n",
       "      <th>rev_2</th>\n",
       "    </tr>\n",
       "  </thead>\n",
       "  <tbody>\n",
       "    <tr>\n",
       "      <th>0</th>\n",
       "      <td>5569</td>\n",
       "      <td>Paris</td>\n",
       "      <td>[European, French, International]</td>\n",
       "      <td>5570.0</td>\n",
       "      <td>3.5</td>\n",
       "      <td>2</td>\n",
       "      <td>194.0</td>\n",
       "      <td>[['Good food at your doorstep', 'A good hotel ...</td>\n",
       "      <td>/Restaurant_Review-g187147-d1912643-Reviews-R_...</td>\n",
       "      <td>1912643</td>\n",
       "      <td>3</td>\n",
       "      <td>[2017-11-20 00:00:00, 2017-12-31 00:00:00]</td>\n",
       "      <td>2017-11-20</td>\n",
       "      <td>2017-12-31</td>\n",
       "    </tr>\n",
       "    <tr>\n",
       "      <th>1</th>\n",
       "      <td>1535</td>\n",
       "      <td>Stockholm</td>\n",
       "      <td>[Unknown]</td>\n",
       "      <td>1537.0</td>\n",
       "      <td>4.0</td>\n",
       "      <td>0</td>\n",
       "      <td>10.0</td>\n",
       "      <td>[['Unique cuisine', 'Delicious Nepalese food']...</td>\n",
       "      <td>/Restaurant_Review-g189852-d7992032-Reviews-Bu...</td>\n",
       "      <td>7992032</td>\n",
       "      <td>1</td>\n",
       "      <td>[2016-06-19 00:00:00, 2017-07-06 00:00:00]</td>\n",
       "      <td>2016-06-19</td>\n",
       "      <td>2017-07-06</td>\n",
       "    </tr>\n",
       "    <tr>\n",
       "      <th>2</th>\n",
       "      <td>352</td>\n",
       "      <td>London</td>\n",
       "      <td>[Japanese, Sushi, Asian, Grill, Vegetarian Fri...</td>\n",
       "      <td>353.0</td>\n",
       "      <td>4.5</td>\n",
       "      <td>3</td>\n",
       "      <td>688.0</td>\n",
       "      <td>[['Catch up with friends', 'Not exceptional'],...</td>\n",
       "      <td>/Restaurant_Review-g186338-d8632781-Reviews-RO...</td>\n",
       "      <td>8632781</td>\n",
       "      <td>7</td>\n",
       "      <td>[2018-01-06 00:00:00, 2018-01-08 00:00:00]</td>\n",
       "      <td>2018-01-06</td>\n",
       "      <td>2018-01-08</td>\n",
       "    </tr>\n",
       "    <tr>\n",
       "      <th>3</th>\n",
       "      <td>3456</td>\n",
       "      <td>Berlin</td>\n",
       "      <td>[Unknown]</td>\n",
       "      <td>3458.0</td>\n",
       "      <td>5.0</td>\n",
       "      <td>0</td>\n",
       "      <td>3.0</td>\n",
       "      <td>[[], []]</td>\n",
       "      <td>/Restaurant_Review-g187323-d1358776-Reviews-Es...</td>\n",
       "      <td>1358776</td>\n",
       "      <td>1</td>\n",
       "      <td>[]</td>\n",
       "      <td>NaT</td>\n",
       "      <td>NaT</td>\n",
       "    </tr>\n",
       "    <tr>\n",
       "      <th>4</th>\n",
       "      <td>615</td>\n",
       "      <td>Munich</td>\n",
       "      <td>[German, Central European, Vegetarian Friendly]</td>\n",
       "      <td>621.0</td>\n",
       "      <td>4.0</td>\n",
       "      <td>2</td>\n",
       "      <td>84.0</td>\n",
       "      <td>[['Best place to try a Bavarian food', 'Nice b...</td>\n",
       "      <td>/Restaurant_Review-g187309-d6864963-Reviews-Au...</td>\n",
       "      <td>6864963</td>\n",
       "      <td>3</td>\n",
       "      <td>[2017-02-19 00:00:00, 2017-11-18 00:00:00]</td>\n",
       "      <td>2017-02-19</td>\n",
       "      <td>2017-11-18</td>\n",
       "    </tr>\n",
       "  </tbody>\n",
       "</table>\n",
       "</div>"
      ],
      "text/plain": [
       "     id       city                                      cuisine_style  \\\n",
       "0  5569      Paris                  [European, French, International]   \n",
       "1  1535  Stockholm                                          [Unknown]   \n",
       "2   352     London  [Japanese, Sushi, Asian, Grill, Vegetarian Fri...   \n",
       "3  3456     Berlin                                          [Unknown]   \n",
       "4   615     Munich    [German, Central European, Vegetarian Friendly]   \n",
       "\n",
       "   ranking  rating  price_range  number_of_reviews  \\\n",
       "0   5570.0     3.5            2              194.0   \n",
       "1   1537.0     4.0            0               10.0   \n",
       "2    353.0     4.5            3              688.0   \n",
       "3   3458.0     5.0            0                3.0   \n",
       "4    621.0     4.0            2               84.0   \n",
       "\n",
       "                                             reviews  \\\n",
       "0  [['Good food at your doorstep', 'A good hotel ...   \n",
       "1  [['Unique cuisine', 'Delicious Nepalese food']...   \n",
       "2  [['Catch up with friends', 'Not exceptional'],...   \n",
       "3                                           [[], []]   \n",
       "4  [['Best place to try a Bavarian food', 'Nice b...   \n",
       "\n",
       "                                              url_ta    id_ta  cuis_num  \\\n",
       "0  /Restaurant_Review-g187147-d1912643-Reviews-R_...  1912643         3   \n",
       "1  /Restaurant_Review-g189852-d7992032-Reviews-Bu...  7992032         1   \n",
       "2  /Restaurant_Review-g186338-d8632781-Reviews-RO...  8632781         7   \n",
       "3  /Restaurant_Review-g187323-d1358776-Reviews-Es...  1358776         1   \n",
       "4  /Restaurant_Review-g187309-d6864963-Reviews-Au...  6864963         3   \n",
       "\n",
       "                                     date_rev      rev_1      rev_2  \n",
       "0  [2017-11-20 00:00:00, 2017-12-31 00:00:00] 2017-11-20 2017-12-31  \n",
       "1  [2016-06-19 00:00:00, 2017-07-06 00:00:00] 2016-06-19 2017-07-06  \n",
       "2  [2018-01-06 00:00:00, 2018-01-08 00:00:00] 2018-01-06 2018-01-08  \n",
       "3                                          []        NaT        NaT  \n",
       "4  [2017-02-19 00:00:00, 2017-11-18 00:00:00] 2017-02-19 2017-11-18  "
      ]
     },
     "execution_count": 12,
     "metadata": {},
     "output_type": "execute_result"
    }
   ],
   "source": [
    "#Разделим столбец date_rev на два с двумя датами ревью:\n",
    "df[\"rev_1\"] = df[\"date_rev\"].apply(lambda x: x[0] if len(x)>=1 else None)\n",
    "df[\"rev_2\"] = df[\"date_rev\"].apply(lambda x: x[1] if len(x)==2 else None)\n",
    "df.head()"
   ]
  },
  {
   "cell_type": "code",
   "execution_count": 13,
   "metadata": {},
   "outputs": [
    {
     "data": {
      "text/plain": [
       "0        1291.0\n",
       "1        1469.0\n",
       "2        1283.0\n",
       "3           0.0\n",
       "4        1334.0\n",
       "          ...  \n",
       "39995    1306.0\n",
       "39996    1301.0\n",
       "39997    1714.0\n",
       "39998    1464.0\n",
       "39999    1991.0\n",
       "Name: days, Length: 40000, dtype: float64"
      ]
     },
     "execution_count": 13,
     "metadata": {},
     "output_type": "execute_result"
    }
   ],
   "source": [
    "#добавим столбец с количеством дней с последнего ревью:\n",
    "df['days'] = pd.to_datetime(df.rev_2).sub(pd.Timestamp('2021-07-14')).dt.days\n",
    "df['days'] = abs(df.days)\n",
    "df['days']= df['days'].fillna(0)\n",
    "df['days']"
   ]
  },
  {
   "cell_type": "code",
   "execution_count": 14,
   "metadata": {},
   "outputs": [],
   "source": [
    "#добавим столбец с количеством дней (разницей) между первым и вторым ревью:\n",
    "df['days_dif'] = pd.to_datetime(df.rev_2).sub(df.rev_1).dt.days\n",
    "df['days_dif'] = df['days_dif'].fillna(0)"
   ]
  },
  {
   "cell_type": "code",
   "execution_count": 15,
   "metadata": {},
   "outputs": [],
   "source": [
    "#в столбце review - ноль нулевых значений, при этом в столбце количество \n",
    "#ревью они есть. Очевидно, это пропуски. Заполним их не нулевым значением (1):\n",
    "\n",
    "def number_reviews(row):\n",
    "    if pd.isnull(row['number_of_reviews']):\n",
    "        if row['reviews'] is None:\n",
    "            return 0\n",
    "        else:\n",
    "            return 1\n",
    "    return row['number_of_reviews']\n",
    "\n",
    "df['number_of_reviews'] = df.apply(number_reviews, axis = 1)\n",
    "\n"
   ]
  },
  {
   "cell_type": "code",
   "execution_count": 17,
   "metadata": {},
   "outputs": [
    {
     "data": {
      "text/html": [
       "<div>\n",
       "<style scoped>\n",
       "    .dataframe tbody tr th:only-of-type {\n",
       "        vertical-align: middle;\n",
       "    }\n",
       "\n",
       "    .dataframe tbody tr th {\n",
       "        vertical-align: top;\n",
       "    }\n",
       "\n",
       "    .dataframe thead th {\n",
       "        text-align: right;\n",
       "    }\n",
       "</style>\n",
       "<table border=\"1\" class=\"dataframe\">\n",
       "  <thead>\n",
       "    <tr style=\"text-align: right;\">\n",
       "      <th></th>\n",
       "      <th>id</th>\n",
       "      <th>cuisine_style</th>\n",
       "      <th>ranking</th>\n",
       "      <th>rating</th>\n",
       "      <th>price_range</th>\n",
       "      <th>number_of_reviews</th>\n",
       "      <th>reviews</th>\n",
       "      <th>url_ta</th>\n",
       "      <th>id_ta</th>\n",
       "      <th>cuis_num</th>\n",
       "      <th>...</th>\n",
       "      <th>city_munich</th>\n",
       "      <th>city_oporto</th>\n",
       "      <th>city_oslo</th>\n",
       "      <th>city_paris</th>\n",
       "      <th>city_prague</th>\n",
       "      <th>city_rome</th>\n",
       "      <th>city_stockholm</th>\n",
       "      <th>city_vienna</th>\n",
       "      <th>city_warsaw</th>\n",
       "      <th>city_zurich</th>\n",
       "    </tr>\n",
       "  </thead>\n",
       "  <tbody>\n",
       "    <tr>\n",
       "      <th>0</th>\n",
       "      <td>5569</td>\n",
       "      <td>[European, French, International]</td>\n",
       "      <td>5570.0</td>\n",
       "      <td>3.5</td>\n",
       "      <td>2</td>\n",
       "      <td>194.0</td>\n",
       "      <td>[['Good food at your doorstep', 'A good hotel ...</td>\n",
       "      <td>/Restaurant_Review-g187147-d1912643-Reviews-R_...</td>\n",
       "      <td>1912643</td>\n",
       "      <td>3</td>\n",
       "      <td>...</td>\n",
       "      <td>0</td>\n",
       "      <td>0</td>\n",
       "      <td>0</td>\n",
       "      <td>1</td>\n",
       "      <td>0</td>\n",
       "      <td>0</td>\n",
       "      <td>0</td>\n",
       "      <td>0</td>\n",
       "      <td>0</td>\n",
       "      <td>0</td>\n",
       "    </tr>\n",
       "    <tr>\n",
       "      <th>1</th>\n",
       "      <td>1535</td>\n",
       "      <td>[Unknown]</td>\n",
       "      <td>1537.0</td>\n",
       "      <td>4.0</td>\n",
       "      <td>0</td>\n",
       "      <td>10.0</td>\n",
       "      <td>[['Unique cuisine', 'Delicious Nepalese food']...</td>\n",
       "      <td>/Restaurant_Review-g189852-d7992032-Reviews-Bu...</td>\n",
       "      <td>7992032</td>\n",
       "      <td>1</td>\n",
       "      <td>...</td>\n",
       "      <td>0</td>\n",
       "      <td>0</td>\n",
       "      <td>0</td>\n",
       "      <td>0</td>\n",
       "      <td>0</td>\n",
       "      <td>0</td>\n",
       "      <td>1</td>\n",
       "      <td>0</td>\n",
       "      <td>0</td>\n",
       "      <td>0</td>\n",
       "    </tr>\n",
       "    <tr>\n",
       "      <th>2</th>\n",
       "      <td>352</td>\n",
       "      <td>[Japanese, Sushi, Asian, Grill, Vegetarian Fri...</td>\n",
       "      <td>353.0</td>\n",
       "      <td>4.5</td>\n",
       "      <td>3</td>\n",
       "      <td>688.0</td>\n",
       "      <td>[['Catch up with friends', 'Not exceptional'],...</td>\n",
       "      <td>/Restaurant_Review-g186338-d8632781-Reviews-RO...</td>\n",
       "      <td>8632781</td>\n",
       "      <td>7</td>\n",
       "      <td>...</td>\n",
       "      <td>0</td>\n",
       "      <td>0</td>\n",
       "      <td>0</td>\n",
       "      <td>0</td>\n",
       "      <td>0</td>\n",
       "      <td>0</td>\n",
       "      <td>0</td>\n",
       "      <td>0</td>\n",
       "      <td>0</td>\n",
       "      <td>0</td>\n",
       "    </tr>\n",
       "    <tr>\n",
       "      <th>3</th>\n",
       "      <td>3456</td>\n",
       "      <td>[Unknown]</td>\n",
       "      <td>3458.0</td>\n",
       "      <td>5.0</td>\n",
       "      <td>0</td>\n",
       "      <td>3.0</td>\n",
       "      <td>[[], []]</td>\n",
       "      <td>/Restaurant_Review-g187323-d1358776-Reviews-Es...</td>\n",
       "      <td>1358776</td>\n",
       "      <td>1</td>\n",
       "      <td>...</td>\n",
       "      <td>0</td>\n",
       "      <td>0</td>\n",
       "      <td>0</td>\n",
       "      <td>0</td>\n",
       "      <td>0</td>\n",
       "      <td>0</td>\n",
       "      <td>0</td>\n",
       "      <td>0</td>\n",
       "      <td>0</td>\n",
       "      <td>0</td>\n",
       "    </tr>\n",
       "    <tr>\n",
       "      <th>4</th>\n",
       "      <td>615</td>\n",
       "      <td>[German, Central European, Vegetarian Friendly]</td>\n",
       "      <td>621.0</td>\n",
       "      <td>4.0</td>\n",
       "      <td>2</td>\n",
       "      <td>84.0</td>\n",
       "      <td>[['Best place to try a Bavarian food', 'Nice b...</td>\n",
       "      <td>/Restaurant_Review-g187309-d6864963-Reviews-Au...</td>\n",
       "      <td>6864963</td>\n",
       "      <td>3</td>\n",
       "      <td>...</td>\n",
       "      <td>1</td>\n",
       "      <td>0</td>\n",
       "      <td>0</td>\n",
       "      <td>0</td>\n",
       "      <td>0</td>\n",
       "      <td>0</td>\n",
       "      <td>0</td>\n",
       "      <td>0</td>\n",
       "      <td>0</td>\n",
       "      <td>0</td>\n",
       "    </tr>\n",
       "  </tbody>\n",
       "</table>\n",
       "<p>5 rows × 46 columns</p>\n",
       "</div>"
      ],
      "text/plain": [
       "     id                                      cuisine_style  ranking  rating  \\\n",
       "0  5569                  [European, French, International]   5570.0     3.5   \n",
       "1  1535                                          [Unknown]   1537.0     4.0   \n",
       "2   352  [Japanese, Sushi, Asian, Grill, Vegetarian Fri...    353.0     4.5   \n",
       "3  3456                                          [Unknown]   3458.0     5.0   \n",
       "4   615    [German, Central European, Vegetarian Friendly]    621.0     4.0   \n",
       "\n",
       "   price_range  number_of_reviews  \\\n",
       "0            2              194.0   \n",
       "1            0               10.0   \n",
       "2            3              688.0   \n",
       "3            0                3.0   \n",
       "4            2               84.0   \n",
       "\n",
       "                                             reviews  \\\n",
       "0  [['Good food at your doorstep', 'A good hotel ...   \n",
       "1  [['Unique cuisine', 'Delicious Nepalese food']...   \n",
       "2  [['Catch up with friends', 'Not exceptional'],...   \n",
       "3                                           [[], []]   \n",
       "4  [['Best place to try a Bavarian food', 'Nice b...   \n",
       "\n",
       "                                              url_ta    id_ta  cuis_num  ...  \\\n",
       "0  /Restaurant_Review-g187147-d1912643-Reviews-R_...  1912643         3  ...   \n",
       "1  /Restaurant_Review-g189852-d7992032-Reviews-Bu...  7992032         1  ...   \n",
       "2  /Restaurant_Review-g186338-d8632781-Reviews-RO...  8632781         7  ...   \n",
       "3  /Restaurant_Review-g187323-d1358776-Reviews-Es...  1358776         1  ...   \n",
       "4  /Restaurant_Review-g187309-d6864963-Reviews-Au...  6864963         3  ...   \n",
       "\n",
       "  city_munich city_oporto city_oslo  city_paris  city_prague  city_rome  \\\n",
       "0           0           0         0           1            0          0   \n",
       "1           0           0         0           0            0          0   \n",
       "2           0           0         0           0            0          0   \n",
       "3           0           0         0           0            0          0   \n",
       "4           1           0         0           0            0          0   \n",
       "\n",
       "   city_stockholm  city_vienna  city_warsaw  city_zurich  \n",
       "0               0            0            0            0  \n",
       "1               1            0            0            0  \n",
       "2               0            0            0            0  \n",
       "3               0            0            0            0  \n",
       "4               0            0            0            0  \n",
       "\n",
       "[5 rows x 46 columns]"
      ]
     },
     "execution_count": 17,
     "metadata": {},
     "output_type": "execute_result"
    }
   ],
   "source": [
    "#преобразуем столбец city в dummy-переменные:\n",
    "df.city = df.city.apply(lambda x: x.lower())\n",
    "df4=df.copy() #делаю копию df на случай, если понадобится откатить изменения\n",
    "\n",
    "df4 = pd.get_dummies(df4, columns=['city'])\n",
    "df4.head()"
   ]
  },
  {
   "cell_type": "code",
   "execution_count": 18,
   "metadata": {},
   "outputs": [
    {
     "name": "stdout",
     "output_type": "stream",
     "text": [
      "<class 'pandas.core.frame.DataFrame'>\n",
      "RangeIndex: 40000 entries, 0 to 39999\n",
      "Data columns (total 46 columns):\n",
      " #   Column             Non-Null Count  Dtype         \n",
      "---  ------             --------------  -----         \n",
      " 0   id                 40000 non-null  int64         \n",
      " 1   cuisine_style      40000 non-null  object        \n",
      " 2   ranking            40000 non-null  float64       \n",
      " 3   rating             40000 non-null  float64       \n",
      " 4   price_range        40000 non-null  int64         \n",
      " 5   number_of_reviews  40000 non-null  float64       \n",
      " 6   reviews            40000 non-null  object        \n",
      " 7   url_ta             40000 non-null  object        \n",
      " 8   id_ta              40000 non-null  int64         \n",
      " 9   cuis_num           40000 non-null  int64         \n",
      " 10  date_rev           40000 non-null  object        \n",
      " 11  rev_1              33529 non-null  datetime64[ns]\n",
      " 12  rev_2              28971 non-null  datetime64[ns]\n",
      " 13  days               40000 non-null  float64       \n",
      " 14  days_dif           40000 non-null  float64       \n",
      " 15  city_amsterdam     40000 non-null  uint8         \n",
      " 16  city_athens        40000 non-null  uint8         \n",
      " 17  city_barcelona     40000 non-null  uint8         \n",
      " 18  city_berlin        40000 non-null  uint8         \n",
      " 19  city_bratislava    40000 non-null  uint8         \n",
      " 20  city_brussels      40000 non-null  uint8         \n",
      " 21  city_budapest      40000 non-null  uint8         \n",
      " 22  city_copenhagen    40000 non-null  uint8         \n",
      " 23  city_dublin        40000 non-null  uint8         \n",
      " 24  city_edinburgh     40000 non-null  uint8         \n",
      " 25  city_geneva        40000 non-null  uint8         \n",
      " 26  city_hamburg       40000 non-null  uint8         \n",
      " 27  city_helsinki      40000 non-null  uint8         \n",
      " 28  city_krakow        40000 non-null  uint8         \n",
      " 29  city_lisbon        40000 non-null  uint8         \n",
      " 30  city_ljubljana     40000 non-null  uint8         \n",
      " 31  city_london        40000 non-null  uint8         \n",
      " 32  city_luxembourg    40000 non-null  uint8         \n",
      " 33  city_lyon          40000 non-null  uint8         \n",
      " 34  city_madrid        40000 non-null  uint8         \n",
      " 35  city_milan         40000 non-null  uint8         \n",
      " 36  city_munich        40000 non-null  uint8         \n",
      " 37  city_oporto        40000 non-null  uint8         \n",
      " 38  city_oslo          40000 non-null  uint8         \n",
      " 39  city_paris         40000 non-null  uint8         \n",
      " 40  city_prague        40000 non-null  uint8         \n",
      " 41  city_rome          40000 non-null  uint8         \n",
      " 42  city_stockholm     40000 non-null  uint8         \n",
      " 43  city_vienna        40000 non-null  uint8         \n",
      " 44  city_warsaw        40000 non-null  uint8         \n",
      " 45  city_zurich        40000 non-null  uint8         \n",
      "dtypes: datetime64[ns](2), float64(5), int64(4), object(4), uint8(31)\n",
      "memory usage: 5.8+ MB\n"
     ]
    }
   ],
   "source": [
    "df4.info()"
   ]
  },
  {
   "cell_type": "code",
   "execution_count": 19,
   "metadata": {},
   "outputs": [
    {
     "name": "stdout",
     "output_type": "stream",
     "text": [
      "<class 'pandas.core.frame.DataFrame'>\n",
      "RangeIndex: 40000 entries, 0 to 39999\n",
      "Data columns (total 40 columns):\n",
      " #   Column             Non-Null Count  Dtype  \n",
      "---  ------             --------------  -----  \n",
      " 0   id                 40000 non-null  int64  \n",
      " 1   ranking            40000 non-null  float64\n",
      " 2   rating             40000 non-null  float64\n",
      " 3   price_range        40000 non-null  int64  \n",
      " 4   number_of_reviews  40000 non-null  float64\n",
      " 5   id_ta              40000 non-null  int64  \n",
      " 6   cuis_num           40000 non-null  int64  \n",
      " 7   days               40000 non-null  float64\n",
      " 8   days_dif           40000 non-null  float64\n",
      " 9   city_amsterdam     40000 non-null  uint8  \n",
      " 10  city_athens        40000 non-null  uint8  \n",
      " 11  city_barcelona     40000 non-null  uint8  \n",
      " 12  city_berlin        40000 non-null  uint8  \n",
      " 13  city_bratislava    40000 non-null  uint8  \n",
      " 14  city_brussels      40000 non-null  uint8  \n",
      " 15  city_budapest      40000 non-null  uint8  \n",
      " 16  city_copenhagen    40000 non-null  uint8  \n",
      " 17  city_dublin        40000 non-null  uint8  \n",
      " 18  city_edinburgh     40000 non-null  uint8  \n",
      " 19  city_geneva        40000 non-null  uint8  \n",
      " 20  city_hamburg       40000 non-null  uint8  \n",
      " 21  city_helsinki      40000 non-null  uint8  \n",
      " 22  city_krakow        40000 non-null  uint8  \n",
      " 23  city_lisbon        40000 non-null  uint8  \n",
      " 24  city_ljubljana     40000 non-null  uint8  \n",
      " 25  city_london        40000 non-null  uint8  \n",
      " 26  city_luxembourg    40000 non-null  uint8  \n",
      " 27  city_lyon          40000 non-null  uint8  \n",
      " 28  city_madrid        40000 non-null  uint8  \n",
      " 29  city_milan         40000 non-null  uint8  \n",
      " 30  city_munich        40000 non-null  uint8  \n",
      " 31  city_oporto        40000 non-null  uint8  \n",
      " 32  city_oslo          40000 non-null  uint8  \n",
      " 33  city_paris         40000 non-null  uint8  \n",
      " 34  city_prague        40000 non-null  uint8  \n",
      " 35  city_rome          40000 non-null  uint8  \n",
      " 36  city_stockholm     40000 non-null  uint8  \n",
      " 37  city_vienna        40000 non-null  uint8  \n",
      " 38  city_warsaw        40000 non-null  uint8  \n",
      " 39  city_zurich        40000 non-null  uint8  \n",
      "dtypes: float64(5), int64(4), uint8(31)\n",
      "memory usage: 3.9 MB\n"
     ]
    }
   ],
   "source": [
    "#удалим не-числовые столбцы\n",
    "\n",
    "df4 = df4.drop(['cuisine_style', 'reviews', 'url_ta', 'date_rev', 'rev_1', \n",
    "          'rev_2'], axis=1)\n",
    "df4.info()"
   ]
  },
  {
   "cell_type": "code",
   "execution_count": null,
   "metadata": {},
   "outputs": [],
   "source": []
  },
  {
   "cell_type": "code",
   "execution_count": null,
   "metadata": {},
   "outputs": [],
   "source": []
  },
  {
   "cell_type": "code",
   "execution_count": null,
   "metadata": {},
   "outputs": [],
   "source": []
  },
  {
   "cell_type": "markdown",
   "metadata": {},
   "source": [
    "# Разбиваем датафрейм на части, необходимые для обучения и тестирования модели"
   ]
  },
  {
   "cell_type": "code",
   "execution_count": 20,
   "metadata": {},
   "outputs": [],
   "source": [
    "# Х - данные с информацией о ресторанах, у - целевая переменная (рейтинги ресторанов)\n",
    "X = df4.drop(['id', 'rating'], axis = 1)\n",
    "y = df4['rating']"
   ]
  },
  {
   "cell_type": "code",
   "execution_count": 21,
   "metadata": {},
   "outputs": [],
   "source": [
    "# Загружаем специальный инструмент для разбивки:\n",
    "from sklearn.model_selection import train_test_split"
   ]
  },
  {
   "cell_type": "code",
   "execution_count": 22,
   "metadata": {},
   "outputs": [],
   "source": [
    "# Наборы данных с меткой \"train\" будут использоваться для обучения модели, \"test\" - для тестирования.\n",
    "# Для тестирования мы будем использовать 25% от исходного датасета.\n",
    "X_train, X_test, y_train, y_test = train_test_split(X, y, test_size=0.25)"
   ]
  },
  {
   "cell_type": "markdown",
   "metadata": {},
   "source": [
    "# Создаём, обучаем и тестируем модель"
   ]
  },
  {
   "cell_type": "code",
   "execution_count": 23,
   "metadata": {},
   "outputs": [],
   "source": [
    "# Импортируем необходимые библиотеки:\n",
    "from sklearn.ensemble import RandomForestRegressor # инструмент для создания и обучения модели\n",
    "from sklearn import metrics # инструменты для оценки точности модели"
   ]
  },
  {
   "cell_type": "code",
   "execution_count": 24,
   "metadata": {},
   "outputs": [],
   "source": [
    "# Создаём модель\n",
    "regr = RandomForestRegressor(n_estimators=100)\n",
    "\n",
    "# Обучаем модель на тестовом наборе данных\n",
    "regr.fit(X_train, y_train)\n",
    "\n",
    "# Используем обученную модель для предсказания рейтинга ресторанов в тестовой выборке.\n",
    "# Предсказанные значения записываем в переменную y_pred\n",
    "y_pred = regr.predict(X_test)"
   ]
  },
  {
   "cell_type": "code",
   "execution_count": 25,
   "metadata": {},
   "outputs": [
    {
     "name": "stdout",
     "output_type": "stream",
     "text": [
      "MAE: 0.21549300000000002\n"
     ]
    }
   ],
   "source": [
    "# Сравниваем предсказанные значения (y_pred) с реальными (y_test), и смотрим насколько они в среднем отличаются\n",
    "# Метрика называется Mean Absolute Error (MAE) и показывает среднее отклонение предсказанных значений от фактических.\n",
    "print('MAE:', metrics.mean_absolute_error(y_test, y_pred))"
   ]
  },
  {
   "cell_type": "code",
   "execution_count": null,
   "metadata": {},
   "outputs": [],
   "source": [
    "#Искомая точность модели, \"как у автора\" получена"
   ]
  }
 ],
 "metadata": {
  "kernelspec": {
   "display_name": "Python 3",
   "language": "python",
   "name": "python3"
  },
  "language_info": {
   "codemirror_mode": {
    "name": "ipython",
    "version": 3
   },
   "file_extension": ".py",
   "mimetype": "text/x-python",
   "name": "python",
   "nbconvert_exporter": "python",
   "pygments_lexer": "ipython3",
   "version": "3.8.5"
  }
 },
 "nbformat": 4,
 "nbformat_minor": 2
}
